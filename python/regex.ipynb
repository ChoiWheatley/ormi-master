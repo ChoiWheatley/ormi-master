{
 "cells": [
  {
   "attachments": {},
   "cell_type": "markdown",
   "metadata": {},
   "source": [
    "`re` 모듈과 정규표현식 연습문제들 모음\n"
   ]
  },
  {
   "attachments": {},
   "cell_type": "markdown",
   "metadata": {},
   "source": [
    "- 정규표현식에서 자주 사용되는 패턴\n",
    "\n",
    "  - 아래와 같이 2가지 방법으로 사용할 수 있습니다.\n",
    "\n",
    "  ```python\n",
    "  # 1\n",
    "  p = re.compile(r'([0-9]|10)([SDT])([\\*\\#]?)')\n",
    "  p.findall('1S2D*3T')\n",
    "\n",
    "  # 2\n",
    "  re.findall(r'([0-9]|10)([SDT])([\\*\\#]?)', '1S2D*3T')\n",
    "  ```\n",
    "\n",
    "  - compile() : 패턴 컴파일\n",
    "  - match() : 문자열의 앞 부분이 매치되는가를 체크, 추출\n",
    "  - sub() : 매치된 부분을 치환 (str에 replace와 같은 역활)\n",
    "  - search() : 선두에 한해서 매치하는지를 체크, 추출\n",
    "  - findall() : 매치된 부분 모두 리스트 반환\n",
    "  - finditer() : 정규식과 매치되는 모든 문자열(substring)을 반복 가능한 객체로 리턴한다.\n",
    "  - spilt() : 정규표현 패턴으로 문자열을 분할 (str에 split과 같은 역활)\n",
    "\n",
    "- 반환 객체의 값\n",
    "\n",
    "  - group() : 매치된 문자열\n",
    "  - groups() : 매치된 문자열 전체\n",
    "  - start() : 매치된 문자열의 시작 위치\n",
    "  - end() : 매치된 문자열의 끝 위치\n",
    "  - span() : 매치된 문자열의 시작과 끝\n",
    "\n",
    "- 컴파일 옵션(플래그)\n",
    "\n",
    "  - 사용 예\n",
    "\n",
    "  ```python\n",
    "  re.compile('[a-z]+', re.I)\n",
    "  ```\n",
    "\n",
    "  - `re.DOTALL` or `re.S ` : 줄바꿈 문자까지 모두 매칭\n",
    "  - `re.IGNORECASE` or `re.I` : 대소문자 구분하지 않음\n",
    "  - `re.MULTILINE` or `re.M` : ^, & 등의 매칭 패턴을 라인마다 적용\n",
    "  - `re.VERBOSE` or `re.X` : 아래와 같이 #으로 주석문을 사용할 수 있음\n",
    "\n",
    "  ```python\n",
    "  a = re.compile(r\"\"\"\\d +  # the integral part\n",
    "                 \\.    # the decimal point\n",
    "                 \\d *  # some fractional digits\"\"\", re.X)\n",
    "  b = re.compile(r\"\\d+\\.\\d*\")\n",
    "  ```\n",
    "\n",
    "- tip\n",
    "  - 같은 패턴입니다.\n",
    "  ```\n",
    "  re.compile('\\\\\\\\section')\n",
    "  re.compile(r'\\\\section')\n",
    "  ```\n",
    "  - {}를 표현하고 싶을 때에는 중괄호 2개, 또는 때에 따라 3개가 필요합니다.\n",
    "  ```\n",
    "  re.compile(f'{{section}}')\n",
    "  ```\n"
   ]
  },
  {
   "cell_type": "code",
   "execution_count": 1,
   "metadata": {},
   "outputs": [
    {
     "data": {
      "text/plain": [
       "['hello', 'hallo', 'hollo']"
      ]
     },
     "execution_count": 1,
     "metadata": {},
     "output_type": "execute_result"
    }
   ],
   "source": [
    "import re\n",
    "\n",
    "text = \"\"\"hello\n",
    "hallo\n",
    "hollo\n",
    "hillo\n",
    "\"\"\"\n",
    "\n",
    "p = re.compile(\"h[eao]llo\")\n",
    "p.findall(text)\n"
   ]
  },
  {
   "cell_type": "code",
   "execution_count": 2,
   "metadata": {},
   "outputs": [
    {
     "data": {
      "text/plain": [
       "['010',\n",
       " '8752',\n",
       " '4037',\n",
       " '010',\n",
       " '8752',\n",
       " '4037',\n",
       " '010',\n",
       " '8752',\n",
       " '4037',\n",
       " '010',\n",
       " '8752',\n",
       " '4037',\n",
       " '01087524037',\n",
       " '010',\n",
       " '9091',\n",
       " '5491',\n",
       " '010',\n",
       " '5043',\n",
       " '2901',\n",
       " '010',\n",
       " '5050',\n",
       " '40409',\n",
       " '010',\n",
       " '49492',\n",
       " '3131',\n",
       " '010',\n",
       " '2913',\n",
       " '3132',\n",
       " '01019133829',\n",
       " '064',\n",
       " '721',\n",
       " '3213',\n",
       " '010',\n",
       " '1913',\n",
       " '3829']"
      ]
     },
     "execution_count": 2,
     "metadata": {},
     "output_type": "execute_result"
    }
   ],
   "source": [
    "import re\n",
    "\n",
    "text = \"\"\"\n",
    "010-8752-4037\n",
    "010.8752.4037\n",
    "010 8752 4037\n",
    "010/8752/4037\n",
    "01087524037\n",
    "010-9091-5491\n",
    "010-5043-2901\n",
    "010-5050-40409\n",
    "010-49492-3131\n",
    "010 2913 3132\n",
    "01019133829\n",
    "064-721-3213\n",
    "010.1913.3829\n",
    "\"\"\"\n",
    "p = re.compile(r\"\\w+\")\n",
    "p.findall(text)\n"
   ]
  },
  {
   "cell_type": "code",
   "execution_count": 3,
   "metadata": {},
   "outputs": [],
   "source": [
    "text = \"\"\"\n",
    "Sunday Monday Tuesday Wednesday Thursday Friday Saturday\n",
    "sunday monday tuesday wednesday thursday friday saturday\n",
    "\"\"\"\n"
   ]
  },
  {
   "cell_type": "code",
   "execution_count": 4,
   "metadata": {},
   "outputs": [],
   "source": [
    "text = \"\"\"\n",
    "chltmdgus604@gmail.com\n",
    "test.test@go.go.go\n",
    "sfjd!@naver.com\n",
    "\"\"\"\n"
   ]
  },
  {
   "attachments": {},
   "cell_type": "markdown",
   "metadata": {},
   "source": [
    "[숨어있는 숫자의 덧셈](https://school.programmers.co.kr/learn/courses/30/lessons/120851)\n"
   ]
  },
  {
   "cell_type": "code",
   "execution_count": 5,
   "metadata": {},
   "outputs": [
    {
     "data": {
      "text/plain": [
       "['1', '2', '3', '4']"
      ]
     },
     "execution_count": 5,
     "metadata": {},
     "output_type": "execute_result"
    }
   ],
   "source": [
    "import re\n",
    "\n",
    "my_string = \"aAb1B2cC34oOp\"\n",
    "\n",
    "re.findall(\"\\d\", my_string)\n"
   ]
  },
  {
   "attachments": {},
   "cell_type": "markdown",
   "metadata": {},
   "source": [
    "# re.group\n",
    "\n",
    "https://docs.python.org/3/library/re.html#re.Match.group\n",
    "\n",
    "regex에서 그룹을 사용하면 인덱싱을 돌릴 수 있다.\n",
    "\n",
    "If the regular expression uses the `(?P<name>...)` syntax, the groupN arguments may also be strings identifying groups by their group name.\n"
   ]
  },
  {
   "attachments": {},
   "cell_type": "markdown",
   "metadata": {},
   "source": [
    "# re.sub\n",
    "\n",
    "[re.sub]\n",
    "\n",
    "[re.sub]: https://docs.python.org/3/library/re.html#re.sub\n"
   ]
  },
  {
   "attachments": {},
   "cell_type": "markdown",
   "metadata": {},
   "source": [
    "미국식, 영국식 날짜로 표기하시오\n",
    "\n",
    "입력: '2023/05/16'\n",
    "출력1: '05/16/2023' 미국식 날짜 표기 월 -> 일 -> 년 순임...\n",
    "출력2: '16/05/0223' 영국식 날짜 표기 일 -> 월 -> 년 순임...\n"
   ]
  },
  {
   "cell_type": "code",
   "execution_count": 6,
   "metadata": {},
   "outputs": [
    {
     "name": "stdout",
     "output_type": "stream",
     "text": [
      "[('2023', '05', '16'), ('1997', '09', '26'), ('1968', '10', '06'), ('1973', '05', '20'), ('1999', '06', '19')]\n",
      "\n",
      "미국식 날짜표기\n",
      "\n",
      "05/16/2023\n",
      "09/26/1997\n",
      "10/06/1968\n",
      "05/20/1973\n",
      "06/19/1999\n",
      "\n",
      "영국식 날짜표기\n",
      "\n",
      "16/05/2023\n",
      "26/09/1997\n",
      "06/10/1968\n",
      "20/05/1973\n",
      "19/06/1999\n"
     ]
    }
   ],
   "source": [
    "import re\n",
    "\n",
    "# regex 그룹에 변수명을 붙일 수 있다... 바로 '?P<var-name>'\n",
    "pattern = r\"(?P<year>[0-9]{4})/(?P<month>[0-9]{2})/(?P<day>[0-9]{2})\"\n",
    "r = re.compile(pattern)\n",
    "strings = \"\"\"2023/05/16\n",
    "1997/09/26\n",
    "1968/10/06\n",
    "1973/05/20\n",
    "1999/06/19\"\"\"\n",
    "print(r.findall(strings))\n",
    "\n",
    "print(\"\\n미국식 날짜표기\\n\")\n",
    "for s in strings.split(\"\\n\"):\n",
    "    print(r.sub(r\"\\g<month>/\\g<day>/\\g<year>\", s))\n",
    "\n",
    "print(\"\\n영국식 날짜표기\\n\")\n",
    "for s in strings.split(\"\\n\"):\n",
    "    print(r.sub(r\"\\g<day>/\\g<month>/\\g<year>\", s))\n"
   ]
  },
  {
   "attachments": {},
   "cell_type": "markdown",
   "metadata": {},
   "source": [
    "## Markdown 문법을 Html 문법으로\n",
    "\n",
    "Before:\n",
    "\n",
    "```\n",
    "# Hello world\n",
    "```\n",
    "\n",
    "After:\n",
    "\n",
    "```\n",
    "<h1>Hello world<h1>\n",
    "```\n"
   ]
  },
  {
   "cell_type": "code",
   "execution_count": 7,
   "metadata": {},
   "outputs": [
    {
     "name": "stdout",
     "output_type": "stream",
     "text": [
      "\n",
      "# This is a heading\n",
      "\n",
      "## This is a subheading\n",
      "\n",
      "* This is an unordered list item\n",
      "* This is another unordered list item\n",
      "\n",
      "**This is bold text**\n",
      "\n",
      "<em>This is italic text</em>\n",
      "\n",
      "<code>This is code</code>\n",
      "\n"
     ]
    }
   ],
   "source": [
    "import re\n",
    "\n",
    "text = \"\"\"\n",
    "# This is a heading\n",
    "\n",
    "## This is a subheading\n",
    "\n",
    "* This is an unordered list item\n",
    "* This is another unordered list item\n",
    "\n",
    "**This is bold text**\n",
    "\n",
    "_This is italic text_\n",
    "\n",
    "`This is code`\n",
    "\"\"\"\n",
    "\n",
    "\n",
    "def markdown_to_html(text):\n",
    "    \"\"\"\n",
    "    마크다운 텍스트를 HTML 문서로 변환합니다.\n",
    "\n",
    "    Args:\n",
    "        text: 변환할 마크다운 텍스트.\n",
    "\n",
    "    Returns:\n",
    "        변환된 HTML 문서.\n",
    "    \"\"\"\n",
    "\n",
    "    # 마크다운을 HTML로 변환하기 위한 정규식 패턴 목록입니다.\n",
    "    substitution_pairs = [\n",
    "        (r\"^# (.*)\", r\"<h1>\\1<h1>\"),\n",
    "        (r\"^## (.*)\", r\"<h2>\\1<h2>\"),\n",
    "        (r\"^### (.*)\", r\"<h3>\\1<h3>\"),\n",
    "        (r\"^#### (.*)\", r\"<h4>\\1<h4>\"),\n",
    "        (r\"^\\* (.*)\", r\"<ul><li>\\1</li></ul>\"),\n",
    "        (r\"^\\- (.*)\", r\"<ol><li>\\1</li></ol>\"),\n",
    "        # (r'**(.*)**', r'<strong>\\1</strong>'),  # 문제가 있는듯\n",
    "        (r\"_(.*)_\", r\"<em>\\1</em>\"),\n",
    "        (r\"`(.*)`\", r\"<code>\\1</code>\"),\n",
    "    ]\n",
    "\n",
    "    # 정규식 패턴을 사용하여 마크다운을 HTML로 변환합니다.\n",
    "    for pat, repl in substitution_pairs:\n",
    "        text = re.sub(pat, repl, text)\n",
    "\n",
    "    return text\n",
    "\n",
    "\n",
    "# HTML을 출력합니다.\n",
    "print(markdown_to_html(text))\n"
   ]
  },
  {
   "attachments": {},
   "cell_type": "markdown",
   "metadata": {},
   "source": [
    "근데 마크다운 문서를 html로 변환하는 파이썬 모듈 `markdown`이 있기는 하다.\n"
   ]
  },
  {
   "cell_type": "code",
   "execution_count": 8,
   "metadata": {},
   "outputs": [
    {
     "name": "stdout",
     "output_type": "stream",
     "text": [
      "<p># This is a heading</p>\n",
      "<p>This is some text.</p>\n",
      "<ul>\n",
      "<li>This is a bulleted list item.</li>\n",
      "<li>This is another bulleted list item.</li>\n",
      "</ul>\n",
      "<p>Here is a link: <a href=\"https://www.google.com\">Google</a>.</p>\n"
     ]
    }
   ],
   "source": [
    "import markdown\n",
    "\n",
    "\n",
    "def convert_markdown_to_html(markdown_text):\n",
    "    \"\"\"마크다운 텍스트를 HTML 문서로 변환합니다.\n",
    "\n",
    "    Args:\n",
    "      markdown_text: 변환할 마크다운 텍스트입니다.\n",
    "\n",
    "    Returns:\n",
    "      변환된 HTML 문서입니다.\n",
    "    \"\"\"\n",
    "\n",
    "    return markdown.markdown(markdown_text)\n",
    "\n",
    "\n",
    "if __name__ == \"__main__\":\n",
    "    markdown_text = \"\"\"\n",
    "    # This is a heading\n",
    "\n",
    "    This is some text.\n",
    "\n",
    "    * This is a bulleted list item.\n",
    "    * This is another bulleted list item.\n",
    "\n",
    "    Here is a link: [Google](https://www.google.com).\n",
    "    \"\"\"\n",
    "\n",
    "    html_text = convert_markdown_to_html(markdown_text)\n",
    "\n",
    "    print(html_text)\n"
   ]
  },
  {
   "attachments": {},
   "cell_type": "markdown",
   "metadata": {},
   "source": [
    "# re.findall\n",
    "\n",
    "[369 게임](https://school.programmers.co.kr/learn/courses/30/lessons/120891)\n",
    "\n",
    "주어진 숫자 안에 있는 3, 6, 9의 숫자를 세시오.\n"
   ]
  },
  {
   "cell_type": "code",
   "execution_count": 9,
   "metadata": {},
   "outputs": [
    {
     "data": {
      "text/plain": [
       "2"
      ]
     },
     "execution_count": 9,
     "metadata": {},
     "output_type": "execute_result"
    }
   ],
   "source": [
    "import re\n",
    "\n",
    "solution = lambda order: len(re.findall(\"[369]\", str(order)))\n",
    "\n",
    "solution(29423)"
   ]
  },
  {
   "attachments": {},
   "cell_type": "markdown",
   "metadata": {},
   "source": [
    "## 연습문제: 잘라서 배열로 저장하기\n",
    "\n",
    "https://school.programmers.co.kr/learn/courses/30/lessons/120913\n",
    "\n",
    "사실 슬라이싱 문법 사용하여 간단하게 풀어도 되지만 `findall`을 사용하여 풀어보자\n"
   ]
  },
  {
   "cell_type": "code",
   "execution_count": 10,
   "metadata": {},
   "outputs": [
    {
     "data": {
      "text/plain": [
       "['abc1Ad', 'dfggg4', '556b']"
      ]
     },
     "execution_count": 10,
     "metadata": {},
     "output_type": "execute_result"
    }
   ],
   "source": [
    "# slicing 사용\n",
    "def solution(my_str, n): return [my_str[l: l + n]\n",
    "                                 for l in range(0, len(my_str), n)]\n",
    "\n",
    "\n",
    "solution(\"abc1Addfggg4556b\", 6)\n"
   ]
  },
  {
   "cell_type": "code",
   "execution_count": 11,
   "metadata": {},
   "outputs": [
    {
     "data": {
      "text/plain": [
       "['abc1Ad', 'dfggg4', '556b']"
      ]
     },
     "execution_count": 11,
     "metadata": {},
     "output_type": "execute_result"
    }
   ],
   "source": [
    "import re\n",
    "\n",
    "# re.findall 사용\n",
    "# python에서 {를 넣기 위해선 {{를 사용하여야 합니다\n",
    "solution = lambda my_str, n: re.findall(f\".{{1,{n}}}\", my_str)\n",
    "solution(\"abc1Addfggg4556b\", 6)"
   ]
  },
  {
   "attachments": {},
   "cell_type": "markdown",
   "metadata": {},
   "source": [
    "## 연습문제: 영어가 싫어요\n",
    "\n",
    "https://school.programmers.co.kr/learn/courses/30/lessons/120894\n"
   ]
  },
  {
   "cell_type": "code",
   "execution_count": 12,
   "metadata": {},
   "outputs": [
    {
     "data": {
      "text/plain": [
       "123456789"
      ]
     },
     "execution_count": 12,
     "metadata": {},
     "output_type": "execute_result"
    }
   ],
   "source": [
    "import re\n",
    "\n",
    "pair = {\n",
    "    \"one\": \"1\",\n",
    "    \"two\": \"2\",\n",
    "    \"three\": \"3\",\n",
    "    \"four\": \"4\",\n",
    "    \"five\": \"5\",\n",
    "    \"six\": \"6\",\n",
    "    \"seven\": \"7\",\n",
    "    \"eight\": \"8\",\n",
    "    \"nine\": \"9\",\n",
    "    \"zero\": \"0\",\n",
    "}\n",
    "\n",
    "\n",
    "def solution(numbers):\n",
    "    return int(\n",
    "        \"\".join(\n",
    "            pair[i]\n",
    "            for i in re.findall(\n",
    "                r\"(zero|one|two|three|four|five|six|seven|eight|nine)\", numbers\n",
    "            )\n",
    "        )\n",
    "    )\n",
    "\n",
    "\n",
    "solution(\"onetwothreefourfivesixseveneightnine\")"
   ]
  },
  {
   "attachments": {},
   "cell_type": "markdown",
   "metadata": {},
   "source": [
    "## 연습문제: 암호문\n",
    "\n",
    "https://pyalgo.co.kr/?page=2#\n"
   ]
  },
  {
   "cell_type": "code",
   "execution_count": 21,
   "metadata": {},
   "outputs": [
    {
     "data": {
      "text/plain": [
       "'2월 6일'"
      ]
     },
     "execution_count": 21,
     "metadata": {},
     "output_type": "execute_result"
    }
   ],
   "source": [
    "import re\n",
    "\n",
    "\n",
    "def solution(string):\n",
    "    sum_ = sum(int(x) for x in re.findall(r\"[rev](10|[1-9])\", string))\n",
    "    sum_ = str(sum_)\n",
    "    return f\"{sum_[0]}월 {sum_[1]}일\"\n",
    "\n",
    "\n",
    "solution(\"a10b9r10ce33uab8wc918v2cv11v10\")"
   ]
  },
  {
   "attachments": {},
   "cell_type": "markdown",
   "metadata": {},
   "source": [
    "# re.split\n",
    "\n",
    "정규표현 패턴으로 문자열을 분할한다. `str.split`과 같음\n"
   ]
  },
  {
   "cell_type": "code",
   "execution_count": 13,
   "metadata": {},
   "outputs": [
    {
     "data": {
      "text/plain": [
       "['010', '8752', '4037']"
      ]
     },
     "execution_count": 13,
     "metadata": {},
     "output_type": "execute_result"
    }
   ],
   "source": [
    "import re\n",
    "\n",
    "s = \"010 8752!4037\"\n",
    "\n",
    "re.split(r\"[ !]\", s)\n"
   ]
  },
  {
   "attachments": {},
   "cell_type": "markdown",
   "metadata": {},
   "source": [
    "## beautiful soup 쓰지 않고 html 문서 파싱하기\n",
    "\n",
    "외부 모듈 의존성 줄이는 연습도 필요하다.\n"
   ]
  },
  {
   "cell_type": "code",
   "execution_count": 15,
   "metadata": {},
   "outputs": [],
   "source": [
    "html_text = \"\"\"\n",
    "<!DOCTYPE html>\n",
    "<html lang=\"ko\">\n",
    "<head>\n",
    "    <title>hello title</title>\n",
    "</head>\n",
    "<body>\n",
    "    <h1>hello h1</h1>\n",
    "    <p>hello p</p>\n",
    "</body>\n",
    "</html>\n",
    "\"\"\"\n"
   ]
  },
  {
   "cell_type": "code",
   "execution_count": 23,
   "metadata": {},
   "outputs": [
    {
     "data": {
      "text/plain": [
       "['',\n",
       " '',\n",
       " '',\n",
       " '',\n",
       " 'hello title',\n",
       " '',\n",
       " '',\n",
       " '',\n",
       " 'hello h1',\n",
       " '',\n",
       " 'hello p',\n",
       " '',\n",
       " '',\n",
       " '']"
      ]
     },
     "execution_count": 23,
     "metadata": {},
     "output_type": "execute_result"
    }
   ],
   "source": [
    "import re\n",
    "\n",
    "pat = r\"<[^<>*]*>\"\n",
    "\n",
    "[s.strip() for s in re.split(pat, html_text)]\n"
   ]
  },
  {
   "attachments": {},
   "cell_type": "markdown",
   "metadata": {},
   "source": [
    "# 연습문제: 프로그래머스 - 옹알이\n",
    "\n",
    "https://school.programmers.co.kr/learn/courses/30/lessons/120956?language=python3\n"
   ]
  },
  {
   "cell_type": "code",
   "execution_count": null,
   "metadata": {},
   "outputs": [],
   "source": [
    "import re\n",
    "\n",
    "\n",
    "def solution(babbling):\n",
    "    count = 0\n",
    "    p = [\"aya\", \"ye\", \"woo\", \"ma\"]\n",
    "    for i in babbling:\n",
    "        print(\"------------\")\n",
    "        print(i)\n",
    "        for pattern in p:\n",
    "            # sub를 사용하면 일치하지 않는 문자열이 일치할 수도 있기 때문에 whitespace로 처리함.\n",
    "            i = re.sub(pattern, \" \", i)\n",
    "            print(i)\n",
    "        if i.replace(\" \", \"\") == \"\":\n",
    "            count += 1\n",
    "    return count\n",
    "\n",
    "\n",
    "solution([\"aya\", \"yee\", \"u\", \"maa\", \"wyeoo\"])\n"
   ]
  }
 ],
 "metadata": {
  "kernelspec": {
   "display_name": "ormi",
   "language": "python",
   "name": "python3"
  },
  "language_info": {
   "codemirror_mode": {
    "name": "ipython",
    "version": 3
   },
   "file_extension": ".py",
   "mimetype": "text/x-python",
   "name": "python",
   "nbconvert_exporter": "python",
   "pygments_lexer": "ipython3",
   "version": "3.11.3"
  },
  "orig_nbformat": 4
 },
 "nbformat": 4,
 "nbformat_minor": 2
}
