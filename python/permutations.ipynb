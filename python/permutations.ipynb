{
 "cells": [
  {
   "attachments": {},
   "cell_type": "markdown",
   "metadata": {},
   "source": [
    "# itertools.permutations\n",
    "\n",
    "순회 가능한 객체를 넣으면 그 순서를 조합하여 순열의 이터레이터를 뽑아낸다.\n"
   ]
  },
  {
   "attachments": {},
   "cell_type": "markdown",
   "metadata": {},
   "source": [
    "[프로그래머스 옹아리](https://school.programmers.co.kr/learn/courses/30/lessons/120956?language=python3) 문제를 풀면서 순열조합을 익혀보자.\n",
    "\n",
    "\"aya\", \"ye\", \"woo\", \"ma\"가 주어진 원소에 존재하는가 여부를 판단\n"
   ]
  },
  {
   "cell_type": "code",
   "execution_count": 15,
   "metadata": {},
   "outputs": [],
   "source": [
    "from itertools import permutations\n",
    "\n",
    "speak = [\"aya\", \"ye\", \"woo\", \"ma\"]\n",
    "\n",
    "p = (\n",
    "    list(permutations(speak, 1))\n",
    "    + list(permutations(speak, 2))\n",
    "    + list(permutations(speak, 3))\n",
    "    + list(permutations(speak, 4))\n",
    ")\n",
    "\n",
    "s = set[str]()\n",
    "for i in p:\n",
    "    s.add(\"\".join(i))\n",
    "\n",
    "\n",
    "def solution(babbling):\n",
    "    cnt = 0\n",
    "    for bab in babbling:\n",
    "        if bab in s:\n",
    "            cnt += 1\n",
    "    return cnt\n",
    "\n",
    "\n",
    "assert 1 == solution([\"aya\", \"yee\", \"u\", \"maa\", \"wyeoo\"])\n",
    "assert 3 == solution([\"ayaye\", \"uuuma\", \"ye\", \"yemawoo\", \"ayaa\"])"
   ]
  }
 ],
 "metadata": {
  "kernelspec": {
   "display_name": "ormi",
   "language": "python",
   "name": "python3"
  },
  "language_info": {
   "codemirror_mode": {
    "name": "ipython",
    "version": 3
   },
   "file_extension": ".py",
   "mimetype": "text/x-python",
   "name": "python",
   "nbconvert_exporter": "python",
   "pygments_lexer": "ipython3",
   "version": "3.11.3"
  },
  "orig_nbformat": 4
 },
 "nbformat": 4,
 "nbformat_minor": 2
}
