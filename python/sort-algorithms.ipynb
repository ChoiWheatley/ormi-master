{
 "cells": [
  {
   "attachments": {},
   "cell_type": "markdown",
   "metadata": {},
   "source": [
    "# Selection Sort (Not mine)\n"
   ]
  },
  {
   "cell_type": "code",
   "execution_count": null,
   "metadata": {},
   "outputs": [],
   "source": [
    "def 최솟값_인덱스_리턴_함수(리스트):\n",
    "    최솟값인덱스 = 0\n",
    "    for 증가값 in range(0, len(리스트)):\n",
    "        if 리스트[증가값] < 리스트[최솟값인덱스]:\n",
    "            최솟값인덱스 = 증가값\n",
    "    return 최솟값인덱스\n",
    "\n",
    "\n",
    "def 선택정렬(리스트):\n",
    "    최종결과값 = []\n",
    "    while 리스트:\n",
    "        최솟값_인덱스_저장 = 최솟값_인덱스_리턴_함수(리스트)\n",
    "        최솟값 = 리스트.pop(최솟값_인덱스_저장)\n",
    "        최종결과값.append(최솟값)\n",
    "    return 최종결과값\n",
    "\n",
    "\n",
    "주어진리스트 = [199, 22, 33, 12, 32, 64, 72, 222, 233]\n",
    "\n",
    "print(선택정렬(주어진리스트))\n"
   ]
  },
  {
   "attachments": {},
   "cell_type": "markdown",
   "metadata": {},
   "source": [
    "# Insertion Sort\n"
   ]
  },
  {
   "cell_type": "code",
   "execution_count": 3,
   "metadata": {},
   "outputs": [],
   "source": [
    "from bisect import bisect_left\n",
    "\n",
    "\n",
    "def insertion_sort(data):\n",
    "    \"\"\"insertion sort with binary search => O(N LOG(N))\"\"\"\n",
    "\n",
    "    result = []\n",
    "\n",
    "    for e in data:\n",
    "        idx = bisect_left(result, e)\n",
    "        if idx == len(result):\n",
    "            result.append(e)\n",
    "        else:\n",
    "            result.insert(idx, e)\n",
    "\n",
    "    return result\n",
    "\n",
    "\n",
    "ls = [199, 22, 33, 12, 32, 64, 72, 222, 233]\n",
    "assert sorted(ls) == insertion_sort(ls)\n"
   ]
  },
  {
   "attachments": {},
   "cell_type": "markdown",
   "metadata": {},
   "source": [
    "# Merge Sort\n"
   ]
  },
  {
   "cell_type": "code",
   "execution_count": 4,
   "metadata": {},
   "outputs": [],
   "source": [
    "def merge_sort_recur(ls) -> list:\n",
    "    if len(ls) <= 1:\n",
    "        return ls\n",
    "\n",
    "    # divide\n",
    "    mid = len(ls) // 2\n",
    "    left = ls[:mid]\n",
    "    right = ls[mid:]\n",
    "\n",
    "    left = merge_sort_recur(left)\n",
    "    right = merge_sort_recur(right)\n",
    "\n",
    "    # conquer\n",
    "    ret = []\n",
    "    while left and right:\n",
    "        # 둘 다 있을 때에만 이 작업을 수행한다\n",
    "        if left[0] < right[0]:\n",
    "            ret.append(left.pop(0))\n",
    "        else:\n",
    "            ret.append(right.pop(0))\n",
    "\n",
    "    ret += left\n",
    "    ret += right\n",
    "\n",
    "    return ret\n",
    "\n",
    "\n",
    "ls = [199, 22, 33, 12, 32, 64, 72, 222, 233]\n",
    "assert sorted(ls) == merge_sort_recur(ls)\n"
   ]
  },
  {
   "attachments": {},
   "cell_type": "markdown",
   "metadata": {},
   "source": [
    "# Quick Sort\n"
   ]
  },
  {
   "cell_type": "code",
   "execution_count": 11,
   "metadata": {},
   "outputs": [],
   "source": [
    "def q_sort_recur(ls):\n",
    "    if len(ls) <= 1:\n",
    "        return ls\n",
    "\n",
    "    pivot = ls[-1]\n",
    "    left = []\n",
    "    right = []\n",
    "\n",
    "    for elem in ls[:-1]:\n",
    "        if pivot > elem:\n",
    "            left.append(elem)\n",
    "        else:\n",
    "            right.append(elem)\n",
    "\n",
    "    return q_sort_recur(left) + [pivot] + q_sort_recur(right)\n",
    "\n",
    "\n",
    "ls = [199, 22, 33, 12, 32, 64, 72, 222, 233]\n",
    "assert sorted(ls) == q_sort_recur(ls)\n"
   ]
  }
 ],
 "metadata": {
  "kernelspec": {
   "display_name": "ormi",
   "language": "python",
   "name": "python3"
  },
  "language_info": {
   "codemirror_mode": {
    "name": "ipython",
    "version": 3
   },
   "file_extension": ".py",
   "mimetype": "text/x-python",
   "name": "python",
   "nbconvert_exporter": "python",
   "pygments_lexer": "ipython3",
   "version": "3.11.3"
  },
  "orig_nbformat": 4
 },
 "nbformat": 4,
 "nbformat_minor": 2
}
