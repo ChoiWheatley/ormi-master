{
 "cells": [
  {
   "attachments": {},
   "cell_type": "markdown",
   "metadata": {},
   "source": [
    "# sliding windows and two pointers\n",
    "\n",
    "- 구간합이나 회문(팬린드롬) 등에 사용\n",
    "  - 예시 :\n",
    "  ```\n",
    "  슬라이딩 윈도우 : [1, 5, 4, 6, 4, 6, 7, 6, 4, 3, 1, 2]에서 연속된 2개의 합이 10인 모든 수를 찾아라.\n",
    "  투 포인터 : [1, 5, 4, 6, 4, 6, 7, 6, 4, 3, 1, 2]에서 연속된 배열의 합이 10인 배열의 인덱스를 모두 찾아라.\n",
    "  ```\n",
    "  - 예시가 아닌 것 :\n",
    "  ```\n",
    "  [1, 5, 4, 6, 4, 6, 7, 6, 4, 3, 1, 2]에서 2개의 수 조합으로 10을 만들 수 있는 배열의 인덱스를 찾아라.\n",
    "  ```\n",
    "- 회문 문제 : https://codingdojang.com/search/?q=palindrome\n"
   ]
  },
  {
   "attachments": {},
   "cell_type": "markdown",
   "metadata": {},
   "source": [
    "슬라이딩 윈도우 : [2, 5, 4, 6, 4, 6, 7, 6, 4, 3, 1, 2]에서 연속된 2개의 합이 10인 모든 수를 찾아라.\n"
   ]
  },
  {
   "cell_type": "code",
   "execution_count": null,
   "metadata": {},
   "outputs": [],
   "source": [
    "from typing import Tuple\n",
    "\n",
    "\n",
    "def solution(data, sumvalue) -> Tuple[int, int]:\n",
    "    pass\n",
    "\n",
    "\n",
    "print(solution([1, 1, 2, 3, 2, 1, 5, 4, 6, 4, 6, 7, 6, 4, 3, 1, 2], 10))\n",
    "print(solution([1, 5, 4, 6, 4, 6, 7, 6, 4, 3, 1, 2], 10))\n"
   ]
  },
  {
   "attachments": {},
   "cell_type": "markdown",
   "metadata": {},
   "source": [
    "# Palindrome\n",
    "\n",
    "여러가지 푸는 방법이 있는데,\n",
    "\n",
    "- 큐와 스택으로 푸는 방법\n",
    "- 재귀로 푸는 방법\n",
    "- 한줄로 끝내는 방법\n"
   ]
  },
  {
   "cell_type": "code",
   "execution_count": 3,
   "metadata": {},
   "outputs": [],
   "source": [
    "\"\"\"한 줄로 끝내는 방법\"\"\"\n",
    "\n",
    "\n",
    "def is_palindrome(arg) -> bool:\n",
    "    arg = str(arg)\n",
    "    return arg == arg[::-1]\n",
    "\n",
    "\n",
    "assert is_palindrome('오디오')\n",
    "assert is_palindrome('토마토')\n",
    "assert is_palindrome('생선사가는가사선생')\n",
    "assert is_palindrome('여보안경안보여')\n",
    "assert is_palindrome('탄도유도탄')\n",
    "assert is_palindrome('소주만병만주소')\n",
    "assert is_palindrome('수박이박수')\n",
    "assert is_palindrome(12321)\n"
   ]
  },
  {
   "cell_type": "code",
   "execution_count": null,
   "metadata": {},
   "outputs": [],
   "source": [
    "\"\"\"큐와 스택으로 푸는 방법\"\"\"\n"
   ]
  },
  {
   "cell_type": "code",
   "execution_count": 7,
   "metadata": {},
   "outputs": [],
   "source": [
    "\"\"\"재귀로 푸는 방법\"\"\"\n",
    "\n",
    "\n",
    "def is_palindrome_recur(string) -> bool:\n",
    "    if len(string) <= 1:\n",
    "        return True\n",
    "    if string[0] != string[-1]:\n",
    "        return False\n",
    "    return is_palindrome_recur(string[1:-1])\n",
    "\n",
    "\n",
    "assert is_palindrome_recur('오디오')\n",
    "assert is_palindrome_recur('토마토')\n",
    "assert is_palindrome_recur('생선사가는가사선생')\n",
    "assert is_palindrome_recur('여보안경안보여')\n",
    "assert is_palindrome_recur('탄도유도탄')\n",
    "assert is_palindrome_recur('소주만병만주소')\n",
    "assert is_palindrome_recur('수박이박수')\n"
   ]
  },
  {
   "attachments": {},
   "cell_type": "markdown",
   "metadata": {},
   "source": [
    "인풋값을 정제해주는 데코레이터를 사용한 팰린드롬 검출기 (Not Mine)\n"
   ]
  },
  {
   "cell_type": "code",
   "execution_count": 9,
   "metadata": {},
   "outputs": [
    {
     "name": "stdout",
     "output_type": "stream",
     "text": [
      "False\n",
      "True\n",
      "True\n",
      "True\n",
      "True\n"
     ]
    }
   ],
   "source": [
    "import re\n",
    "\n",
    "\n",
    "def remove_garbage_value(f):\n",
    "    def wrapper(s):\n",
    "        \"\"\"대소문자 구분없이, 숫자 제외하고 넣겠다\"\"\"\n",
    "        s = s.lower()\n",
    "        s = re.sub('[0-9 ]', '', s)\n",
    "        return f(s)\n",
    "    return wrapper\n",
    "\n",
    "\n",
    "@remove_garbage_value\n",
    "def palindrome(string):\n",
    "    string = list(string)\n",
    "    while len(string) >= 2:\n",
    "        if string.pop(0) != string.pop():\n",
    "            return False\n",
    "    return True\n",
    "\n",
    "\n",
    "print(palindrome('hello world'))\n",
    "print(palindrome('helleh'))\n",
    "print(palindrome('hel123131313131231231231231239859696969leh'))\n",
    "print(palindrome('helleh'))\n",
    "print(palindrome('heleh'))\n"
   ]
  }
 ],
 "metadata": {
  "kernelspec": {
   "display_name": "ormi",
   "language": "python",
   "name": "python3"
  },
  "language_info": {
   "codemirror_mode": {
    "name": "ipython",
    "version": 3
   },
   "file_extension": ".py",
   "mimetype": "text/x-python",
   "name": "python",
   "nbconvert_exporter": "python",
   "pygments_lexer": "ipython3",
   "version": "3.11.3"
  },
  "orig_nbformat": 4
 },
 "nbformat": 4,
 "nbformat_minor": 2
}
