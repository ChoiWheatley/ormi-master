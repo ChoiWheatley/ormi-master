{
 "cells": [
  {
   "attachments": {},
   "cell_type": "markdown",
   "metadata": {},
   "source": [
    "`re` 모듈과 정규표현식 연습문제들 모음"
   ]
  },
  {
   "cell_type": "code",
   "execution_count": 7,
   "metadata": {},
   "outputs": [
    {
     "data": {
      "text/plain": [
       "['hello', 'hallo', 'hollo']"
      ]
     },
     "execution_count": 7,
     "metadata": {},
     "output_type": "execute_result"
    }
   ],
   "source": [
    "import re\n",
    "\n",
    "text = '''hello\n",
    "hallo\n",
    "hollo\n",
    "hillo\n",
    "'''\n",
    "\n",
    "p = re.compile('h[eao]llo')\n",
    "p.findall(text)"
   ]
  },
  {
   "cell_type": "code",
   "execution_count": 22,
   "metadata": {},
   "outputs": [
    {
     "data": {
      "text/plain": [
       "['010',\n",
       " '875',\n",
       " '403',\n",
       " '010',\n",
       " '875',\n",
       " '403',\n",
       " '010',\n",
       " '875',\n",
       " '403',\n",
       " '010',\n",
       " '875',\n",
       " '403',\n",
       " '010',\n",
       " '875',\n",
       " '240',\n",
       " '010',\n",
       " '909',\n",
       " '549',\n",
       " '010',\n",
       " '504',\n",
       " '290',\n",
       " '010',\n",
       " '505',\n",
       " '404',\n",
       " '010',\n",
       " '494',\n",
       " '313',\n",
       " '010',\n",
       " '291',\n",
       " '313',\n",
       " '010',\n",
       " '191',\n",
       " '338',\n",
       " '064',\n",
       " '721',\n",
       " '321',\n",
       " '010',\n",
       " '191',\n",
       " '382']"
      ]
     },
     "execution_count": 22,
     "metadata": {},
     "output_type": "execute_result"
    }
   ],
   "source": [
    "import re\n",
    "\n",
    "text = '''\n",
    "010-8752-4037\n",
    "010.8752.4037\n",
    "010 8752 4037\n",
    "010/8752/4037\n",
    "01087524037\n",
    "010-9091-5491\n",
    "010-5043-2901\n",
    "010-5050-40409\n",
    "010-49492-3131\n",
    "010 2913 3132\n",
    "01019133829\n",
    "064-721-3213\n",
    "010.1913.3829\n",
    "'''\n",
    "p = re.compile(r'\\d{3}')\n",
    "p.findall(text)"
   ]
  },
  {
   "cell_type": "code",
   "execution_count": 9,
   "metadata": {},
   "outputs": [],
   "source": [
    "text = '''\n",
    "Sunday Monday Tuesday Wednesday Thursday Friday Saturday\n",
    "sunday monday tuesday wednesday thursday friday saturday\n",
    "'''"
   ]
  },
  {
   "cell_type": "code",
   "execution_count": null,
   "metadata": {},
   "outputs": [],
   "source": [
    "text = '''\n",
    "chltmdgus604@gmail.com\n",
    "test.test@go.go.go\n",
    "sfjd!@naver.com\n",
    "'''"
   ]
  }
 ],
 "metadata": {
  "kernelspec": {
   "display_name": "ormi",
   "language": "python",
   "name": "python3"
  },
  "language_info": {
   "codemirror_mode": {
    "name": "ipython",
    "version": 3
   },
   "file_extension": ".py",
   "mimetype": "text/x-python",
   "name": "python",
   "nbconvert_exporter": "python",
   "pygments_lexer": "ipython3",
   "version": "3.11.3"
  },
  "orig_nbformat": 4
 },
 "nbformat": 4,
 "nbformat_minor": 2
}
