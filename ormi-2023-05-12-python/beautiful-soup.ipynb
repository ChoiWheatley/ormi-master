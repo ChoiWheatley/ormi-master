{
 "cells": [
  {
   "attachments": {},
   "cell_type": "markdown",
   "metadata": {},
   "source": [
    "# 웹 크롤링 with bs4.BeautifulSoup with real data\n",
    "\n",
    "## 문제\n",
    "\n",
    "제주코딩베이스캠프 연구원에 2019.09.24 ~ 2019.10.23 까지 거래된 거래 총량을 구해주세요.\n",
    "\n",
    "데이터 링크는 https://paullab.co.kr/stock.html 입니다."
   ]
  },
  {
   "attachments": {},
   "cell_type": "markdown",
   "metadata": {},
   "source": [
    "아래는 SW 사관학교 정글 과제하면서 노션에 정리해놓은 파이썬 웹 스크래핑 관련 스니펫이다. 아쉽게도 네이버 영화 PC 서비스 페이지가 종료되어 아래 코드는 제대로 동작하지 않는다."
   ]
  },
  {
   "cell_type": "code",
   "execution_count": 16,
   "metadata": {},
   "outputs": [
    {
     "name": "stdout",
     "output_type": "stream",
     "text": [
      "0\n",
      "print ac, a_tag, point\n"
     ]
    }
   ],
   "source": [
    "import requests\n",
    "from bs4 import BeautifulSoup\n",
    "\n",
    "# 타겟 URL을 읽어 HTML을 받아오고,\n",
    "headers = {\n",
    "    'User-Agent': 'Mozilla/5.0 (Windows NT 10.0; Win64; x64)AppleWebKit/537.36 (KHTML, like Gecko) Chrome/73.0.3683.86 Safari/537.36'}\n",
    "data = requests.get(\n",
    "    'https://movie.naver.com/movie/sdb/rank/rmovie.nhn?sel=pnt&date=20200303', headers=headers)\n",
    "\n",
    "# HTML을 BeautifulSoup이라는 라이브러리를 활용해 검색하기 용이한 상태로 만듦\n",
    "# soup라는 변수에 \"파싱 용이해진 html\" 이 담긴 상태가 됨\n",
    "# 이제 코딩을 통해 필요한 부분을 추출.\n",
    "soup = BeautifulSoup(data.text, 'html.parser')\n",
    "# print(soup)  # HTML을 받아온 것 확인\n",
    "\n",
    "# select를 이용하여 tr들을 불러오기\n",
    "movies = soup.select('#old_content > table > tbody > tr')\n",
    "print(len(movies))\n",
    "\n",
    "for movie in movies:\n",
    "    print(movie)\n",
    "\n",
    "# 각 영화에서 영화제목이 적혀있는 a 태그를 select_one()으로 찾아본다.\n",
    "for movie in movies:\n",
    "    a_tag = movie.select_one('td.title > div > a')\n",
    "    print(a_tag)\n",
    "\n",
    "# 그 중 내용이 있는 경우에만 텍스트를 프린트한다.\n",
    "print(\"print ac, a_tag, point\")\n",
    "for movie in movies:\n",
    "    ac = movie.select_one('td.ac > img')\n",
    "    a_tag = movie.select_one('div.tit5 > a')\n",
    "    point = movie.select_one('td.point')\n",
    "    if (ac is not None and\n",
    "        a_tag is not None and\n",
    "            point is not None):\n",
    "        print(ac.attrs['alt'], a_tag.text, point.text)"
   ]
  },
  {
   "attachments": {},
   "cell_type": "markdown",
   "metadata": {},
   "source": [
    "## 요구사항 파악\n",
    "\n",
    "이제 진짜 일을 해보자. 문제 조건을 먼저 파악해보자.\n",
    "\n",
    "1. 크롤링 연습용 페이지에 html 소스를 요청하여 \n",
    "2. *일별 시세* 표를 파싱한 뒤에\n",
    "3. 주어진 구간의 날짜 (2019-09-24 ~ 2019-10-23)의 데이터를 쿼리하여\n",
    "4. 거래량 속성의 합을 구하여라"
   ]
  },
  {
   "cell_type": "code",
   "execution_count": 32,
   "metadata": {},
   "outputs": [
    {
     "name": "stdout",
     "output_type": "stream",
     "text": [
      "['날짜', '종가', '전일비', '시가', '고가', '저가', '거래량']\n",
      "2019-09-24와 2019-10-23 사이의 거래량 속성의 합은 13067306 입니다.\n"
     ]
    }
   ],
   "source": [
    "import requests\n",
    "from bs4 import BeautifulSoup\n",
    "from datetime import date\n",
    "\n",
    "from_date = date.fromisoformat('2019-09-24')\n",
    "to_date = date.fromisoformat('2019-10-23')\n",
    "\n",
    "headers = {\n",
    "    'User-Agent': 'Chrome/113.0.5672.93'\n",
    "}\n",
    "# Get html content\n",
    "data = requests.get('https://paullab.co.kr/stock.html', headers=headers)\n",
    "\n",
    "# 검색이 용이한 상태로 만들어주는 파서 `BeautifulSoup`의 도움을 받자\n",
    "soup = BeautifulSoup(data.text, 'html.parser')\n",
    "\n",
    "# CSS select 구문을 사용하여 html 요소들을 분석할 수 있다.\n",
    "researchers = soup.select('#제주코딩베이스캠프연구원 ~ .table > tbody > tr')\n",
    "\n",
    "head = researchers[0].select('tr > [scope=\"col\"]')\n",
    "head = [h.text for h in head]\n",
    "# print(head)\n",
    "\n",
    "table = []\n",
    "\n",
    "for row in researchers[1:]:\n",
    "    row = [r.text.strip().replace(',', '') for r in row.select('tr>td>span')]\n",
    "    data = dict()\n",
    "\n",
    "    for idx, value in enumerate(row):\n",
    "        key = head[idx]\n",
    "        match key:\n",
    "            case '날짜':\n",
    "                data[key] = date.fromisoformat(value.replace('.', '-'))\n",
    "            case _:\n",
    "                data[key] = int(value)\n",
    "\n",
    "    table.append(data)\n",
    "\n",
    "\n",
    "print(f'''{from_date}와 {to_date} 사이의 거래량 속성의 합은 {\n",
    "      sum(map(lambda x: x['거래량'], table))\n",
    "} 입니다.''')\n"
   ]
  },
  {
   "attachments": {},
   "cell_type": "markdown",
   "metadata": {},
   "source": []
  }
 ],
 "metadata": {
  "kernelspec": {
   "display_name": "ormi",
   "language": "python",
   "name": "python3"
  },
  "language_info": {
   "codemirror_mode": {
    "name": "ipython",
    "version": 3
   },
   "file_extension": ".py",
   "mimetype": "text/x-python",
   "name": "python",
   "nbconvert_exporter": "python",
   "pygments_lexer": "ipython3",
   "version": "3.11.3"
  },
  "orig_nbformat": 4
 },
 "nbformat": 4,
 "nbformat_minor": 2
}
