{
  "nbformat": 4,
  "nbformat_minor": 0,
  "metadata": {
    "colab": {
      "provenance": [],
      "toc_visible": true
    },
    "kernelspec": {
      "name": "python3",
      "display_name": "Python 3"
    },
    "language_info": {
      "name": "python"
    }
  },
  "cells": [
    {
      "cell_type": "markdown",
      "source": [
        "# shortcuts\n",
        "\n",
        "1. **실행 단축키**\n",
        "    1. (필수) `Ctrl(Command)` + `Enter` : 해당 셀 실행\n",
        "    2. `Shift` + `Enter` : 해당 셀 실행 + 커서를 다음 셀로 이동\n",
        "    3. (필수) `Alt(Option)` + `Enter` : 해당 셀 실행 + 코드 불록 하단 추가\n",
        "2. **셀 삽입/삭제 관련 단축키**\n",
        "    1. `Ctrl(Command)` + M A : 코드 셀 위에 삽입\n",
        "    2. `Ctrl(Command)` + M B : 코드 셀 아래 삽입\n",
        "    3. `Ctrl(Command)` + M D : 셀 지우기\n",
        "    4. `Ctrl(Command)` + M Y : 코드 셀로 변경\n",
        "    5. `Ctrl(Command)` + M M : 마크다운 셀로 변경\n",
        "    6. `Ctrl(Command)` + M Z : 실행 취소\n",
        "3. 수정 관련된 단축키\n",
        "    1. `Ctrl(Command)` + `Alt(Option)` + 화살표위아래 : 동시 수정\n",
        "    2. (자주) `Ctrl(Command)` + D : 같은 단어 찾아 동시 수정\n",
        "    3. `Ctrl(Command)` + `Shift` + L : 동일 단어를 전체로 찾아 동시 수정\n",
        "    4. `Alt(Option)` + `Shift` + 화살표위아래 : 해당내용을 위나 아래 복사해서 붙여넣기\n",
        "    5. `Alt(Option)` + 화살표위아래 : 해당 내용을 위나 아래로 보내기\n",
        "    6. (자주) `Ctrl(Command)` + `Alt(Option)` + 화살표위아래 : 위아래 동시 수정\n",
        "    7. (자주) Home, End : 문장의 양 끝\n",
        "    8. (필수) `Ctrl` + `/` : 주석\n",
        "    9. (필수) `Ctrl` + `Del` : 한 줄 지우기\n",
        "    10. (필수) `Tab`, `Ctrl` + `]` : 들여쓰기\n",
        "    11. (필수) `Shift` + `Tab`, `Ctrl` + `[` : 내어쓰기\n",
        "4. 단축키 보기 및 설정\n",
        "    1. `Ctrl(Command)` + M H : 단축키 모음\n"
      ],
      "metadata": {
        "id": "u3vUt1Ruvvyv"
      }
    },
    {
      "cell_type": "code",
      "source": [
        "# line comment\n",
        "\"\"\"\n",
        "block comment\n",
        "\"\"\"\n",
        "'''\n",
        "this is also a block comment!\n",
        "'''"
      ],
      "metadata": {
        "colab": {
          "base_uri": "https://localhost:8080/",
          "height": 35
        },
        "id": "3NmB_eB14NtF",
        "outputId": "38977e5f-dfa7-43fe-9aa5-c36e3c34b9e6"
      },
      "execution_count": null,
      "outputs": [
        {
          "output_type": "execute_result",
          "data": {
            "text/plain": [
              "'\\nthis is also a block comment!\\n'"
            ],
            "application/vnd.google.colaboratory.intrinsic+json": {
              "type": "string"
            }
          },
          "metadata": {},
          "execution_count": 1
        }
      ]
    },
    {
      "cell_type": "markdown",
      "source": [
        "# Code convention python\n",
        "* https://google.github.io/styleguide/\n",
        "* https://google.github.io/styleguide/pyguide.html"
      ],
      "metadata": {
        "id": "oSe1uB7y5TMW"
      }
    },
    {
      "cell_type": "markdown",
      "source": [
        "현업 코드의 일부를 살짝 확인해 보자. \n",
        "\n",
        "- 함수 아래에 함수에 대한 설명이 `\"\"\"` 블록으로 싸여있다. \n",
        "- 블럭 (`if`, `while`. etc,) 에 대한 설명도 마찬가지로 거기 내부에 들여쓰기 후 첫번째 줄에 작성한다."
      ],
      "metadata": {
        "id": "voDJ7PcR6iUb"
      }
    },
    {
      "cell_type": "code",
      "source": [
        "def connect_to_next_port(self, minimum: int) -> int:\n",
        "    \"\"\"Connects to the next available port.\n",
        "\n",
        "    Args:\n",
        "      minimum: A port value greater or equal to 1024.\n",
        "\n",
        "    Returns:\n",
        "      The new minimum port.\n",
        "\n",
        "    Raises:\n",
        "      ConnectionError: If no available port is found.\n",
        "    \"\"\"\n",
        "    if minimum < 1024:\n",
        "        # Note that this raising of ValueError is not mentioned in the doc\n",
        "        # string's \"Raises:\" section because it is not appropriate to\n",
        "        # guarantee this specific behavioral reaction to API misuse.\n",
        "        raise ValueError(f'Min. port must be at least 1024, not {minimum}.')\n",
        "    port = self._find_next_open_port(minimum)\n",
        "    if port is None:\n",
        "        raise ConnectionError(\n",
        "            f'Could not connect to service on port {minimum} or higher.')\n",
        "    assert port >= minimum, (\n",
        "        f'Unexpected port {port} when minimum was {minimum}.')\n",
        "    return port"
      ],
      "metadata": {
        "id": "wizlap2E5ejZ"
      },
      "execution_count": null,
      "outputs": []
    },
    {
      "cell_type": "markdown",
      "source": [
        "Can we use python keywords as variable names? [stack-overflow-link](https://stackoverflow.com/questions/62044296/can-we-use-python-keywords-as-variable-names-without-explicitly-overriding#62044409)\n",
        "\n",
        "> Keywords are registered, so you can't. Builtin functions (such as `print`) can be overridden, but you should generally avoid such."
      ],
      "metadata": {
        "id": "H856j2TdjCqt"
      }
    },
    {
      "cell_type": "code",
      "source": [
        "#if = 2 # can't\n",
        "#print = 2 # can, but don't!"
      ],
      "metadata": {
        "id": "xHdnsflci4bJ"
      },
      "execution_count": null,
      "outputs": []
    },
    {
      "cell_type": "markdown",
      "source": [
        "# Types\n",
        "\n",
        "변수를 처음 만나면 `type`, `dir`을 찍어봅시다.\n",
        "- `type`을 찍으면 검색 키워드를 알 수 있습니다.\n",
        "- `dir`을 찍으면 속성을 알 수 있습니다.\n",
        "- `isinstance`를 사용하여 변수의 타입을 체크할 수 있습니다."
      ],
      "metadata": {
        "id": "jJKBXJb988VF"
      }
    },
    {
      "cell_type": "code",
      "source": [
        "help(dir)"
      ],
      "metadata": {
        "colab": {
          "base_uri": "https://localhost:8080/"
        },
        "id": "7HDhid1Phv7e",
        "outputId": "8da71913-f4d3-4e27-92e3-834ef1f83ee6"
      },
      "execution_count": null,
      "outputs": [
        {
          "output_type": "stream",
          "name": "stdout",
          "text": [
            "Help on built-in function dir in module builtins:\n",
            "\n",
            "dir(...)\n",
            "    dir([object]) -> list of strings\n",
            "    \n",
            "    If called without an argument, return the names in the current scope.\n",
            "    Else, return an alphabetized list of names comprising (some of) the attributes\n",
            "    of the given object, and of attributes reachable from it.\n",
            "    If the object supplies a method named __dir__, it will be used; otherwise\n",
            "    the default dir() logic is used and returns:\n",
            "      for a module object: the module's attributes.\n",
            "      for a class object:  its attributes, and recursively the attributes\n",
            "        of its bases.\n",
            "      for any other object: its attributes, its class's attributes, and\n",
            "        recursively the attributes of its class's base classes.\n",
            "\n"
          ]
        }
      ]
    },
    {
      "cell_type": "code",
      "source": [
        "help(isinstance)"
      ],
      "metadata": {
        "colab": {
          "base_uri": "https://localhost:8080/"
        },
        "id": "nFH6rlZ5h9k3",
        "outputId": "d282190a-c0e2-4f94-c10c-6ac6a1eb4d36"
      },
      "execution_count": null,
      "outputs": [
        {
          "output_type": "stream",
          "name": "stdout",
          "text": [
            "Help on built-in function isinstance in module builtins:\n",
            "\n",
            "isinstance(obj, class_or_tuple, /)\n",
            "    Return whether an object is an instance of a class or of a subclass thereof.\n",
            "    \n",
            "    A tuple, as in ``isinstance(x, (A, B, ...))``, may be given as the target to\n",
            "    check against. This is equivalent to ``isinstance(x, A) or isinstance(x, B)\n",
            "    or ...`` etc.\n",
            "\n"
          ]
        }
      ]
    },
    {
      "cell_type": "code",
      "source": [
        "a = 10     #int, 정수형\n",
        "b = 10.1   #float, 실수\n",
        "c = -1\n",
        "d = True   #bool, 논리형(부울형, 참거짓형)\n",
        "e = 'good'\n",
        "f = '10'   #str, 문자열\n",
        "g = 'kim'\n",
        "h = 'honggildong'\n",
        "i = 'example'\n",
        "j = 10 + 2j #complex, 복소수\n",
        "k = 0b110   #int, 2진법 \n",
        "l = 0o56    #int, 8진법\n",
        "m = 0xAC    #int, 16진법\n",
        "\n",
        "##########\n",
        "def hello():\n",
        "    return\n",
        "\n",
        "class A:\n",
        "    pass\n",
        "\n",
        "n = hello # function\n",
        "o = print # bulit-in function\n",
        "p = lambda x:x**2 # function\n",
        "q = int # type\n",
        "r = A # class\n",
        "s = A() # instance\n",
        "##########\n",
        "\n",
        "print(f'type(10) : {type(a)}')\n",
        "print(f'type(10.1) : {type(b)}')\n",
        "print(f'type(-1) : {type(c)}')\n",
        "print(f'type(True) : {type(d)}')\n",
        "print(f'type(\\'good\\') : {type(e)}')\n",
        "print(f'type(\\'good\\'.upper) : {type(e.upper)}')\n",
        "print(f'\\'10\\' + \\'10\\' : {f + f}')\n",
        "print(f'\\'10\\' * 3 : {f * 3}')\n",
        "print(f'\\'hong\\' + \\'gildong\\' : {g + h}')\n",
        "print(f'type(\\'gildong\\') : {type(h)}')\n",
        "print(f'type(\\'gildong100!!\\') : {type(i)}')\n",
        "print(f'type(10 + 2j) : {type(j)}')\n",
        "print(f'type(0b110) : {type(k)}')\n",
        "print(k)\n",
        "print(f'type(0o56) : {type(i)}')\n",
        "print(i)\n",
        "print(f'type(0xAC) : {type(m)}')\n",
        "print(m)\n",
        "print(f'type(def func():...생략...) : {type(n)}')\n",
        "print(f'type(print) : {type(o)}')\n",
        "print(f'type(lambda x:x**2) : {type(p)}')\n",
        "print(f'type(int) : {type(int)}')\n"
      ],
      "metadata": {
        "colab": {
          "base_uri": "https://localhost:8080/"
        },
        "id": "DiF_ZoAI8F0C",
        "outputId": "bbb333be-cc00-482f-9c84-0fae47b8afe6"
      },
      "execution_count": null,
      "outputs": [
        {
          "output_type": "stream",
          "name": "stdout",
          "text": [
            "type(10) : <class 'int'>\n",
            "type(10.1) : <class 'float'>\n",
            "type(-1) : <class 'int'>\n",
            "type(True) : <class 'bool'>\n",
            "type('good') : <class 'str'>\n",
            "type('good'.upper) : <class 'builtin_function_or_method'>\n",
            "'10' + '10' : 1010\n",
            "'10' * 3 : 101010\n",
            "'hong' + 'gildong' : kimhonggildong\n",
            "type('gildong') : <class 'str'>\n",
            "type('gildong100!!') : <class 'str'>\n",
            "type(10 + 2j) : <class 'complex'>\n",
            "type(0b110) : <class 'int'>\n",
            "6\n",
            "type(0o56) : <class 'str'>\n",
            "example\n",
            "type(0xAC) : <class 'int'>\n",
            "172\n",
            "type(def func():...생략...) : <class 'function'>\n",
            "type(print) : <class 'builtin_function_or_method'>\n",
            "type(lambda x:x**2) : <class 'function'>\n",
            "type(int) : <class 'type'>\n"
          ]
        }
      ]
    },
    {
      "cell_type": "code",
      "source": [
        "print(type(a))\n",
        "for attr in dir(a):\n",
        "    print(attr, end=\" \")"
      ],
      "metadata": {
        "colab": {
          "base_uri": "https://localhost:8080/"
        },
        "id": "I0cLj5X98pPB",
        "outputId": "94c89f0f-672a-447c-b798-8a47c6176c1d"
      },
      "execution_count": null,
      "outputs": [
        {
          "output_type": "stream",
          "name": "stdout",
          "text": [
            "<class 'int'>\n",
            "__abs__ __add__ __and__ __bool__ __ceil__ __class__ __delattr__ __dir__ __divmod__ __doc__ __eq__ __float__ __floor__ __floordiv__ __format__ __ge__ __getattribute__ __getnewargs__ __gt__ __hash__ __index__ __init__ __init_subclass__ __int__ __invert__ __le__ __lshift__ __lt__ __mod__ __mul__ __ne__ __neg__ __new__ __or__ __pos__ __pow__ __radd__ __rand__ __rdivmod__ __reduce__ __reduce_ex__ __repr__ __rfloordiv__ __rlshift__ __rmod__ __rmul__ __ror__ __round__ __rpow__ __rrshift__ __rshift__ __rsub__ __rtruediv__ __rxor__ __setattr__ __sizeof__ __str__ __sub__ __subclasshook__ __truediv__ __trunc__ __xor__ as_integer_ratio bit_count bit_length conjugate denominator from_bytes imag numerator real to_bytes "
          ]
        }
      ]
    },
    {
      "cell_type": "markdown",
      "source": [
        "## int\n",
        "- 파이썬에서는 숫자를 정수, 실수, 복소수로 나누어 표현한다.\n",
        "- 2, 8, 16진수는 정수형으로 표현된다.\n",
        "- built-in functions\n",
        "    - [`to_bytes`](https://docs.python.org/3/library/stdtypes.html#int.to_bytes)\n",
        "    "
      ],
      "metadata": {
        "id": "07yRqgdvw9dC"
      }
    },
    {
      "cell_type": "code",
      "source": [
        "print(f'{9:b}')\n",
        "(1024).to_bytes(10, byteorder='little', signed=True)"
      ],
      "metadata": {
        "colab": {
          "base_uri": "https://localhost:8080/"
        },
        "id": "LSL_zpv0zjem",
        "outputId": "e572cebf-1858-4575-9cc4-86c4c3613d23"
      },
      "execution_count": null,
      "outputs": [
        {
          "output_type": "stream",
          "name": "stdout",
          "text": [
            "1001\n"
          ]
        },
        {
          "output_type": "execute_result",
          "data": {
            "text/plain": [
              "b'\\x00\\x04\\x00\\x00\\x00\\x00\\x00\\x00\\x00\\x00'"
            ]
          },
          "metadata": {},
          "execution_count": 8
        }
      ]
    },
    {
      "cell_type": "markdown",
      "source": [
        "## float\n",
        "\n",
        "[부동 소수점 산술의 문제점과 해결책](https://docs.python.org/ko/3/tutorial/floatingpoint.html)\n",
        "\n",
        "[무한수](https://www.notion.so/5f34f21bf9a34015b170e7afd7da9593)가 발생할 우려가 있다. 예를 들어 0.1을 이진수로 나타내면, 무한소수가 튀어나온다. 이를 주어진 비트에 맞추어 잘라내고 반올림을 하면 필연적으로 오차가 발생하게 된다."
      ],
      "metadata": {
        "id": "DlG4iAd_9lUb"
      }
    },
    {
      "cell_type": "code",
      "source": [
        "x = 10\n",
        "y = 1.1\n",
        "print(x + y)"
      ],
      "metadata": {
        "colab": {
          "base_uri": "https://localhost:8080/"
        },
        "id": "AgaYEu2J9tQZ",
        "outputId": "d8709bc2-debb-494b-8b36-0738c74b13a2"
      },
      "execution_count": null,
      "outputs": [
        {
          "output_type": "stream",
          "name": "stdout",
          "text": [
            "11.1\n"
          ]
        }
      ]
    },
    {
      "cell_type": "markdown",
      "source": [
        "## Easy converting\n",
        "파싱에 오류를 신경쓰지 않고 그냥 변환하려는 타입에 괄호를 붙여 쓰기만 하면 된다.\n",
        "```python\n",
        "int('10') # => 10\n",
        "```"
      ],
      "metadata": {
        "id": "d3T_9SqGC9iz"
      }
    },
    {
      "cell_type": "markdown",
      "source": [
        "# Variables\n",
        "\n",
        "변수는 값을 나타내는 문자(열)로, 실제 값이 저장돼 있는 메모리 공간과 대응하는 것으로 접근이 가능하다.\n",
        "\n",
        "> Python은 자체적으로 속도를 높이기 위한 여러가지 노력들을 해왔습니다.\n",
        "> (아래 언급한 것 말고도 각각의 자료형에서 메모리를 효율적으로 관리하기 위한 노력들을 말씀드리겠습니다.) 예를 들어 -5 ~ 256은 먼저 메모리에 적재를 합니다.\n",
        "\n"
      ],
      "metadata": {
        "id": "OXibqZ88HXI0"
      }
    },
    {
      "cell_type": "code",
      "source": [
        "x = 10\n",
        "y = 10\n",
        "print(x is y)\n",
        "x = -5\n",
        "y = -5\n",
        "print(x is y)"
      ],
      "metadata": {
        "colab": {
          "base_uri": "https://localhost:8080/"
        },
        "id": "d1pDVP1LHLK5",
        "outputId": "dde50a58-3ff0-4eb0-d61a-471aacc1d585"
      },
      "execution_count": null,
      "outputs": [
        {
          "output_type": "stream",
          "name": "stdout",
          "text": [
            "True\n",
            "True\n"
          ]
        }
      ]
    },
    {
      "cell_type": "markdown",
      "source": [
        "C와 같은 변수는 값을 **담고** 있는게 맞다. 하지만 파이썬은 모든 변수는 **포인터**이다."
      ],
      "metadata": {
        "id": "ZWAfMeeuNKvK"
      }
    },
    {
      "cell_type": "code",
      "source": [
        "x = 10\n",
        "y = x\n",
        "x = 100\n",
        "# y = ?\n",
        "print(id(x), id(y))"
      ],
      "metadata": {
        "colab": {
          "base_uri": "https://localhost:8080/"
        },
        "id": "cMjzYFjMM3J7",
        "outputId": "e4ec9aca-3b47-402a-d78d-90b06065c56b"
      },
      "execution_count": null,
      "outputs": [
        {
          "output_type": "stream",
          "name": "stdout",
          "text": [
            "139822416399696 139822416396816\n"
          ]
        }
      ]
    },
    {
      "cell_type": "markdown",
      "source": [
        "- 변수의 타입이란 무엇인가\n",
        "- 변수의 타입은 왜 있는가\n",
        "- 어떤 고민을 통해 변수의 속성을 정했을까"
      ],
      "metadata": {
        "id": "Rz6F9J7JI5lt"
      }
    },
    {
      "cell_type": "markdown",
      "source": [
        "* 변수는 주로 스네이크 표기법을 많이 사용합니다. 물론 회사 컨벤션에 따르셔야 합니다.\n",
        "* 영문과 숫자를 사용할 수 있지만, 숫자로  시작하지는 못합니다.\n",
        "* 특수문자는 사용하지 않아요.(언더바(_)는  사용합니다. 스네이크 표기법, 특수문자나  이미중 사용 가능한 것들이 있기는 합니다.  권하지 않습니다.)\n",
        "* 예약어는 사용하지 않습니다.(if, elif, while, * for, etc)\n",
        "* 대소문자는 구분합니다.\n",
        "* 언더바로만 사용하거나 언더바로 시작할 수 있습니다.\n",
        "* 대문자로 시작하는 변수를 사용할 수 있지만, 관습적으로 대문자로 시작하는 변수는 Class로 만들기 때문에 소문자로 시작하는 변수를 만들기를 권합니다. Class는 보통 파스칼 표기법을 따릅니다. 다만 회사 컨벤션마다 다릅니다."
      ],
      "metadata": {
        "id": "MjPsUnAyI4Wp"
      }
    },
    {
      "cell_type": "code",
      "source": [
        "print('a' + 'a') # 'aa', not 194"
      ],
      "metadata": {
        "colab": {
          "base_uri": "https://localhost:8080/"
        },
        "id": "IDFaZUBpJt3j",
        "outputId": "66aa6def-0e08-4ac9-c1ff-fbaa51248ad1"
      },
      "execution_count": null,
      "outputs": [
        {
          "output_type": "stream",
          "name": "stdout",
          "text": [
            "aa\n"
          ]
        }
      ]
    },
    {
      "cell_type": "markdown",
      "source": [
        "`'a'` 는 아스키 코드로 97이다. 따라서 `'a' + 'a'`를 수행한다면 컴퓨터 입장에서 194가 나올 것 같다. 하지만 파이썬 수행 결과는 두 문자를 이어붙인 `'aa'` 가 나왔다. 이는 `char`클래스 안에서 `__add__`메서드 정의를 해 두었기 때문이다. \n",
        "\n",
        "`__add__`와 같은 메서드들을 dunder method, magic method라고 부른다. 이것 말고도 `/`, `*`를 수행하기 위해선 각각 `__floordiv__`, `__mult__`를 구현해야 한다. \n",
        "\n",
        "아래의 코드는 기본으로 제공되는 타입인 `int`를 이름이 같은 나만의 타입으로 덮어씌워 별도의 `+` 연산자를 정의한 것을 볼 수 있다."
      ],
      "metadata": {
        "id": "id6VA9f0J4ac"
      }
    },
    {
      "cell_type": "code",
      "source": [
        "class int(int):\n",
        "    def __add__(self, rhs):\n",
        "        return 'hello, world'\n",
        "print(int(100) + int(100)) # WHAT????????????"
      ],
      "metadata": {
        "colab": {
          "base_uri": "https://localhost:8080/"
        },
        "id": "9BPLVc_sKo4V",
        "outputId": "d681dae6-94ae-48ef-bcea-baa10e06909b"
      },
      "execution_count": null,
      "outputs": [
        {
          "output_type": "stream",
          "name": "stdout",
          "text": [
            "hello, world\n"
          ]
        }
      ]
    },
    {
      "cell_type": "markdown",
      "source": [
        "# Input, Output\n",
        "\n",
        "- 모든 `input` builtin function의 리턴타입은 `str`형이다.\n",
        "- [print](https://docs.python.org/3.8/library/functions.html#print)에는 엄청 다양한 인자와 포매팅 문법이 있으니까 확인해보자.\n",
        "- [formatting](https://docs.python.org/3/library/string.html#custom-string-formatting) 규칙이 오지게 많다. 필요할 때마다 찾아가면서 익혀보자."
      ],
      "metadata": {
        "id": "Ytdq3Au4jrFa"
      }
    },
    {
      "cell_type": "code",
      "source": [
        "x = input()\n",
        "print(x + x) # x is now `str`"
      ],
      "metadata": {
        "colab": {
          "base_uri": "https://localhost:8080/",
          "height": 354
        },
        "id": "nRU7sRKsj8D-",
        "outputId": "7e4ff5a9-d033-4b84-b7df-0a60aa409eaf"
      },
      "execution_count": null,
      "outputs": [
        {
          "output_type": "error",
          "ename": "KeyboardInterrupt",
          "evalue": "ignored",
          "traceback": [
            "\u001b[0;31m---------------------------------------------------------------------------\u001b[0m",
            "\u001b[0;31mKeyboardInterrupt\u001b[0m                         Traceback (most recent call last)",
            "\u001b[0;32m<ipython-input-14-218276a7fb82>\u001b[0m in \u001b[0;36m<cell line: 1>\u001b[0;34m()\u001b[0m\n\u001b[0;32m----> 1\u001b[0;31m \u001b[0mx\u001b[0m \u001b[0;34m=\u001b[0m \u001b[0minput\u001b[0m\u001b[0;34m(\u001b[0m\u001b[0;34m)\u001b[0m\u001b[0;34m\u001b[0m\u001b[0;34m\u001b[0m\u001b[0m\n\u001b[0m\u001b[1;32m      2\u001b[0m \u001b[0mprint\u001b[0m\u001b[0;34m(\u001b[0m\u001b[0mx\u001b[0m \u001b[0;34m+\u001b[0m \u001b[0mx\u001b[0m\u001b[0;34m)\u001b[0m \u001b[0;31m# x is now `str`\u001b[0m\u001b[0;34m\u001b[0m\u001b[0;34m\u001b[0m\u001b[0m\n",
            "\u001b[0;32m/usr/local/lib/python3.10/dist-packages/ipykernel/kernelbase.py\u001b[0m in \u001b[0;36mraw_input\u001b[0;34m(self, prompt)\u001b[0m\n\u001b[1;32m    849\u001b[0m                 \u001b[0;34m\"raw_input was called, but this frontend does not support input requests.\"\u001b[0m\u001b[0;34m\u001b[0m\u001b[0;34m\u001b[0m\u001b[0m\n\u001b[1;32m    850\u001b[0m             )\n\u001b[0;32m--> 851\u001b[0;31m         return self._input_request(str(prompt),\n\u001b[0m\u001b[1;32m    852\u001b[0m             \u001b[0mself\u001b[0m\u001b[0;34m.\u001b[0m\u001b[0m_parent_ident\u001b[0m\u001b[0;34m,\u001b[0m\u001b[0;34m\u001b[0m\u001b[0;34m\u001b[0m\u001b[0m\n\u001b[1;32m    853\u001b[0m             \u001b[0mself\u001b[0m\u001b[0;34m.\u001b[0m\u001b[0m_parent_header\u001b[0m\u001b[0;34m,\u001b[0m\u001b[0;34m\u001b[0m\u001b[0;34m\u001b[0m\u001b[0m\n",
            "\u001b[0;32m/usr/local/lib/python3.10/dist-packages/ipykernel/kernelbase.py\u001b[0m in \u001b[0;36m_input_request\u001b[0;34m(self, prompt, ident, parent, password)\u001b[0m\n\u001b[1;32m    893\u001b[0m             \u001b[0;32mexcept\u001b[0m \u001b[0mKeyboardInterrupt\u001b[0m\u001b[0;34m:\u001b[0m\u001b[0;34m\u001b[0m\u001b[0;34m\u001b[0m\u001b[0m\n\u001b[1;32m    894\u001b[0m                 \u001b[0;31m# re-raise KeyboardInterrupt, to truncate traceback\u001b[0m\u001b[0;34m\u001b[0m\u001b[0;34m\u001b[0m\u001b[0m\n\u001b[0;32m--> 895\u001b[0;31m                 \u001b[0;32mraise\u001b[0m \u001b[0mKeyboardInterrupt\u001b[0m\u001b[0;34m(\u001b[0m\u001b[0;34m\"Interrupted by user\"\u001b[0m\u001b[0;34m)\u001b[0m \u001b[0;32mfrom\u001b[0m \u001b[0;32mNone\u001b[0m\u001b[0;34m\u001b[0m\u001b[0;34m\u001b[0m\u001b[0m\n\u001b[0m\u001b[1;32m    896\u001b[0m             \u001b[0;32mexcept\u001b[0m \u001b[0mException\u001b[0m \u001b[0;32mas\u001b[0m \u001b[0me\u001b[0m\u001b[0;34m:\u001b[0m\u001b[0;34m\u001b[0m\u001b[0;34m\u001b[0m\u001b[0m\n\u001b[1;32m    897\u001b[0m                 \u001b[0mself\u001b[0m\u001b[0;34m.\u001b[0m\u001b[0mlog\u001b[0m\u001b[0;34m.\u001b[0m\u001b[0mwarning\u001b[0m\u001b[0;34m(\u001b[0m\u001b[0;34m\"Invalid Message:\"\u001b[0m\u001b[0;34m,\u001b[0m \u001b[0mexc_info\u001b[0m\u001b[0;34m=\u001b[0m\u001b[0;32mTrue\u001b[0m\u001b[0;34m)\u001b[0m\u001b[0;34m\u001b[0m\u001b[0;34m\u001b[0m\u001b[0m\n",
            "\u001b[0;31mKeyboardInterrupt\u001b[0m: Interrupted by user"
          ]
        }
      ]
    },
    {
      "cell_type": "code",
      "source": [
        "# formatting\n",
        "print(f'{3.14:=<10}') # 왼쪽 정렬\n",
        "print(f'{3.14:=>10}') # 오른쪽 정렬\n",
        "print(f'{3.14:=^10}') # 중앙 정렬\n",
        "print(f'{3.14:0.10f}')# 소수점 자리수\n",
        "print(f'{3.14:0.10e}')# scientific notation\n",
        "print(f'{3.14:%}')# 소수점 자리수\n",
        "\n",
        "# mentor\n",
        "# 이전 방식\n",
        "print('나의 이름은 %s입니다'%('한사람'))\n",
        "print('나의 이름은 \"%s\"입니다. 나이는 %d세이고 성별은 %s입니다.'%('한사람',33,'남성'))\n",
        "print('나이는 %d세이고 성별은 %s입니다. 나의 이름은 %s입니다. '%(33,'남성','한사람'))\n",
        "print('나이는 %03d세이고 신장은 %6.2f입니다. 나의 이름은 %s입니다. '%(33,56.789,'한사람'))\n",
        "print('-' * 40)\n",
        "\n",
        "# 파이썬(Python) 3 포맷팅 방식\n",
        "print('나의 이름은 {}입니다'.format('한사람'))\n",
        "print('나의 이름은 {0}입니다. 나이는 {1}세이고 성별은 {2}입니다.'.format('한사람',33,'남성'))\n",
        "print('나이는 {1}세이고 성별은 {2}입니다. 나의 이름은 {0}입니다. '.format('한사람',33,'남성'))\n",
        "print('나이는 {age}세이고 성별은 {gender}입니다. 나의 이름은 {name}입니다. '\n",
        "         .format(name='한사람',age=33,gender='남성'))\n",
        "print('만세삼창 :  {0}!!! {0}!!! {0}!!! '.format('만세'))\n",
        "print('삼삼칠 박수 :  {0}!!! {0}!!! {1}!!! '.format('짝'*3,'짝'*7))\n",
        "print('-' * 40)\n",
        "\n",
        "# 파이썬(Python) 3.6 f-string 방식\n",
        "something = '볼펜'\n",
        "EA = 2\n",
        "one_length = 5.343\n",
        "scale = 'cm'\n",
        "\n",
        "print(f'{something} {EA}개의 길이는 {one_length*EA}{scale} 입니다.')\n",
        "print(f'{something} {EA}개의 길이는 {one_length*EA:.1f}{scale} 입니다.')\n",
        "\n",
        "print('Python is [{:15}]'.format('good'))\n",
        "print('Python is [{:<15}]'.format('good'))\n",
        "print('Python is [{:>15}]'.format('good'))\n",
        "print('Python is [{:^15}]'.format('good'))\n",
        "print('당신의 나이는 [{:15}]세'.format(22))\n",
        "print('당신의 나이는 [{:<15}]세'.format(22))\n",
        "print('당신의 나이는 [{:>15}]세'.format(22))\n",
        "print('당신의 나이는 [{:<15}]세'.format(22))\n",
        "print('-' * 40)\n"
      ],
      "metadata": {
        "id": "ztURkHrhuO1g"
      },
      "execution_count": null,
      "outputs": []
    },
    {
      "cell_type": "markdown",
      "source": [],
      "metadata": {
        "id": "otwVNGVQw5zZ"
      }
    },
    {
      "cell_type": "markdown",
      "source": [
        "# Function\n",
        "신기하게도, 타입을 명시하지 않아도 아무거나 들어간다...! 이를 사전에 막기 위해선 [`isinstance`](https://docs.python.org/3/library/2to3.html?highlight=isinstance#to3fixer-isinstance)라던가 [`pydantic`](https://bskyvision.com/entry/python-Pydantic-%EC%9D%B4%ED%95%B4%ED%95%98%EA%B8%B0-data-class%EB%B3%B4%EB%8B%A4-%EB%8D%94-%EB%82%98%EC%9D%80-%EB%93%AF) 이라는 모듈을 사용하는 방법을 고려할 수 있다. [pydantic 공식](https://pydantic.dev/)"
      ],
      "metadata": {
        "id": "L60Q1h-FDVHD"
      }
    },
    {
      "cell_type": "code",
      "source": [
        "def plus(num1, num2):\n",
        "    try:\n",
        "        return num1 + num2\n",
        "    except:\n",
        "        return float('inf')\n",
        "\n",
        "def plus_with_type(num1: int, num2: int) -> int:\n",
        "    if isinstance(num1, int) and isinstance(num2, int):\n",
        "        return num1 + num2\n",
        "    raise TypeError('only int values are allowed')\n",
        "\n",
        "def minus(num1, num2):\n",
        "    return num1 - num2\n",
        "\n",
        "def multiply(num1, num2):\n",
        "    return num1 * num2\n",
        "\n",
        "def divide(num1, num2):\n",
        "    return num1 / num2\n",
        "\n",
        "print(f'plus : {plus(10, 5)}')\n",
        "print(f'minus : {minus(10, 5)}')\n",
        "print(f'multiply : {multiply(10, 5)}')\n",
        "print(f'divide : {divide(10, 5)}')\n",
        "\n",
        "# 이상한 코드를 막는 견고한 코드\n",
        "print(f'weird plus: {plus(10, \"hello, world\")}')\n",
        "\n",
        "print(f'ok plus: {plus_with_type(10, 20)}')\n",
        "try:\n",
        "    print(f'weird plus: {plus_with_type(10, \"hello, world\")}')\n",
        "except TypeError as e:\n",
        "    print(e)"
      ],
      "metadata": {
        "id": "PzykxPh941ww"
      },
      "execution_count": null,
      "outputs": []
    },
    {
      "cell_type": "code",
      "source": [
        "def my_pow(num1, num2):\n",
        "    if num2 == 0:\n",
        "        return 1\n",
        "    if num2 % 2 == 0:\n",
        "        half = my_pow(num1, num2 // 2)\n",
        "        return half * half\n",
        "    else:\n",
        "        half = my_pow(num1, num2 // 2)\n",
        "        return half * half * num1\n",
        "\n",
        "for exp in range(40):\n",
        "    print(f'2 ** {exp} = {my_pow(2, exp)}')\n",
        "    assert 2 ** exp == my_pow(2, exp)\n",
        "\n",
        "print(my_pow(23, 115))"
      ],
      "metadata": {
        "id": "lGnBHkFR5Cv1"
      },
      "execution_count": null,
      "outputs": []
    },
    {
      "cell_type": "markdown",
      "source": [
        "## What is Closure?\n",
        "\n",
        "아래는 제곱을 수행하는 또하나의 방법을 표현한다. 이것은 팩토리 함수라고도 부른다. 원래는 휘발되었어야 하는 `x`를 가진 채 `x ** y`를 수행하는 함수를 리턴할 수 있다."
      ],
      "metadata": {
        "id": "UbQJq4l2DYru"
      }
    },
    {
      "cell_type": "code",
      "source": [
        "def 제곱(x):\n",
        "    def 승수(y):\n",
        "        return x ** y\n",
        "    return 승수\n",
        "\n",
        "\n",
        "pow3 = 제곱(3)\n",
        "pow3_4 = pow3(4)"
      ],
      "metadata": {
        "id": "_d7_LAk9DceM"
      },
      "execution_count": null,
      "outputs": []
    },
    {
      "cell_type": "markdown",
      "source": [
        "## Local variables and Global variables\n",
        "\n",
        "1. 전역변수 선언 시 함수 내에서 접근은 가능하지만 수정이 되지 않는다.\n",
        "2. 전역변수를 함수 내에서 수정하기 위해선 `global` 을 작성하면 된다. 실무에서 거의 사용 안한다고 하넹"
      ],
      "metadata": {
        "id": "OwVvmCfg8Hdi"
      }
    },
    {
      "cell_type": "markdown",
      "source": [
        "# Lists\n",
        "- 순서를 가진 데이터들의 집합 (Sequentially)\n",
        "- 리스트는 값의 변경이 가능함\n",
        "- 심지어 다른 자료형을 집어넣을 수도 있다.\n",
        "- 심지어 리스트 안에 다른 리스트를 만들 수 있고, 그걸로 행렬을 만들 수도 있다.\n",
        "\n",
        "컨벤션 자료형(dict, tuple, set, list)의 경우 같은 값이 있을 경우 같은 곳을 가리키게 설계되어 있다."
      ],
      "metadata": {
        "id": "6h4hpWCXFoa4"
      }
    },
    {
      "cell_type": "code",
      "source": [
        "l = [1, 999, 999, 999, 1, 1, 999, 1]\n",
        "assert id(l[0]) == id(l[4]) == id(l[5])\n",
        "assert id(l[1]) == id(l[2]) == id(l[3]) == id(l[6])"
      ],
      "metadata": {
        "id": "59RR0qPLGEmb"
      },
      "execution_count": null,
      "outputs": []
    },
    {
      "cell_type": "markdown",
      "source": [
        "깨알 수학 지식\n",
        "```\n",
        "3                       == 스칼라\n",
        "[3, 4]                  == 벡터\n",
        "[[1, 2, 3],             == 메트릭스(행렬)\n",
        " [4, 5, 6],\n",
        " [7, 8, 9]]\n",
        "[[[1], [2], [3]],       == 텐서(다차원, 3차원 이상)\n",
        " [[4], [5], [6]],\n",
        " [[7], [8], [9]]]\n",
        "```\n",
        "텐서플로우 : 인공지능 중 유명한 라이브러리"
      ],
      "metadata": {
        "id": "fyAopcXXIiC3"
      }
    },
    {
      "cell_type": "markdown",
      "source": [
        "## List operations\n",
        "리스트에서 주의하여야 하는 연산은 바로 곱셈연산이다."
      ],
      "metadata": {
        "id": "VM1k6NR7Ixkl"
      }
    },
    {
      "cell_type": "code",
      "source": [
        "# Those are acceptable in my mind\n",
        "x = [10] * 3\n",
        "print(x)\n",
        "x[0] = 999\n",
        "print(x)\n",
        "\n",
        "# But things get weird\n",
        "x = [[10] * 2] * 3\n",
        "print(x)\n",
        "x[0][0] = 999\n",
        "print(x)\n",
        "\n",
        "# What on earth? I meant the result would be [[999, 10], [10, 10], [10, 10]]\n",
        "# but when you look into ids,,,\n",
        "assert id(x[0][0]) == id(x[1][0]) == id(x[2][0])"
      ],
      "metadata": {
        "id": "FtYW-6NPHaVE"
      },
      "execution_count": null,
      "outputs": []
    },
    {
      "cell_type": "markdown",
      "source": [
        "리스트 덧셈연산은 `extend`와 동일하다는 점. \n",
        "- 말 나온 김에 `append`까지 알아보자. 얘는 단일 오브젝트를 집어넣는다.\n",
        "- 말 나온 김에 `clear`까지 알아보자. 실무에서 한 번도 안 써봤다고 하는데?\n",
        "- `copy`: 객체를 복제한다. 명심해라, 모든 파이썬 변수는 값을 가리키는 포인터라는거. 사실 슬라이싱 문법 `[:]`를 사용하면 같은 저시기가 되기도 한다는 거 알아만 두자.\n",
        "    - 다만... 얕은복사이다. 1차원 리스트이면 슬라이싱, `copy` 가 문제없이 동작하지만, 2차원 리스트인 경우부터 2차 인덱싱부터는 복사가 이루어지지 않는다."
      ],
      "metadata": {
        "id": "aHccV_nUNIai"
      }
    },
    {
      "cell_type": "code",
      "source": [
        "x = [1,2,3]\n",
        "print(x + [4,5,6])\n",
        "\n",
        "#print(x + 1) # error\n",
        "\n",
        "x.extend([7,8,9])\n",
        "print(x)\n",
        "\n",
        "x.append(10)\n",
        "print(x)\n",
        "\n",
        "x.clear()\n",
        "print(x)\n",
        "\n",
        "제주과일가게 = {'banana': 1000, 'watermelon': 2000, 'strawberry': 3000}\n",
        "서울과일가게 = 제주과일가게\n",
        "# 서울과일가게의 바나나 값만 올리고 싶어요\n",
        "서울과일가게['banana'] = 5000\n",
        "print(f'서울과일가게: {서울과일가게}')\n",
        "print(f'제주과일가게: {제주과일가게}') # 제주과일가게까지 같이 변했다.\n",
        "\n",
        "print('retry!')\n",
        "# retry\n",
        "제주과일가게 = {'banana': 1000, 'watermelon': 2000, 'strawberry': 3000}\n",
        "서울과일가게 = 제주과일가게.copy()\n",
        "서울과일가게['banana'] = 5000\n",
        "print(f'서울과일가게: {서울과일가게}')\n",
        "print(f'제주과일가게: {제주과일가게}') \n",
        "\n"
      ],
      "metadata": {
        "id": "omyfZYgJNL6N"
      },
      "execution_count": null,
      "outputs": []
    },
    {
      "cell_type": "markdown",
      "source": [
        "깊은 복사, 얕은 복사는 별도의 주제에서 다룰 예정이지만 찍먹 한 번은 괜찮잖아?"
      ],
      "metadata": {
        "id": "6Pu-I0zZR93H"
      }
    },
    {
      "cell_type": "code",
      "source": [
        "print('Deep copy & Shallow copy')\n",
        "l = [[1, 2, 3], [4, 5, 6]]\n",
        "ll = l[:]\n",
        "l[0][0] = 1000\n",
        "print(l, ll)"
      ],
      "metadata": {
        "id": "yQDPcI-eNL-5"
      },
      "execution_count": null,
      "outputs": []
    },
    {
      "cell_type": "code",
      "source": [
        "l = [[1, 2, 3], [4, 5, 6]]\n",
        "ll = l.copy()\n",
        "l[0][0] = 1000\n",
        "print(l, ll)"
      ],
      "metadata": {
        "id": "3QAUP018SwB2"
      },
      "execution_count": null,
      "outputs": []
    },
    {
      "cell_type": "markdown",
      "source": [
        "- `count` 는 리스트 안에 인자로 넣은 값의 수를 세어준다.\n",
        "- `index` 는 리스트 안에 인자로 넣은 값이 왼쪽에서부터 **첫번째로** 나오는 원소의 인덱스를 출력한다."
      ],
      "metadata": {
        "id": "iwJdKtfiTC8n"
      }
    },
    {
      "cell_type": "code",
      "source": [
        "help(list.index)"
      ],
      "metadata": {
        "id": "0gvzixd7TZJJ"
      },
      "execution_count": null,
      "outputs": []
    },
    {
      "cell_type": "code",
      "source": [
        "help(list.insert)"
      ],
      "metadata": {
        "id": "RiusJa_xTuak"
      },
      "execution_count": null,
      "outputs": []
    },
    {
      "cell_type": "code",
      "source": [
        "help(list.pop)"
      ],
      "metadata": {
        "id": "9Nt-x_vjT0Zb"
      },
      "execution_count": null,
      "outputs": []
    },
    {
      "cell_type": "code",
      "source": [
        "help(list.remove)"
      ],
      "metadata": {
        "id": "gIENNYztT3Mn"
      },
      "execution_count": null,
      "outputs": []
    },
    {
      "cell_type": "markdown",
      "source": [
        "- `list.reverse`는 원본을 만진다.\n",
        "- `reversed` 는 원본을 만지지 않고 역순으로 만들어준다."
      ],
      "metadata": {
        "id": "622_p_fkWHEy"
      }
    },
    {
      "cell_type": "code",
      "source": [
        "help(list.reverse)\n",
        "print('######################################')\n",
        "help(reversed)"
      ],
      "metadata": {
        "id": "QoO-jMiPT6i7"
      },
      "execution_count": null,
      "outputs": []
    },
    {
      "cell_type": "markdown",
      "source": [
        "### sort\n",
        "이건 중요해서 헤딩처리함\n",
        "- `sort`는 원본을 만지고, 반환값이 없음(`None`)\n",
        "- `sorted`는 원본을 만지지 않고 정렬된 새 리스트를 반환한다.\n",
        "    - `key` 인자는 비교를 수행할 키값을 리턴하는 함수를 받는다. 이를 이용해 커스텀 정렬을 수행할 수 있게된다.\n",
        "\n",
        "- 공통: 옵션 중에 알아두면 좋을 `reverse`는 True로 설정될시 descending order로 정렬을 수행한다.\n",
        "\n"
      ],
      "metadata": {
        "id": "EBZ658VsIIbJ"
      }
    },
    {
      "cell_type": "code",
      "source": [
        "help(list.sort)\n",
        "print('#####################')\n",
        "help(sorted)\n",
        "\n",
        "# Practice 1\n",
        "l = [[1, 10, 'leehojun'], \n",
        "     [20, 30, 'hojun'], \n",
        "     [10, 20, 'weniv'], \n",
        "     [1, 2, 'likelion'], \n",
        "     [55, 11, 'sun']]\n",
        "\n",
        "print('1. 글자 수 대로 정렬해주세요')\n",
        "print(sorted(l, key=lambda x: len(x[2])))\n",
        "print()\n",
        "\n",
        "print('2. 맨 앞에 위치한 숫자대로 정렬해주세요.')\n",
        "print(sorted(l, key=lambda x: x[0]))\n",
        "print()\n",
        "\n",
        "print('3. 중앙에 위치한 값대로 정렬해주세요.')\n",
        "print(sorted(l, key=lambda x: x[1]))\n",
        "print()\n",
        "\n",
        "# Practice 2\n",
        "l = [[1, 10, 32], \n",
        "     [20, 30, 11], \n",
        "     [10, 20, 22], \n",
        "     [1, 2, 13], \n",
        "     [55, 11, 44]]\n",
        "print('4. 3개의 전체 합이 작은 순서대로 출력해주세요.')\n",
        "print(sorted(l, key=sum))\n",
        "print()"
      ],
      "metadata": {
        "id": "qTpiHilNUQHc"
      },
      "execution_count": null,
      "outputs": []
    },
    {
      "cell_type": "markdown",
      "source": [
        "https://codingdojang.com/scode/408?answer_mode=hid\n",
        "좌표평면 문제가 나오면 차원 축소나 차원 확대가 가능한 문제인지 확인할 것.\n",
        "\n",
        "problem:\n",
        "> 1차원의 점들이 주어졌을 때, 그 중 가장 거리가 짧은 것의 쌍을 출력하는 함수를 작성하시오. (단 점들의 배열은 모두 정렬되어있다고 가정한다.)\n",
        "\n",
        "> 예를들어 S={1, 3, 4, 8, 13, 17, 20} 이 주어졌다면, 결과값은 (3, 4)가 될 것이다.\n",
        "\n",
        "`zip`을 활용하면 두 iterable들을 쌍쌍바처럼 묶어준다. 아래 코드의 `zip(S, S[:1])`의 의미는 S의 모든 원소와 S의 첫번째 원소부터 시작하는 저시기를 묶어준다. 범위 초과에 대하여 알아서 처리하는 걸 보니 매우 똑똑한 녀석인듯."
      ],
      "metadata": {
        "id": "uENF5VW3NyeU"
      }
    },
    {
      "cell_type": "code",
      "source": [
        "S = [1,3,4,8,13,17,20]\n",
        "print('1차: zip으로 쌍쌍바 묶기')\n",
        "zipped = zip(S, S[1:])\n",
        "print(sorted(zipped, key=lambda z: z[1] - z[0])[0])"
      ],
      "metadata": {
        "id": "PrlTKE6gOMvL"
      },
      "execution_count": null,
      "outputs": []
    },
    {
      "cell_type": "markdown",
      "source": [
        "만약 리스트 정렬 수행결과 뿐만 아니라 옮겨진 **인덱스**까지 추적하고 싶다면 [다음 토론](https://stackoverflow.com/questions/7851078/how-to-return-index-of-a-sorted-list#7851166)을 보는 것이 좋다. \n",
        "\n",
        "pandas의 `sorted_index`를 사용하는 것보다 이게 훨씬 낫다!!!"
      ],
      "metadata": {
        "id": "LbDRHiKETuX4"
      }
    },
    {
      "cell_type": "code",
      "source": [
        "l = [10, 20, 30, 2, 1, 8, 13, 17, 5, 20]\n",
        "print(f'sorted list: {sorted(l)}')\n",
        "print(f'sorted index: {sorted(range(len(l)), key=lambda k: l[k])}')"
      ],
      "metadata": {
        "id": "vLemyujhUk05"
      },
      "execution_count": null,
      "outputs": []
    },
    {
      "cell_type": "markdown",
      "source": [
        "https://school.programmers.co.kr/learn/courses/30/lessons/120835\n",
        "\n",
        "응급도 `[3, 76, 24]` \n",
        "\n",
        "우선순위`[3, 1, 2]`"
      ],
      "metadata": {
        "id": "9gp7RjolV4Y_"
      }
    },
    {
      "cell_type": "code",
      "source": [
        "# TODO: 문제풀기"
      ],
      "metadata": {
        "id": "n0rLkIy_WARu"
      },
      "execution_count": null,
      "outputs": []
    },
    {
      "cell_type": "markdown",
      "source": [
        "`filter`를 사용하면 `remove`를 여러번 사용한 효과."
      ],
      "metadata": {
        "id": "xrEPsrHSHzYE"
      }
    },
    {
      "cell_type": "code",
      "source": [
        "list(filter(lambda x: x != 20, [10, 20, 30, 40, 50, 20, 20, 20]))"
      ],
      "metadata": {
        "id": "-dakmbSCVrnb"
      },
      "execution_count": null,
      "outputs": []
    },
    {
      "cell_type": "markdown",
      "source": [
        "# Deep Copy & Shallow Copy\n",
        "\n"
      ],
      "metadata": {
        "id": "q7zQa-6Jbqsl"
      }
    },
    {
      "cell_type": "code",
      "source": [
        "# 얕은복사 => 0-depth value copy\n",
        "l = [[1,2,3],[4,5,6]]\n",
        "ll = l[:]\n",
        "assert id(l) != id(ll)\n",
        "assert id(l[0]) == id(ll[0])\n",
        "\n",
        "# 깊은복사 => N-depth recursive value copy\n",
        "from copy import deepcopy\n",
        "l = [[1,2,3],[4,5,6]]\n",
        "ll = deepcopy(l)\n",
        "assert id(l) != id(ll)\n",
        "assert id(l[0]) != id(ll[0])"
      ],
      "metadata": {
        "id": "F6NW9a9ucAs_"
      },
      "execution_count": null,
      "outputs": []
    },
    {
      "cell_type": "markdown",
      "source": [
        "# Range\n",
        "range 자체는 할 말이 별로 없다. 그냥 슬라이싱 문법과 일맥상통하기 때문."
      ],
      "metadata": {
        "id": "3XPt7aGqpkuw"
      }
    },
    {
      "cell_type": "markdown",
      "source": [
        "# Tuple\n",
        "\n",
        "- 튜플은 순서가 있는 시퀀스형 자료형입니다.\n",
        "- 참조값은 변경이 불가능(immutable) 합니다.\n",
        "- 다른 자료형을 입력할 수 있으며, 튜플 안에 튜플로 다차원의 튜플을 만드는 것도 가능합니다.\n",
        "- 값의 중복을 허락합니다. \n",
        "- 단일튜플은 `(100,)` 이런 식으로 옆에 `,` 가 붙어야 한다. 그냥 쓰면 `int`임\n"
      ],
      "metadata": {
        "id": "4VaxDzUc_YZj"
      }
    },
    {
      "cell_type": "markdown",
      "source": [
        "# Dictionary\n",
        "\n",
        "- 순서가 없는 자료형, 순서를 보장하지 않는다(`ver <3.6`). 현재, dictionary는 순서를 보장한다(`ver >= 3.6`)\n",
        "- Key, value가 하나의 묶음으로\n",
        "- 값의 변경이 가능\n",
        "- 다른 자료형을 입력할 수 있음\n",
        "- 키의 중복은 허락하지 않고, 값의 중복을 허락함.\n",
        "\n",
        "허참\n",
        "\n",
        "`{}` => dictionary\n",
        "`{10}` => set"
      ],
      "metadata": {
        "id": "AsIxcTXS_26h"
      }
    },
    {
      "cell_type": "code",
      "source": [
        "d = {'one' : '하나', 'two' : '둘', 'three' : '셋'}\n",
        "print(d)\n",
        "print(d['one'])\n",
        "d['two'] = '투'\n",
        "print(d)\n"
      ],
      "metadata": {
        "id": "AmfAQmysAwT9"
      },
      "execution_count": null,
      "outputs": []
    },
    {
      "cell_type": "markdown",
      "source": [
        "- `items` 메서드는 `(key, value)` 쌍을 튜플로 저장한 리스트를 리턴한다. \n",
        "    - `items`가 리턴한 리스트를 고대로 복사해서 `dict` 생성자에 넣어도 똑같이 작동한다."
      ],
      "metadata": {
        "id": "zt9XcKhjB47Y"
      }
    },
    {
      "cell_type": "code",
      "source": [
        "help(dict.items)\n",
        "d = {'one' : '하나', 'two' : '둘', 'three' : '셋'}\n",
        "print(d.items())\n",
        "another_d = dict([('one', '하나'), ('two', '둘'), ('three', '셋')])\n",
        "assert d == another_d"
      ],
      "metadata": {
        "id": "hQvff0IBCPuO"
      },
      "execution_count": null,
      "outputs": []
    },
    {
      "cell_type": "code",
      "source": [
        "l = [10, 20, 30, 40]\n",
        "dict(zip('ABC', zip(l, l[1:])))"
      ],
      "metadata": {
        "id": "wMFwrLu-DE20"
      },
      "execution_count": null,
      "outputs": []
    },
    {
      "cell_type": "code",
      "source": [
        "help(dict.values)"
      ],
      "metadata": {
        "id": "wPz5cN_dJBHn"
      },
      "execution_count": null,
      "outputs": []
    },
    {
      "cell_type": "code",
      "source": [
        "help(dict.items)"
      ],
      "metadata": {
        "id": "ikRvPE3fJI6s"
      },
      "execution_count": null,
      "outputs": []
    },
    {
      "cell_type": "code",
      "source": [
        "help(dict.get)"
      ],
      "metadata": {
        "id": "MhfsI_CQJQU0"
      },
      "execution_count": null,
      "outputs": []
    },
    {
      "cell_type": "markdown",
      "source": [
        "ver 3.10 이전까지는 `dict`를 활용하여 `switch` 비스무리한 저시기를 구현하였다. 하지만 [match case](https://codechacha.com/ko/python-switch-case/)의 등장으로 굳이 `dict`를 사용할 필요가 없게 되었다."
      ],
      "metadata": {
        "id": "29YmEMLrKB8e"
      }
    },
    {
      "cell_type": "code",
      "source": [
        "# python ver <3.10\n",
        "def switch(day):\n",
        "    return {\n",
        "        1 : '월요일',\n",
        "        2 : '화요일',\n",
        "        3 : '수요일',\n",
        "        4 : '목요일',\n",
        "        5 : '금요일',\n",
        "        6 : '토요일',\n",
        "        7 : '일요일',\n",
        "    }[day]\n",
        "\n",
        "switch(7)"
      ],
      "metadata": {
        "id": "zWCClpdbKp5G"
      },
      "execution_count": null,
      "outputs": []
    },
    {
      "cell_type": "code",
      "source": [
        "# python ver >=3.10\n",
        "day = 7\n",
        "match day:\n",
        "    case 1:\n",
        "        print('월요일'),\n",
        "    case 2:\n",
        "        print('화요일'),\n",
        "    case 3:\n",
        "        print('수요일'),\n",
        "    case 4:\n",
        "        print('목요일'),\n",
        "    case 5:\n",
        "        print('금요일'),\n",
        "    case 6:\n",
        "        print('토요일'),\n",
        "    case 7:\n",
        "        print('일요일'),"
      ],
      "metadata": {
        "id": "y9ldL2fbKvoF"
      },
      "execution_count": null,
      "outputs": []
    },
    {
      "cell_type": "markdown",
      "source": [
        "- `fromkeys`는 시퀀스형 자료를 가지고 딕셔너리 key를 만들어준다."
      ],
      "metadata": {
        "id": "W3pjqUfRL76e"
      }
    },
    {
      "cell_type": "code",
      "source": [
        "help(dict.fromkeys)\n",
        "print(dict.fromkeys('ChoiWheatley'))"
      ],
      "metadata": {
        "id": "qB5y06hZMCpS"
      },
      "execution_count": null,
      "outputs": []
    },
    {
      "cell_type": "markdown",
      "source": [
        "- `update`는 기존의 데이터에 추가로 새로운 필드를 추가하고 싶을때 사용한다. 만약 이미 있는 key라면 수정하고, 없다면 추가한다."
      ],
      "metadata": {
        "id": "7ertdx5IM3j3"
      }
    },
    {
      "cell_type": "code",
      "source": [
        "help(dict.update)"
      ],
      "metadata": {
        "id": "BqePwDbfM_JD"
      },
      "execution_count": null,
      "outputs": []
    },
    {
      "cell_type": "markdown",
      "source": [
        "## Dictionary Iteration and Unpacking\n",
        "\n",
        "`dict` 자체를 `for` 문에 넣으면 key값만 튀어나온다. 만약 key-value쌍을 모두 받아보고 싶다면 `items` 메서드를 사용하면 된다. `items`는 위에서 알아보았듯이 튜플 리스트를 리턴하기 때문에 매 이터레이션마다 튜플을 받아보게 된다. 우리는 *unpacking* 문법을 활용하여 튜플을 받지 않고 튜플 내용을 *분해*하여 획득하게 된다."
      ],
      "metadata": {
        "id": "jWTaWFtENLV-"
      }
    },
    {
      "cell_type": "code",
      "source": [
        "d = {'two': 2, 'three' : '셋'}\n",
        "for i in d:\n",
        "    print(i)\n",
        "print()\n",
        "for key, value in d.items():\n",
        "    print(f'key: {key}, value: {value}')"
      ],
      "metadata": {
        "id": "zeq6IL-eNOtA"
      },
      "execution_count": null,
      "outputs": []
    },
    {
      "cell_type": "markdown",
      "source": [
        "unpacking을 사용한 몇가지 예시\n",
        "- value swap"
      ],
      "metadata": {
        "id": "dFyH2_V5Op7G"
      }
    },
    {
      "cell_type": "code",
      "source": [
        "a = 10\n",
        "b = 15\n",
        "a, b = b, a\n",
        "print(a, b)"
      ],
      "metadata": {
        "id": "G2dt_aQbOvPA"
      },
      "execution_count": null,
      "outputs": []
    },
    {
      "cell_type": "code",
      "source": [
        "`max`를 이용한 `dict`의 최대 value의 key 값가져오기"
      ],
      "metadata": {
        "id": "ny60jzdvPwR_"
      },
      "execution_count": null,
      "outputs": []
    },
    {
      "cell_type": "code",
      "source": [
        "d = {\n",
        "    'test1': 10,\n",
        "    'test2': 20,\n",
        "    'test3': 31,\n",
        "    'test4': 11\n",
        "}\n",
        "\n",
        "print(max(d.values()))  # 얘는 키값을 뽑아낼 수 없다.\n",
        "# 아래 두개를 사용하여 최대 value의 key 가져오기 가능\n",
        "print(max(d, key=lambda x: d[x]))\n",
        "print(max(d, key=d.get))"
      ],
      "metadata": {
        "id": "-VMYgeoRP3Lj"
      },
      "execution_count": null,
      "outputs": []
    },
    {
      "cell_type": "markdown",
      "source": [
        "# Set\n",
        "\n",
        "중복을 허용하지 않고, 순서가 없는 자료형임."
      ],
      "metadata": {
        "id": "4obAfZC_QdRS"
      }
    },
    {
      "cell_type": "code",
      "source": [
        "print(set('apple coffee'))"
      ],
      "metadata": {
        "id": "AKZx5b0MQcvT"
      },
      "execution_count": null,
      "outputs": []
    },
    {
      "cell_type": "markdown",
      "source": [
        "메서드들을 알아보자.\n",
        "- `add`: 값을 추가\n",
        "- `update`: 값을 여러개 추가\n",
        "- `remove`: 특정 값을 제거하고 싶을때 사용. 값이 set 안에 없을때 오류를 내보낸다.\n",
        "- `discard`: 특정 값을 제고하고 싶을때 사용. 값이 set 안에 없어도 오류를 발생시키지 않는다.\n",
        "- `pop`: 주의할 것! `set`은 **순서가 없는** 자료형이기 때문에 어떤 값이 먼저 나올지 알 수 없음.\n",
        "- `intersection`, `&` => 두 집합의 교집합을 수행한 새 `set`을 리턴함\n",
        "- `union`, `|` => 두 집합의 합집합을 수행한 새 `set`을 리턴함.\n",
        "- `difference`, `-` => 두 집합의 차집합을 수행한 새 `set`을 리턴함.\n",
        "- `symmetric_difference`, `^` => 두 집합의 공통된 부분을 제외한 나머지 부분을 남긴 새 `set`을 리턴함.\n",
        "- query => `in` 문법을 사용하여 해당 값이 `set` 안에 존재하는지 질의할 수 있음."
      ],
      "metadata": {
        "id": "VvPxOEVoRFYJ"
      }
    },
    {
      "cell_type": "code",
      "source": [
        "# https://school.programmers.co.kr/learn/courses/30/lessons/120888\n",
        "# my_string        result\n",
        "# \"people\"        \"peol\"\n",
        "# 중복제거까지는 set을 사용하는 건 알겠어. 그런데 어떻게 원래 순서를 보장하지?\n",
        "# => 원본 문자열을 순회하면서 set에 있는지 쿼리, 있다면 answer에 append 하고 해당 원소를 set에서 삭제함\n",
        "\n",
        "def solution(my_string):\n",
        "    answer = ''\n",
        "    my_set = set(my_string)\n",
        "    for c in my_string:\n",
        "        if c in my_set:\n",
        "            answer += c\n",
        "            my_set.remove(c)\n",
        "    return answer\n",
        "\n",
        "print(solution('people'))\n",
        "print(solution('We are the world'))"
      ],
      "metadata": {
        "id": "lvnj9c1QSoir"
      },
      "execution_count": null,
      "outputs": []
    },
    {
      "cell_type": "markdown",
      "source": [
        "교집합, 합집합, etc., 이런놈들은 리턴값이 새 `set`인가? 내부 원소들은... 같은 곳을 가리키겠지?"
      ],
      "metadata": {
        "id": "1dxGTaF5XvD0"
      }
    },
    {
      "cell_type": "code",
      "source": [
        "help(set.union)\n",
        "s1 = {1,2,3,4,5}\n",
        "s2 = {5,6,7,8,9}\n",
        "intersected = s1 & s2\n",
        "print(intersected)\n",
        "\n",
        "# `*`을 쓰면 unpack을 해줌\n",
        "print(*map(lambda x: id(x), s1), sep=', ')"
      ],
      "metadata": {
        "id": "vc4XYRBOT5UO"
      },
      "execution_count": null,
      "outputs": []
    },
    {
      "cell_type": "code",
      "source": [
        "print('1.########################################################')\n",
        "print()\n",
        "\n",
        "student_score = {\n",
        "\t\t'홍의': 97,\n",
        "\t\t'원희': 60,\n",
        "\t\t'동해': 77,\n",
        "\t\t'변수': 79,\n",
        "\t\t'창현': 89,\n",
        "}\n",
        "\n",
        "print('학생들의 총점을 구하는 코드를 작성하세요.')\n",
        "print(f'총점: {sum(student_score.values())}')\n",
        "print()\n",
        "\n",
        "print('학생들의 평균점수를 구하는 코드를 작성하세요.')\n",
        "print(f'평균점수: {sum(student_score.values()) / len(student_score)}')\n",
        "print()\n",
        "\n",
        "print('점수가 가장 높은 학생의 이름과 그 점수를 구하는 코드를 작성하세요.')\n",
        "first_student = max(student_score, key=student_score.get)\n",
        "print(f'1등: {first_student}, 점수: {student_score[first_student]}')\n",
        "print()\n",
        "\n",
        "print('점수가 가장 낮은 학생의 이름과 그 점수를 구하는 코드를 작성하세요.')\n",
        "last_student = min(student_score, key=student_score.get)\n",
        "print(f'꼴지: {last_student}, 점수: {student_score[last_student]}')\n",
        "print()\n",
        "\n",
        "\n",
        "print('2.#####################################################')\n",
        "like = ['볶음밥', '라면', '국수', '파스타', '치킨', '짜장면', '국밥']\n",
        "dislike = ['국밥', '짬뽕', '찜닭', '파스타', '국수', '카레', '덮밥']\n",
        "like = set(like)\n",
        "dislike = set(dislike)\n",
        "print(f'최종후보 메뉴: {list(like - dislike)}')\n"
      ],
      "metadata": {
        "id": "MhVBTx4_agnM"
      },
      "execution_count": null,
      "outputs": []
    },
    {
      "cell_type": "markdown",
      "source": [
        "# 갑분 match case\n",
        "rust에서 아주 파워풀한 match 키워드의 냄새가 폴폴 난다. \n",
        "- [Rust - Pattern Syntax](https://rust-book.cs.brown.edu/ch18-03-pattern-syntax.html#multiple-patterns)\n",
        "- [PEP 636 - Match Case Tutorials in Python](https://peps.python.org/pep-0636/)\n",
        "\n",
        "매치 구문에 튜플을 넣어 if-else로 도배되었을 복잡한 저시기에 광명을 찾아줄 수 있다.\n",
        "\n",
        "1. `case` 절에 변수를 바인드(캡처) 할 수 있다.\n",
        "2. 구체적인 값을 필터링 할 수 있다. 심지어 그 필터링 자체를 or 연산을 하여 유연하게 대응할 수 있다. 심지어!! 그 필터링 결과를 `as` 키워드를 사용하여 캡처할 수도 있다.\n",
        "3. wildcard `_`를 사용하여 사용하지 않는 케이스를 건너뛸 수도 있다.\n",
        "4. 패턴 뒤에 `if`를 붙여 캡처 변수에 조건을 걸 수 있다."
      ],
      "metadata": {
        "id": "fGBZOqMkhKkv"
      }
    },
    {
      "cell_type": "code",
      "source": [
        "\n",
        "# 튜플을 분해하여 각각의 원소에 바인드(캡처) 할 수 있다 => Capture Patterns\n",
        "numbers = (2, 4, 8, 16, 32)\n",
        "match numbers:\n",
        "    case (first, second, third, fourth, fifth):\n",
        "        print(f'some numbers: {first}, {second}, {third}, {fourth}, {fifth}')\n",
        "\n",
        "# 구체적인 값을 필터링하여 처리할 수 있다 => Literal Patterns\n",
        "# 거기에 더해 wildcard `_`를 사용하여 exhaustive pattern matching을 활용!\n",
        "def http_error(status):\n",
        "    match status:\n",
        "        case 400:\n",
        "            return \"Bad request\"\n",
        "        case 404:\n",
        "            return \"Not found\"\n",
        "        case 418:\n",
        "            return \"I'm a teapot\"\n",
        "        case _:\n",
        "            return \"Something's wrong with the Internet\"\n",
        "print(http_error(400))\n",
        "\n",
        "# Pattern에 `or` 연산을 사용하여 유연하게 대응하는 모습\n",
        "def http_error2(status):\n",
        "    match status:\n",
        "        case 401 | 403 | 404:\n",
        "            return \"Not allowed\"\n",
        "        case _:\n",
        "            return \"Something's wrong with the Internet\"\n",
        "\n",
        "print(http_error2(403))\n",
        "\n",
        "# Pattern에 `as` 키워드를 사용하여 저시기를 캡처하는 모습\n",
        "def http_error3(status):\n",
        "    match status:\n",
        "        case (401 | 403 | 404) as code:\n",
        "            return f\"Not allowed: {code}\"\n",
        "        case _:\n",
        "            return \"Something's wrong with the Internet\"\n",
        "print(http_error3(403))\n",
        "\n",
        "# Pattern에 아예 `if` 조건을 달 수 있다 예를 들어 `or` 연산을 너무 많이 붙여야 \n",
        "# 할 경우, 아예 검사식을 따로 추가하는 것을 고려할 수 있다.\n",
        "available_direction = [\"left\", \"right\"]\n",
        "def command_parse(command):\n",
        "    match command.split():\n",
        "        case [\"go\", direction] if direction in available_direction:\n",
        "            return f\"let's go {direction}!\"\n",
        "        case [\"go\", _]:\n",
        "            return f\"Sorry, you can't go that way\"\n",
        "        case _:\n",
        "            return f\"Unknown command\"\n",
        "print(command_parse(\"go left\"))\n",
        "print(command_parse(\"go down\"))\n",
        "print(command_parse(\"hello, world\"))"
      ],
      "metadata": {
        "id": "YN4-zHIPhJm-"
      },
      "execution_count": null,
      "outputs": []
    },
    {
      "cell_type": "code",
      "source": [
        "def f(a, b=20, c=10): # 순서대로 안주어야 하기 때문에 a에 값을 넣지 않았습니다.\n",
        "    print(a, b, c)\n",
        "\n",
        "# f() # error\n",
        "f(100)\n",
        "f(100, 10)\n",
        "f(a=100, b=200, c=300)\n",
        "f(c=300, a=100, b=200)"
      ],
      "metadata": {
        "id": "DI4QzgZsZ7KS"
      },
      "execution_count": null,
      "outputs": []
    },
    {
      "cell_type": "markdown",
      "source": [
        "# tenery if operator\n",
        "\n",
        "```\n",
        "{{expr}} if {{cond}} else {{expr}}\n",
        "```"
      ],
      "metadata": {
        "id": "FZfD-qo9YQQi"
      }
    },
    {
      "cell_type": "code",
      "source": [
        "# 3항 연산자는 가독성을 해치지 않는 선에서 많이 사용합니다.\n",
        "print('one') if 5 > 1 else print('two')"
      ],
      "metadata": {
        "id": "Eiq0QR9aatJq"
      },
      "execution_count": null,
      "outputs": []
    },
    {
      "cell_type": "markdown",
      "source": [
        "# List Comprehension\n",
        "\n",
        "`for` + `append` 보다 속도도 빠르고 가독성도 좋은데 안 쓸이유가 없잖아?\n",
        "\n",
        "구문:\n",
        "```python\n",
        "[{{expr}} for {{variable}} in {{iterable}} {{condition}}]\n",
        "```\n",
        "\n"
      ],
      "metadata": {
        "id": "V6GhAqHXUW0h"
      }
    },
    {
      "cell_type": "code",
      "source": [
        "print([i for i in range(10)])\n",
        "# if문을 넣어 필터링도 가능쓰\n",
        "print([i for i in range(10) if i % 2 == 0])\n",
        "list(range(0, 10, 2)) # 이것도 가능쓰"
      ],
      "metadata": {
        "colab": {
          "base_uri": "https://localhost:8080/"
        },
        "id": "bd02hy3CV62i",
        "outputId": "25e7f483-47b0-4b5d-9471-b87730a13c7d"
      },
      "execution_count": null,
      "outputs": [
        {
          "output_type": "stream",
          "name": "stdout",
          "text": [
            "[0, 1, 2, 3, 4, 5, 6, 7, 8, 9]\n",
            "[0, 2, 4, 6, 8]\n"
          ]
        },
        {
          "output_type": "execute_result",
          "data": {
            "text/plain": [
              "[0, 2, 4, 6, 8]"
            ]
          },
          "metadata": {},
          "execution_count": 115
        }
      ]
    },
    {
      "cell_type": "code",
      "source": [
        "l = ['aa', 'abc', 'bbb', 'ccc', 'aba']\n",
        "print([i for i in l if 'a' in i])"
      ],
      "metadata": {
        "colab": {
          "base_uri": "https://localhost:8080/"
        },
        "id": "K_Bbs6i1Wk7D",
        "outputId": "7d26bc76-37e4-4984-adb2-fff30d1c27fa"
      },
      "execution_count": null,
      "outputs": [
        {
          "output_type": "stream",
          "name": "stdout",
          "text": [
            "['aa', 'abc', 'aba']\n"
          ]
        }
      ]
    },
    {
      "cell_type": "code",
      "source": [
        "# for 중첩도 가능하다. 아래는 cartesian product를 하는 구구단을 보여준다.\n",
        "[[i, j, i * j] for i in range(2, 8) for j in range(2, 8)]\n"
      ],
      "metadata": {
        "colab": {
          "base_uri": "https://localhost:8080/"
        },
        "id": "2GujgMuDWneT",
        "outputId": "ebc54a59-8d2f-4da9-d71d-879c4477e219"
      },
      "execution_count": null,
      "outputs": [
        {
          "output_type": "execute_result",
          "data": {
            "text/plain": [
              "[[2, 2, 4],\n",
              " [2, 3, 6],\n",
              " [2, 4, 8],\n",
              " [2, 5, 10],\n",
              " [2, 6, 12],\n",
              " [2, 7, 14],\n",
              " [3, 2, 6],\n",
              " [3, 3, 9],\n",
              " [3, 4, 12],\n",
              " [3, 5, 15],\n",
              " [3, 6, 18],\n",
              " [3, 7, 21],\n",
              " [4, 2, 8],\n",
              " [4, 3, 12],\n",
              " [4, 4, 16],\n",
              " [4, 5, 20],\n",
              " [4, 6, 24],\n",
              " [4, 7, 28],\n",
              " [5, 2, 10],\n",
              " [5, 3, 15],\n",
              " [5, 4, 20],\n",
              " [5, 5, 25],\n",
              " [5, 6, 30],\n",
              " [5, 7, 35],\n",
              " [6, 2, 12],\n",
              " [6, 3, 18],\n",
              " [6, 4, 24],\n",
              " [6, 5, 30],\n",
              " [6, 6, 36],\n",
              " [6, 7, 42],\n",
              " [7, 2, 14],\n",
              " [7, 3, 21],\n",
              " [7, 4, 28],\n",
              " [7, 5, 35],\n",
              " [7, 6, 42],\n",
              " [7, 7, 49]]"
            ]
          },
          "metadata": {},
          "execution_count": 119
        }
      ]
    },
    {
      "cell_type": "markdown",
      "source": [
        "# random module"
      ],
      "metadata": {
        "id": "afFbqCgTaNdt"
      }
    },
    {
      "cell_type": "code",
      "source": [
        "import random\n",
        "print([random.randint(1, 100) for _ in range(20)])"
      ],
      "metadata": {
        "colab": {
          "base_uri": "https://localhost:8080/"
        },
        "id": "aAHJOPpJaPOZ",
        "outputId": "e3cb33fb-ac1c-45dd-bfcc-aad8990e43e7"
      },
      "execution_count": null,
      "outputs": [
        {
          "output_type": "stream",
          "name": "stdout",
          "text": [
            "[49, 46, 89, 80, 28, 17, 94, 24, 48, 63, 67, 8, 42, 32, 14, 2, 50, 46, 26, 24]\n"
          ]
        }
      ]
    },
    {
      "cell_type": "markdown",
      "source": [
        "# try, except, else\n",
        "\n",
        "구문\n",
        "```python\n",
        "try:\n",
        "    {{expressions when ready to catch errors}}\n",
        "except:\n",
        "    {{expressions when error occurs}}\n",
        "else:\n",
        "    {{expressions when no error occurs}}\n",
        "```"
      ],
      "metadata": {
        "id": "53wNvD-bakpN"
      }
    },
    {
      "cell_type": "code",
      "source": [
        "try:\n",
        "    i = 1\n",
        "    j = 0\n",
        "    x = i / j\n",
        "except:\n",
        "    print(\"divide by zero error\")\n",
        "else:\n",
        "    print(x)"
      ],
      "metadata": {
        "colab": {
          "base_uri": "https://localhost:8080/"
        },
        "id": "-mZb5okva-2m",
        "outputId": "bf471041-b182-4ede-fd59-615ade6fc2a1"
      },
      "execution_count": null,
      "outputs": [
        {
          "output_type": "stream",
          "name": "stdout",
          "text": [
            "divide by zero error\n"
          ]
        }
      ]
    },
    {
      "cell_type": "markdown",
      "source": [
        "# JSON generator 를 활용한 다양한 문제풀이\n",
        "\n",
        "- 질문: `map`을 사용하는 것은 list comprehension과 100% 일치하는지?\n",
        "- 질문: `functools.reduce`를 많이 사용하는지?\n",
        "    - `functools` 자체를 많이 사용하는 편은 아님. 데코레이터 + 기본 빌트인 함수 사용하면 충분히 대체 가능함."
      ],
      "metadata": {
        "id": "sQNPC1BtvbtD"
      }
    },
    {
      "cell_type": "code",
      "source": [
        "data = [\n",
        "  {\n",
        "    \"_id\": \"6459cadc09a2925f6ea0ca86\",\n",
        "    \"age\": 36,\n",
        "    \"eyeColor\": \"green\",\n",
        "    \"name\": \"Jenna Case\",\n",
        "    \"gender\": \"female\"\n",
        "  },\n",
        "  {\n",
        "    \"_id\": \"6459cadc2bdc715ee28eae48\",\n",
        "    \"age\": 40,\n",
        "    \"eyeColor\": \"green\",\n",
        "    \"name\": \"Vaughan Mcintyre\",\n",
        "    \"gender\": \"male\"\n",
        "  },\n",
        "  {\n",
        "    \"_id\": \"6459cadcb481717ac1215e7c\",\n",
        "    \"age\": 33,\n",
        "    \"eyeColor\": \"brown\",\n",
        "    \"name\": \"Dudley Reed\",\n",
        "    \"gender\": \"male\"\n",
        "  },\n",
        "  {\n",
        "    \"_id\": \"6459cadc524800dc80d67c96\",\n",
        "    \"age\": 26,\n",
        "    \"eyeColor\": \"green\",\n",
        "    \"name\": \"Samantha Gonzalez\",\n",
        "    \"gender\": \"female\"\n",
        "  },\n",
        "  {\n",
        "    \"_id\": \"6459cadc5ddd23c306cf09c1\",\n",
        "    \"age\": 20,\n",
        "    \"eyeColor\": \"blue\",\n",
        "    \"name\": \"Mcmahon Deleon\",\n",
        "    \"gender\": \"male\"\n",
        "  }\n",
        "]"
      ],
      "metadata": {
        "id": "FVuZO0ExvbWw"
      },
      "execution_count": null,
      "outputs": []
    },
    {
      "cell_type": "code",
      "source": [
        "### 1. 회원들의 age 평균을 구해주세요\n",
        "# Using loop\n",
        "my_sum = 0\n",
        "for member in data:\n",
        "    my_sum += member['age']\n",
        "print(f'{my_sum / len(data):.2f}')\n",
        "\n",
        "# Using map and sum\n",
        "my_sum = sum(map(lambda x: x['age'], data))\n",
        "print(f'{my_sum / len(data):.2f}')\n",
        "\n",
        "# Using reduce\n",
        "from functools import reduce\n",
        "my_sum = reduce(lambda x, y: x + y['age'], data, 0)\n",
        "print(f'{my_sum / len(data):.2f}')"
      ],
      "metadata": {
        "colab": {
          "base_uri": "https://localhost:8080/"
        },
        "id": "odjX5vc6vjxh",
        "outputId": "2882d5b4-9bc3-4065-c5d1-9338aaa866bc"
      },
      "execution_count": null,
      "outputs": [
        {
          "output_type": "stream",
          "name": "stdout",
          "text": [
            "31.00\n",
            "31.00\n",
            "31.00\n"
          ]
        }
      ]
    },
    {
      "cell_type": "code",
      "source": [
        "### 2. 회원들의 남녀 성비\n",
        "\n",
        "# using filter\n",
        "len_male = len(list(filter(lambda x: x['gender'] == \"male\", data)))\n",
        "len_female = len(data) - len_male\n",
        "print(\"male: \", len_male / len(data) * 100, \"%\")\n",
        "print(\"female: \", len_female / len(data) * 100, \"%\")\n",
        "\n",
        "# using list comprehension\n",
        "only_male = [x for x in data if x['gender'] == 'male']\n",
        "len_male = len(only_male)\n",
        "len_female = len(data) - len_male\n",
        "print(\"male: \", len_male / len(data) * 100, \"%\")\n",
        "print(\"female: \", len_female / len(data) * 100, \"%\")"
      ],
      "metadata": {
        "colab": {
          "base_uri": "https://localhost:8080/"
        },
        "id": "dHuvGkrFy4uh",
        "outputId": "973f020b-bd9d-488f-ed81-e66cbb3d80b8"
      },
      "execution_count": null,
      "outputs": [
        {
          "output_type": "stream",
          "name": "stdout",
          "text": [
            "male:  60.0 %\n",
            "female:  40.0 %\n",
            "male:  60.0 %\n",
            "female:  40.0 %\n"
          ]
        }
      ]
    },
    {
      "cell_type": "markdown",
      "source": [
        "# Builtin Functions\n"
      ],
      "metadata": {
        "id": "AKqN1hKs7vcL"
      }
    },
    {
      "cell_type": "markdown",
      "source": [
        "## Mathematical Purposes"
      ],
      "metadata": {
        "id": "qHobNOSj8tpB"
      }
    },
    {
      "cell_type": "code",
      "source": [
        "help(abs)"
      ],
      "metadata": {
        "colab": {
          "base_uri": "https://localhost:8080/"
        },
        "id": "ZhLjGFxQ7xhL",
        "outputId": "286eeb43-2f26-4965-a9a9-a5bbffa95733"
      },
      "execution_count": null,
      "outputs": [
        {
          "output_type": "stream",
          "name": "stdout",
          "text": [
            "Help on built-in function abs in module builtins:\n",
            "\n",
            "abs(x, /)\n",
            "    Return the absolute value of the argument.\n",
            "\n"
          ]
        }
      ]
    },
    {
      "cell_type": "code",
      "source": [
        "help(all)\n",
        "\n",
        "# `and` 대신에 이렇게 사용할 수 있을지도?\n",
        "if (all([True, True, True, True])):\n",
        "    print(True)"
      ],
      "metadata": {
        "colab": {
          "base_uri": "https://localhost:8080/"
        },
        "id": "05CM2v8t7zKX",
        "outputId": "78a487c2-3427-4c9a-8b6a-e925f8c3f95d"
      },
      "execution_count": null,
      "outputs": [
        {
          "output_type": "stream",
          "name": "stdout",
          "text": [
            "Help on built-in function all in module builtins:\n",
            "\n",
            "all(iterable, /)\n",
            "    Return True if bool(x) is True for all values x in the iterable.\n",
            "    \n",
            "    If the iterable is empty, return True.\n",
            "\n",
            "True\n"
          ]
        }
      ]
    },
    {
      "cell_type": "code",
      "source": [
        "help(max)\n",
        "print('#####')\n",
        "help(min)"
      ],
      "metadata": {
        "colab": {
          "base_uri": "https://localhost:8080/"
        },
        "id": "JhWfk-bO76EH",
        "outputId": "f136cbf2-e21d-43ac-c43d-e2935a16e1eb"
      },
      "execution_count": null,
      "outputs": [
        {
          "output_type": "stream",
          "name": "stdout",
          "text": [
            "Help on built-in function max in module builtins:\n",
            "\n",
            "max(...)\n",
            "    max(iterable, *[, default=obj, key=func]) -> value\n",
            "    max(arg1, arg2, *args, *[, key=func]) -> value\n",
            "    \n",
            "    With a single iterable argument, return its biggest item. The\n",
            "    default keyword-only argument specifies an object to return if\n",
            "    the provided iterable is empty.\n",
            "    With two or more arguments, return the largest argument.\n",
            "\n",
            "#####\n",
            "Help on built-in function min in module builtins:\n",
            "\n",
            "min(...)\n",
            "    min(iterable, *[, default=obj, key=func]) -> value\n",
            "    min(arg1, arg2, *args, *[, key=func]) -> value\n",
            "    \n",
            "    With a single iterable argument, return its smallest item. The\n",
            "    default keyword-only argument specifies an object to return if\n",
            "    the provided iterable is empty.\n",
            "    With two or more arguments, return the smallest argument.\n",
            "\n",
            "#####\n",
            "Help on built-in function sum in module builtins:\n",
            "\n",
            "sum(iterable, /, start=0)\n",
            "    Return the sum of a 'start' value (default: 0) plus an iterable of numbers\n",
            "    \n",
            "    When the iterable is empty, return the start value.\n",
            "    This function is intended specifically for use with numeric values and may\n",
            "    reject non-numeric types.\n",
            "\n"
          ]
        }
      ]
    },
    {
      "cell_type": "code",
      "source": [
        "help(sum)\n",
        "print('#####')\n",
        "sum([1,2,3,4,5], 100)"
      ],
      "metadata": {
        "colab": {
          "base_uri": "https://localhost:8080/"
        },
        "id": "K1Wm4pLU9YQB",
        "outputId": "23f6e28b-b528-46fa-ccc5-039103a4fcf0"
      },
      "execution_count": null,
      "outputs": [
        {
          "output_type": "stream",
          "name": "stdout",
          "text": [
            "Help on built-in function sum in module builtins:\n",
            "\n",
            "sum(iterable, /, start=0)\n",
            "    Return the sum of a 'start' value (default: 0) plus an iterable of numbers\n",
            "    \n",
            "    When the iterable is empty, return the start value.\n",
            "    This function is intended specifically for use with numeric values and may\n",
            "    reject non-numeric types.\n",
            "\n",
            "#####\n"
          ]
        },
        {
          "output_type": "execute_result",
          "data": {
            "text/plain": [
              "115"
            ]
          },
          "metadata": {},
          "execution_count": 37
        }
      ]
    },
    {
      "cell_type": "code",
      "source": [
        "help(len)\n",
        "\n",
        "class my_str(str):\n",
        "    # 얘(magic method)를 구현하기만 하면 `len`을 호출할 수 있다.\n",
        "    def __len__(self):\n",
        "        return 1000\n",
        "\n",
        "print(len(my_str('hello')))"
      ],
      "metadata": {
        "colab": {
          "base_uri": "https://localhost:8080/"
        },
        "id": "msXqMUIB90Z4",
        "outputId": "9fe7b4c9-c734-46b1-d1b5-f3f43449c925"
      },
      "execution_count": null,
      "outputs": [
        {
          "output_type": "stream",
          "name": "stdout",
          "text": [
            "Help on built-in function len in module builtins:\n",
            "\n",
            "len(obj, /)\n",
            "    Return the number of items in a container.\n",
            "\n",
            "1000\n"
          ]
        }
      ]
    },
    {
      "cell_type": "code",
      "source": [
        "help(sorted)"
      ],
      "metadata": {
        "colab": {
          "base_uri": "https://localhost:8080/"
        },
        "id": "X1a9nrxN-OtQ",
        "outputId": "aa17359c-dbd1-4d92-c572-67c7c8a5d851"
      },
      "execution_count": null,
      "outputs": [
        {
          "output_type": "stream",
          "name": "stdout",
          "text": [
            "Help on built-in function sorted in module builtins:\n",
            "\n",
            "sorted(iterable, /, *, key=None, reverse=False)\n",
            "    Return a new list containing all items from the iterable in ascending order.\n",
            "    \n",
            "    A custom key function can be supplied to customize the sort order, and the\n",
            "    reverse flag can be set to request the result in descending order.\n",
            "\n"
          ]
        }
      ]
    },
    {
      "cell_type": "markdown",
      "source": [
        "## Converting Purposes"
      ],
      "metadata": {
        "id": "M70kXlQk-kYM"
      }
    },
    {
      "cell_type": "code",
      "source": [
        "help(hex)\n",
        "help(bin)\n",
        "help(oct)\n"
      ],
      "metadata": {
        "colab": {
          "base_uri": "https://localhost:8080/"
        },
        "id": "e9OSZzdu-m4y",
        "outputId": "46946156-63e2-4acd-9d18-5ddce0a30498"
      },
      "execution_count": null,
      "outputs": [
        {
          "output_type": "stream",
          "name": "stdout",
          "text": [
            "Help on built-in function hex in module builtins:\n",
            "\n",
            "hex(number, /)\n",
            "    Return the hexadecimal representation of an integer.\n",
            "    \n",
            "    >>> hex(12648430)\n",
            "    '0xc0ffee'\n",
            "\n",
            "Help on built-in function bin in module builtins:\n",
            "\n",
            "bin(number, /)\n",
            "    Return the binary representation of an integer.\n",
            "    \n",
            "    >>> bin(2796202)\n",
            "    '0b1010101010101010101010'\n",
            "\n",
            "Help on built-in function oct in module builtins:\n",
            "\n",
            "oct(number, /)\n",
            "    Return the octal representation of an integer.\n",
            "    \n",
            "    >>> oct(342391)\n",
            "    '0o1234567'\n",
            "\n"
          ]
        }
      ]
    },
    {
      "cell_type": "code",
      "source": [
        "help(ord)\n",
        "help(chr)"
      ],
      "metadata": {
        "colab": {
          "base_uri": "https://localhost:8080/"
        },
        "id": "6Tez-4pZ-rJh",
        "outputId": "1b59f8d6-9a11-4455-f36e-46d49d193bde"
      },
      "execution_count": null,
      "outputs": [
        {
          "output_type": "stream",
          "name": "stdout",
          "text": [
            "Help on built-in function ord in module builtins:\n",
            "\n",
            "ord(c, /)\n",
            "    Return the Unicode code point for a one-character string.\n",
            "\n",
            "Help on built-in function chr in module builtins:\n",
            "\n",
            "chr(i, /)\n",
            "    Return a Unicode string of one character with ordinal i; 0 <= i <= 0x10ffff.\n",
            "\n"
          ]
        }
      ]
    },
    {
      "cell_type": "markdown",
      "source": [
        "## Helping Purposes"
      ],
      "metadata": {
        "id": "mRcXALy8bUM1"
      }
    },
    {
      "cell_type": "code",
      "source": [
        "help(help)\n",
        "\n",
        "def wheatley():\n",
        "    '''\n",
        "    최승현이 작성한 함수.\n",
        "    '''\n",
        "    pass\n",
        "\n",
        "help(wheatley)"
      ],
      "metadata": {
        "colab": {
          "base_uri": "https://localhost:8080/"
        },
        "id": "u6MUiEW6Asis",
        "outputId": "9c1280f9-fde7-4ec1-c0ad-65278b5bb342"
      },
      "execution_count": null,
      "outputs": [
        {
          "output_type": "stream",
          "name": "stdout",
          "text": [
            "Help on _Helper in module _sitebuiltins object:\n",
            "\n",
            "class _Helper(builtins.object)\n",
            " |  Define the builtin 'help'.\n",
            " |  \n",
            " |  This is a wrapper around pydoc.help that provides a helpful message\n",
            " |  when 'help' is typed at the Python interactive prompt.\n",
            " |  \n",
            " |  Calling help() at the Python prompt starts an interactive help session.\n",
            " |  Calling help(thing) prints help for the python object 'thing'.\n",
            " |  \n",
            " |  Methods defined here:\n",
            " |  \n",
            " |  __call__(self, *args, **kwds)\n",
            " |      Call self as a function.\n",
            " |  \n",
            " |  __repr__(self)\n",
            " |      Return repr(self).\n",
            " |  \n",
            " |  ----------------------------------------------------------------------\n",
            " |  Data descriptors defined here:\n",
            " |  \n",
            " |  __dict__\n",
            " |      dictionary for instance variables (if defined)\n",
            " |  \n",
            " |  __weakref__\n",
            " |      list of weak references to the object (if defined)\n",
            "\n",
            "Help on function wheatley in module __main__:\n",
            "\n",
            "wheatley()\n",
            "    최승현이 작성한 함수.\n",
            "\n"
          ]
        }
      ]
    },
    {
      "cell_type": "code",
      "source": [
        "help(dir)\n",
        "\n",
        "class wheatley():\n",
        "    def __dir__(self):\n",
        "        return ['hello, world!']\n",
        "print(dir(wheatley()))"
      ],
      "metadata": {
        "id": "REhmQ9SbA5Vc",
        "colab": {
          "base_uri": "https://localhost:8080/"
        },
        "outputId": "79c77525-12b1-48dd-f664-d811cc9e1bf3"
      },
      "execution_count": null,
      "outputs": [
        {
          "output_type": "stream",
          "name": "stdout",
          "text": [
            "Help on built-in function dir in module builtins:\n",
            "\n",
            "dir(...)\n",
            "    dir([object]) -> list of strings\n",
            "    \n",
            "    If called without an argument, return the names in the current scope.\n",
            "    Else, return an alphabetized list of names comprising (some of) the attributes\n",
            "    of the given object, and of attributes reachable from it.\n",
            "    If the object supplies a method named __dir__, it will be used; otherwise\n",
            "    the default dir() logic is used and returns:\n",
            "      for a module object: the module's attributes.\n",
            "      for a class object:  its attributes, and recursively the attributes\n",
            "        of its bases.\n",
            "      for any other object: its attributes, its class's attributes, and\n",
            "        recursively the attributes of its class's base classes.\n",
            "\n",
            "['hello, world!']\n"
          ]
        }
      ]
    },
    {
      "cell_type": "code",
      "source": [
        "help(id)"
      ],
      "metadata": {
        "colab": {
          "base_uri": "https://localhost:8080/"
        },
        "id": "TwRNaYUCCEd5",
        "outputId": "1541b89a-385a-47ac-9b6f-7ce87df172c9"
      },
      "execution_count": null,
      "outputs": [
        {
          "output_type": "stream",
          "name": "stdout",
          "text": [
            "Help on built-in function id in module builtins:\n",
            "\n",
            "id(obj, /)\n",
            "    Return the identity of an object.\n",
            "    \n",
            "    This is guaranteed to be unique among simultaneously existing objects.\n",
            "    (CPython uses the object's memory address.)\n",
            "\n"
          ]
        }
      ]
    },
    {
      "cell_type": "code",
      "source": [
        "help(type)"
      ],
      "metadata": {
        "colab": {
          "base_uri": "https://localhost:8080/"
        },
        "id": "UOth-j3ZCTQb",
        "outputId": "81f0012f-1a3c-45d1-e7f6-c372a3fccf0b"
      },
      "execution_count": null,
      "outputs": [
        {
          "output_type": "stream",
          "name": "stdout",
          "text": [
            "Help on class type in module builtins:\n",
            "\n",
            "class type(object)\n",
            " |  type(object) -> the object's type\n",
            " |  type(name, bases, dict, **kwds) -> a new type\n",
            " |  \n",
            " |  Methods defined here:\n",
            " |  \n",
            " |  __call__(self, /, *args, **kwargs)\n",
            " |      Call self as a function.\n",
            " |  \n",
            " |  __delattr__(self, name, /)\n",
            " |      Implement delattr(self, name).\n",
            " |  \n",
            " |  __dir__(self, /)\n",
            " |      Specialized __dir__ implementation for types.\n",
            " |  \n",
            " |  __getattribute__(self, name, /)\n",
            " |      Return getattr(self, name).\n",
            " |  \n",
            " |  __init__(self, /, *args, **kwargs)\n",
            " |      Initialize self.  See help(type(self)) for accurate signature.\n",
            " |  \n",
            " |  __instancecheck__(self, instance, /)\n",
            " |      Check if an object is an instance.\n",
            " |  \n",
            " |  __or__(self, value, /)\n",
            " |      Return self|value.\n",
            " |  \n",
            " |  __repr__(self, /)\n",
            " |      Return repr(self).\n",
            " |  \n",
            " |  __ror__(self, value, /)\n",
            " |      Return value|self.\n",
            " |  \n",
            " |  __setattr__(self, name, value, /)\n",
            " |      Implement setattr(self, name, value).\n",
            " |  \n",
            " |  __sizeof__(self, /)\n",
            " |      Return memory consumption of the type object.\n",
            " |  \n",
            " |  __subclasscheck__(self, subclass, /)\n",
            " |      Check if a class is a subclass.\n",
            " |  \n",
            " |  __subclasses__(self, /)\n",
            " |      Return a list of immediate subclasses.\n",
            " |  \n",
            " |  mro(self, /)\n",
            " |      Return a type's method resolution order.\n",
            " |  \n",
            " |  ----------------------------------------------------------------------\n",
            " |  Class methods defined here:\n",
            " |  \n",
            " |  __prepare__(...)\n",
            " |      __prepare__() -> dict\n",
            " |      used to create the namespace for the class statement\n",
            " |  \n",
            " |  ----------------------------------------------------------------------\n",
            " |  Static methods defined here:\n",
            " |  \n",
            " |  __new__(*args, **kwargs)\n",
            " |      Create and return a new object.  See help(type) for accurate signature.\n",
            " |  \n",
            " |  ----------------------------------------------------------------------\n",
            " |  Data descriptors defined here:\n",
            " |  \n",
            " |  __abstractmethods__\n",
            " |  \n",
            " |  __annotations__\n",
            " |  \n",
            " |  __dict__\n",
            " |  \n",
            " |  __text_signature__\n",
            " |  \n",
            " |  ----------------------------------------------------------------------\n",
            " |  Data and other attributes defined here:\n",
            " |  \n",
            " |  __base__ = <class 'object'>\n",
            " |      The base class of the class hierarchy.\n",
            " |      \n",
            " |      When called, it accepts no arguments and returns a new featureless\n",
            " |      instance that has no instance attributes and cannot be given any.\n",
            " |  \n",
            " |  \n",
            " |  __bases__ = (<class 'object'>,)\n",
            " |  \n",
            " |  __basicsize__ = 888\n",
            " |  \n",
            " |  __dictoffset__ = 264\n",
            " |  \n",
            " |  __flags__ = 2148031744\n",
            " |  \n",
            " |  __itemsize__ = 40\n",
            " |  \n",
            " |  __mro__ = (<class 'type'>, <class 'object'>)\n",
            " |  \n",
            " |  __weakrefoffset__ = 368\n",
            "\n"
          ]
        }
      ]
    },
    {
      "cell_type": "markdown",
      "source": [
        "## Iterating Purposes"
      ],
      "metadata": {
        "id": "w-69hIJsC8zq"
      }
    },
    {
      "cell_type": "code",
      "source": [
        "help(range)"
      ],
      "metadata": {
        "colab": {
          "base_uri": "https://localhost:8080/"
        },
        "id": "JZO4SiCKAOyq",
        "outputId": "5ae7f0d9-02ba-4761-d6cd-634565118a99"
      },
      "execution_count": null,
      "outputs": [
        {
          "output_type": "stream",
          "name": "stdout",
          "text": [
            "Help on class range in module builtins:\n",
            "\n",
            "class range(object)\n",
            " |  range(stop) -> range object\n",
            " |  range(start, stop[, step]) -> range object\n",
            " |  \n",
            " |  Return an object that produces a sequence of integers from start (inclusive)\n",
            " |  to stop (exclusive) by step.  range(i, j) produces i, i+1, i+2, ..., j-1.\n",
            " |  start defaults to 0, and stop is omitted!  range(4) produces 0, 1, 2, 3.\n",
            " |  These are exactly the valid indices for a list of 4 elements.\n",
            " |  When step is given, it specifies the increment (or decrement).\n",
            " |  \n",
            " |  Methods defined here:\n",
            " |  \n",
            " |  __bool__(self, /)\n",
            " |      True if self else False\n",
            " |  \n",
            " |  __contains__(self, key, /)\n",
            " |      Return key in self.\n",
            " |  \n",
            " |  __eq__(self, value, /)\n",
            " |      Return self==value.\n",
            " |  \n",
            " |  __ge__(self, value, /)\n",
            " |      Return self>=value.\n",
            " |  \n",
            " |  __getattribute__(self, name, /)\n",
            " |      Return getattr(self, name).\n",
            " |  \n",
            " |  __getitem__(self, key, /)\n",
            " |      Return self[key].\n",
            " |  \n",
            " |  __gt__(self, value, /)\n",
            " |      Return self>value.\n",
            " |  \n",
            " |  __hash__(self, /)\n",
            " |      Return hash(self).\n",
            " |  \n",
            " |  __iter__(self, /)\n",
            " |      Implement iter(self).\n",
            " |  \n",
            " |  __le__(self, value, /)\n",
            " |      Return self<=value.\n",
            " |  \n",
            " |  __len__(self, /)\n",
            " |      Return len(self).\n",
            " |  \n",
            " |  __lt__(self, value, /)\n",
            " |      Return self<value.\n",
            " |  \n",
            " |  __ne__(self, value, /)\n",
            " |      Return self!=value.\n",
            " |  \n",
            " |  __reduce__(...)\n",
            " |      Helper for pickle.\n",
            " |  \n",
            " |  __repr__(self, /)\n",
            " |      Return repr(self).\n",
            " |  \n",
            " |  __reversed__(...)\n",
            " |      Return a reverse iterator.\n",
            " |  \n",
            " |  count(...)\n",
            " |      rangeobject.count(value) -> integer -- return number of occurrences of value\n",
            " |  \n",
            " |  index(...)\n",
            " |      rangeobject.index(value) -> integer -- return index of value.\n",
            " |      Raise ValueError if the value is not present.\n",
            " |  \n",
            " |  ----------------------------------------------------------------------\n",
            " |  Static methods defined here:\n",
            " |  \n",
            " |  __new__(*args, **kwargs) from builtins.type\n",
            " |      Create and return a new object.  See help(type) for accurate signature.\n",
            " |  \n",
            " |  ----------------------------------------------------------------------\n",
            " |  Data descriptors defined here:\n",
            " |  \n",
            " |  start\n",
            " |  \n",
            " |  step\n",
            " |  \n",
            " |  stop\n",
            "\n"
          ]
        }
      ]
    },
    {
      "cell_type": "code",
      "source": [
        "help(enumerate)"
      ],
      "metadata": {
        "colab": {
          "base_uri": "https://localhost:8080/"
        },
        "id": "v2SO3_MIDJap",
        "outputId": "89f2c759-dc75-410e-8614-fa95742cdae0"
      },
      "execution_count": null,
      "outputs": [
        {
          "output_type": "stream",
          "name": "stdout",
          "text": [
            "Help on class enumerate in module builtins:\n",
            "\n",
            "class enumerate(object)\n",
            " |  enumerate(iterable, start=0)\n",
            " |  \n",
            " |  Return an enumerate object.\n",
            " |  \n",
            " |    iterable\n",
            " |      an object supporting iteration\n",
            " |  \n",
            " |  The enumerate object yields pairs containing a count (from start, which\n",
            " |  defaults to zero) and a value yielded by the iterable argument.\n",
            " |  \n",
            " |  enumerate is useful for obtaining an indexed list:\n",
            " |      (0, seq[0]), (1, seq[1]), (2, seq[2]), ...\n",
            " |  \n",
            " |  Methods defined here:\n",
            " |  \n",
            " |  __getattribute__(self, name, /)\n",
            " |      Return getattr(self, name).\n",
            " |  \n",
            " |  __iter__(self, /)\n",
            " |      Implement iter(self).\n",
            " |  \n",
            " |  __next__(self, /)\n",
            " |      Implement next(self).\n",
            " |  \n",
            " |  __reduce__(...)\n",
            " |      Return state information for pickling.\n",
            " |  \n",
            " |  ----------------------------------------------------------------------\n",
            " |  Class methods defined here:\n",
            " |  \n",
            " |  __class_getitem__(...) from builtins.type\n",
            " |      See PEP 585\n",
            " |  \n",
            " |  ----------------------------------------------------------------------\n",
            " |  Static methods defined here:\n",
            " |  \n",
            " |  __new__(*args, **kwargs) from builtins.type\n",
            " |      Create and return a new object.  See help(type) for accurate signature.\n",
            "\n"
          ]
        }
      ]
    },
    {
      "cell_type": "code",
      "source": [
        "help(filter)\n",
        "\n",
        "# function 자리에 None을 넣으면 그냥 True인 것들만 반환함.\n",
        "print(list(filter(None, [True, True, False, True])))"
      ],
      "metadata": {
        "colab": {
          "base_uri": "https://localhost:8080/"
        },
        "id": "wV0yy236F9_N",
        "outputId": "284a0e43-9007-41cd-af63-b4e305569df5"
      },
      "execution_count": null,
      "outputs": [
        {
          "output_type": "stream",
          "name": "stdout",
          "text": [
            "Help on class filter in module builtins:\n",
            "\n",
            "class filter(object)\n",
            " |  filter(function or None, iterable) --> filter object\n",
            " |  \n",
            " |  Return an iterator yielding those items of iterable for which function(item)\n",
            " |  is true. If function is None, return the items that are true.\n",
            " |  \n",
            " |  Methods defined here:\n",
            " |  \n",
            " |  __getattribute__(self, name, /)\n",
            " |      Return getattr(self, name).\n",
            " |  \n",
            " |  __iter__(self, /)\n",
            " |      Implement iter(self).\n",
            " |  \n",
            " |  __next__(self, /)\n",
            " |      Implement next(self).\n",
            " |  \n",
            " |  __reduce__(...)\n",
            " |      Return state information for pickling.\n",
            " |  \n",
            " |  ----------------------------------------------------------------------\n",
            " |  Static methods defined here:\n",
            " |  \n",
            " |  __new__(*args, **kwargs) from builtins.type\n",
            " |      Create and return a new object.  See help(type) for accurate signature.\n",
            "\n"
          ]
        }
      ]
    },
    {
      "cell_type": "code",
      "source": [
        "help(zip)"
      ],
      "metadata": {
        "colab": {
          "base_uri": "https://localhost:8080/"
        },
        "id": "CjgrQbquGIvZ",
        "outputId": "88203c86-c8c0-4c55-bf3f-92edd5fa5095"
      },
      "execution_count": null,
      "outputs": [
        {
          "output_type": "stream",
          "name": "stdout",
          "text": [
            "Help on class zip in module builtins:\n",
            "\n",
            "class zip(object)\n",
            " |  zip(*iterables, strict=False) --> Yield tuples until an input is exhausted.\n",
            " |  \n",
            " |     >>> list(zip('abcdefg', range(3), range(4)))\n",
            " |     [('a', 0, 0), ('b', 1, 1), ('c', 2, 2)]\n",
            " |  \n",
            " |  The zip object yields n-length tuples, where n is the number of iterables\n",
            " |  passed as positional arguments to zip().  The i-th element in every tuple\n",
            " |  comes from the i-th iterable argument to zip().  This continues until the\n",
            " |  shortest argument is exhausted.\n",
            " |  \n",
            " |  If strict is true and one of the arguments is exhausted before the others,\n",
            " |  raise a ValueError.\n",
            " |  \n",
            " |  Methods defined here:\n",
            " |  \n",
            " |  __getattribute__(self, name, /)\n",
            " |      Return getattr(self, name).\n",
            " |  \n",
            " |  __iter__(self, /)\n",
            " |      Implement iter(self).\n",
            " |  \n",
            " |  __next__(self, /)\n",
            " |      Implement next(self).\n",
            " |  \n",
            " |  __reduce__(...)\n",
            " |      Return state information for pickling.\n",
            " |  \n",
            " |  __setstate__(...)\n",
            " |      Set state information for unpickling.\n",
            " |  \n",
            " |  ----------------------------------------------------------------------\n",
            " |  Static methods defined here:\n",
            " |  \n",
            " |  __new__(*args, **kwargs) from builtins.type\n",
            " |      Create and return a new object.  See help(type) for accurate signature.\n",
            "\n"
          ]
        }
      ]
    },
    {
      "cell_type": "code",
      "source": [
        "help(map)"
      ],
      "metadata": {
        "colab": {
          "base_uri": "https://localhost:8080/"
        },
        "id": "s3La5SNKGfFh",
        "outputId": "eb1c5898-cdb6-4c30-f3e0-5f83f1b5d9f4"
      },
      "execution_count": null,
      "outputs": [
        {
          "output_type": "stream",
          "name": "stdout",
          "text": [
            "Help on class map in module builtins:\n",
            "\n",
            "class map(object)\n",
            " |  map(func, *iterables) --> map object\n",
            " |  \n",
            " |  Make an iterator that computes the function using arguments from\n",
            " |  each of the iterables.  Stops when the shortest iterable is exhausted.\n",
            " |  \n",
            " |  Methods defined here:\n",
            " |  \n",
            " |  __getattribute__(self, name, /)\n",
            " |      Return getattr(self, name).\n",
            " |  \n",
            " |  __iter__(self, /)\n",
            " |      Implement iter(self).\n",
            " |  \n",
            " |  __next__(self, /)\n",
            " |      Implement next(self).\n",
            " |  \n",
            " |  __reduce__(...)\n",
            " |      Return state information for pickling.\n",
            " |  \n",
            " |  ----------------------------------------------------------------------\n",
            " |  Static methods defined here:\n",
            " |  \n",
            " |  __new__(*args, **kwargs) from builtins.type\n",
            " |      Create and return a new object.  See help(type) for accurate signature.\n",
            "\n"
          ]
        }
      ]
    },
    {
      "cell_type": "markdown",
      "source": [
        "# args, kwargs 가변인자와 가변 키워드인자\n",
        "\n",
        "인자의 개수를 알 수 없을 때 `*args`를 사용할 수 있다.\n",
        "\n",
        "인자가 딕셔너리의 형태일 때 `**kwargs`를 사용할 수 있다.\n",
        "\n",
        "고정인수와 가변인수 함께 쓸 수 있지만 항상 고정인수가 앞에 와야만 한다. (가변인수가 언제 끝날지 모르기 때문)\n",
        "\n",
        "---\n",
        "\n",
        "그래서 `*`가 무엇을 뜻하는데? => packing!"
      ],
      "metadata": {
        "id": "y1xNXQftIjkJ"
      }
    },
    {
      "cell_type": "code",
      "source": [
        "def print_args(*args, num):\n",
        "    print('args: ', args)\n",
        "    for x in args:\n",
        "        print(x)\n",
        "\n",
        "print_args(100, True, 'leehojun', num=10000)"
      ],
      "metadata": {
        "colab": {
          "base_uri": "https://localhost:8080/"
        },
        "id": "OxHvIVjdIwJh",
        "outputId": "ed6c4b73-bf72-4abf-8ac7-c80efb06bddc"
      },
      "execution_count": null,
      "outputs": [
        {
          "output_type": "stream",
          "name": "stdout",
          "text": [
            "args:  (100, True, 'leehojun')\n",
            "100\n",
            "True\n",
            "leehojun\n"
          ]
        }
      ]
    },
    {
      "cell_type": "code",
      "source": [
        "def print_kwargs(num, **kwargs):\n",
        "    print('num: ', num)\n",
        "    print('kwargs: ', kwargs)\n",
        "    for i in kwargs:\n",
        "        print(i)\n",
        "\n",
        "print_kwargs(100, name='최승현', age=10)"
      ],
      "metadata": {
        "colab": {
          "base_uri": "https://localhost:8080/"
        },
        "id": "CpKmQ_HSJJ-H",
        "outputId": "2c31e791-e6f1-4a57-da93-7ce433ace7f1"
      },
      "execution_count": null,
      "outputs": [
        {
          "output_type": "stream",
          "name": "stdout",
          "text": [
            "num:  100\n",
            "kwargs:  {'name': '최승현', 'age': 10}\n",
            "name\n",
            "age\n"
          ]
        }
      ]
    },
    {
      "cell_type": "markdown",
      "source": [
        "# lambda 익명함수\n",
        "\n",
        "물론 이름을 부여할 수 있긴 함. 변수에 할당시키면 되거든.\n",
        "\n",
        "일반 함수랑 다른점은 **참조 카운팅이 없다** 라는 것이다. => 사용된 다음 소멸된다...? 변수가 소거되는거에 대한 규칙은 다음에 알려준다.\n",
        "\n",
        "lambda가 사용되는 곳\n",
        "- map\n",
        "- filter\n",
        "- max\n",
        "- min\n",
        "- sorted"
      ],
      "metadata": {
        "id": "Nc-seFzwKde0"
      }
    },
    {
      "cell_type": "code",
      "source": [
        "my_lambda = lambda x : x ** 2\n",
        "def my_func(x):\n",
        "    return x ** 2\n",
        "print(type(my_lambda))\n",
        "print(type(my_func))\n",
        "print(dir(my_lambda))\n",
        "print(dir(my_func))\n",
        "assert dir(my_lambda) == dir(my_func)"
      ],
      "metadata": {
        "colab": {
          "base_uri": "https://localhost:8080/"
        },
        "id": "EeV-bPx5Kkwa",
        "outputId": "902d6234-75f2-483f-cead-da5aff0004cf"
      },
      "execution_count": null,
      "outputs": [
        {
          "output_type": "stream",
          "name": "stdout",
          "text": [
            "<class 'function'>\n",
            "<class 'function'>\n",
            "['__annotations__', '__builtins__', '__call__', '__class__', '__closure__', '__code__', '__defaults__', '__delattr__', '__dict__', '__dir__', '__doc__', '__eq__', '__format__', '__ge__', '__get__', '__getattribute__', '__globals__', '__gt__', '__hash__', '__init__', '__init_subclass__', '__kwdefaults__', '__le__', '__lt__', '__module__', '__name__', '__ne__', '__new__', '__qualname__', '__reduce__', '__reduce_ex__', '__repr__', '__setattr__', '__sizeof__', '__str__', '__subclasshook__']\n",
            "['__annotations__', '__builtins__', '__call__', '__class__', '__closure__', '__code__', '__defaults__', '__delattr__', '__dict__', '__dir__', '__doc__', '__eq__', '__format__', '__ge__', '__get__', '__getattribute__', '__globals__', '__gt__', '__hash__', '__init__', '__init_subclass__', '__kwdefaults__', '__le__', '__lt__', '__module__', '__name__', '__ne__', '__new__', '__qualname__', '__reduce__', '__reduce_ex__', '__repr__', '__setattr__', '__sizeof__', '__str__', '__subclasshook__']\n"
          ]
        }
      ]
    },
    {
      "cell_type": "code",
      "source": [
        "### 아래의 익명함수들은 calculator가 카운팅을 하게 된다. 따라서 여러번 재사용이 가능하다. \n",
        "calculator = [\n",
        "    lambda x, y: x + y,\n",
        "    lambda x, y: x - y,\n",
        "    lambda x, y: x * y,\n",
        "    lambda x, y: x / y,\n",
        "]\n",
        "\n",
        "for calc in calculator:\n",
        "    print(f'calc result between 1, 2 is {calc(1, 2)}')"
      ],
      "metadata": {
        "colab": {
          "base_uri": "https://localhost:8080/"
        },
        "id": "GTXphdr2LoV5",
        "outputId": "dbd77e9a-25e3-4c1a-f2bd-06c0d9e11846"
      },
      "execution_count": null,
      "outputs": [
        {
          "output_type": "stream",
          "name": "stdout",
          "text": [
            "calc result between 1, 2 is 3\n",
            "calc result between 1, 2 is -1\n",
            "calc result between 1, 2 is 2\n",
            "calc result between 1, 2 is 0.5\n"
          ]
        }
      ]
    },
    {
      "cell_type": "code",
      "source": [
        "def f():\n",
        "    return lambda x, y: x + y\n",
        "\n",
        "print(f()(1, 2))\n",
        "\n",
        "# 람다를 클로저로 사용할 수도 있다.\n",
        "def ff():\n",
        "    return lambda x: lambda y: x + y\n",
        "\n",
        "print(ff()(1)(2))"
      ],
      "metadata": {
        "colab": {
          "base_uri": "https://localhost:8080/"
        },
        "id": "pBxKVbnVMPIM",
        "outputId": "11a78b39-57ce-474e-8771-b8a474e8fdac"
      },
      "execution_count": null,
      "outputs": [
        {
          "output_type": "stream",
          "name": "stdout",
          "text": [
            "3\n",
            "3\n"
          ]
        }
      ]
    },
    {
      "cell_type": "markdown",
      "source": [
        "## map과 lambda\n",
        "\n",
        "재사용이 필요해보인다? => 함수선언\n",
        "\n",
        "일회용이다? => 람다"
      ],
      "metadata": {
        "id": "I8zpzqBTNdA5"
      }
    },
    {
      "cell_type": "code",
      "source": [
        "# without lambda\n",
        "def 제곱(x):\n",
        "    return x ** 2\n",
        "print(list(map(제곱, [1, 2, 3, 4])))\n",
        "\n",
        "# with lambda\n",
        "print(list(map(lambda x: x ** 2, [1,2,3,4])))"
      ],
      "metadata": {
        "colab": {
          "base_uri": "https://localhost:8080/"
        },
        "id": "RjhoFxeGNfmC",
        "outputId": "5d03f175-aa04-48e4-bf90-cdbd0e47100c"
      },
      "execution_count": null,
      "outputs": [
        {
          "output_type": "stream",
          "name": "stdout",
          "text": [
            "[1, 4, 9, 16]\n",
            "[1, 4, 9, 16]\n"
          ]
        }
      ]
    },
    {
      "cell_type": "markdown",
      "source": [
        "## lambda 사용하는 실전 문제\n",
        "\n",
        "'숫자' 배열을 '승수' 배열과 짝지어서 승수만큼 제곱을 시켜줄 것 입니다."
      ],
      "metadata": {
        "id": "F_b37luxOUBb"
      }
    },
    {
      "cell_type": "code",
      "source": [
        "숫자 = [1, 2, 3, 4, 5]\n",
        "승수 = [2, 2, 2, 3, 3]\n",
        "\n",
        "#문제\n",
        "print('#1. 숫자의 승수를 zip으로 맵핑해서 진행하세요.')\n",
        "zipped = zip(숫자, 승수)\n",
        "mapped = list(map(lambda tup: pow(*tup), zipped)) \n",
        "print('#2. 숫자를 승수만큼 승수하여 결과값을 표현해주세요.')\n",
        "print(mapped)\n",
        "print('#3. 승수한 값이 100이상인 값을 출력하세요.')\n",
        "print(list(filter(lambda x: x > 100, mapped)))\n",
        "print('#4. 승수한 값을 모두 더하세요.')\n",
        "print(sum(list(mapped)))"
      ],
      "metadata": {
        "colab": {
          "base_uri": "https://localhost:8080/"
        },
        "id": "X8Bx545fOZlq",
        "outputId": "5dc68780-9fb6-400f-ee0b-27a09f001fd5"
      },
      "execution_count": null,
      "outputs": [
        {
          "output_type": "stream",
          "name": "stdout",
          "text": [
            "#1. 숫자의 승수를 zip으로 맵핑해서 진행하세요.\n",
            "#2. 숫자를 승수만큼 승수하여 결과값을 표현해주세요.\n",
            "[1, 4, 9, 64, 125]\n",
            "#3. 승수한 값이 100이상인 값을 출력하세요.\n",
            "[125]\n",
            "#4. 승수한 값을 모두 더하세요.\n",
            "203\n"
          ]
        }
      ]
    },
    {
      "cell_type": "code",
      "source": [
        "# Problem solved with list comprehension\n",
        "\n",
        "print('#1. 숫자의 승수를 zip으로 맵핑해서 진행하세요.')\n",
        "zipped = zip(숫자, 승수)\n",
        "\n",
        "print('#2. 숫자를 승수만큼 승수하여 결과값을 표현해주세요.')\n",
        "mapped = [pow(*t) for t in zipped]\n",
        "print(mapped)\n",
        "\n",
        "print('#3. 승수한 값이 100이상인 값을 출력하세요.')\n",
        "filtered = [x for x in mapped if x > 100]\n",
        "print(filtered)\n",
        "\n",
        "print('#4. 승수한 값을 모두 더하세요.')\n",
        "print(sum(list(mapped)))\n"
      ],
      "metadata": {
        "colab": {
          "base_uri": "https://localhost:8080/"
        },
        "id": "winZ0M9cQZ6P",
        "outputId": "bb94335a-3fac-4a7c-a9ee-643ad9a042f0"
      },
      "execution_count": null,
      "outputs": [
        {
          "output_type": "stream",
          "name": "stdout",
          "text": [
            "#1. 숫자의 승수를 zip으로 맵핑해서 진행하세요.\n",
            "#2. 숫자를 승수만큼 승수하여 결과값을 표현해주세요.\n",
            "[1, 4, 9, 64, 125]\n",
            "#3. 승수한 값이 100이상인 값을 출력하세요.\n",
            "[125]\n",
            "#4. 승수한 값을 모두 더하세요.\n",
            "203\n"
          ]
        }
      ]
    },
    {
      "cell_type": "markdown",
      "source": [
        "# (번외) flatmap in python\n",
        "\n",
        "다만, 재귀적인 수준까지는 아니고, 최대 2-depth까지만 수행하는 코드이다. 더 높은 깊이를 평탄화 하려면 다른 방법을 도입해야겠다만... 그럴 일이 있을까?\n",
        "\n",
        "https://dev.to/turbaszek/flat-map-in-python-3g98"
      ],
      "metadata": {
        "id": "VJTLuePbpZMo"
      }
    },
    {
      "cell_type": "code",
      "source": [
        "flat_map = lambda f, xs: [y for ys in xs for y in f(ys)]\n",
        "\n",
        "ls = [[1, 2, 3], [4, 5, 6]]\n",
        "flat_map(lambda ys: ys, ls)\n",
        "\n",
        "ls = ['a,b,c', 'd,e,f', 'g,h,i', 'j,k,l']\n",
        "flat_map(lambda ys: ys.split(','), ls)"
      ],
      "metadata": {
        "colab": {
          "base_uri": "https://localhost:8080/"
        },
        "id": "NO0LegkMpcog",
        "outputId": "10c20e53-26c9-408f-bf1d-efab22fd4b5f"
      },
      "execution_count": null,
      "outputs": [
        {
          "output_type": "execute_result",
          "data": {
            "text/plain": [
              "['a', 'b', 'c', 'd', 'e', 'f', 'g', 'h', 'i', 'j', 'k', 'l']"
            ]
          },
          "metadata": {},
          "execution_count": 138
        }
      ]
    },
    {
      "cell_type": "code",
      "source": [
        "def flat_map(f, xs):\n",
        "    ys = []\n",
        "    for x in xs:\n",
        "        ys.extend(f(x))\n",
        "    return ys\n",
        "\n",
        "ls = [[1,2,3], [4,5,6]]\n",
        "flat_map(lambda ys: ys, ls)"
      ],
      "metadata": {
        "colab": {
          "base_uri": "https://localhost:8080/"
        },
        "id": "64ZzbXdxsBdx",
        "outputId": "dc525f7f-1f5a-42f1-d7dc-871f47ddf6aa"
      },
      "execution_count": null,
      "outputs": [
        {
          "output_type": "execute_result",
          "data": {
            "text/plain": [
              "[1, 2, 3, 4, 5, 6]"
            ]
          },
          "metadata": {},
          "execution_count": 145
        }
      ]
    },
    {
      "cell_type": "markdown",
      "source": [
        "# Class\n",
        "\n",
        "- 딱딱한 정의\n",
        "    - 데이터(상태)와 기능을 가지는 인스턴스를 생성하기 위한 블루프린트.\n",
        "\n",
        "- 직관적인 정의\n",
        "    - 현실세계의 물체나 개념에 대한 정의를 간직하고 있는 덩어리\n",
        "    - 1 + 1 = 2라는 공식을 컴퓨터는 모른다. 따라서 `class int`라는 이름 하에 정의한다.\n",
        "\n",
        "- 인스턴스 & 클래스\n",
        "    - 인스턴스: 실제 데이터(상태)를 가지고 있고 메모리 공간을 상주하고 있는 저시기\n",
        "    - 클래스: 인스턴스를 낳는 거시기\n",
        "\n",
        "- 메서드 & 멤버 = attribute\n",
        "    - 메서드: 클래스 내의 함수\n",
        "        - `__init__`: 인스턴스가 만들어질 때 최초로 한 번 실행되는 메서드\n",
        "    - 멤버: 클래스 내의 변수\n",
        "\n",
        "- `self` 라는 키워드가 모든 메서드의 첫 파라미터에 들어간다."
      ],
      "metadata": {
        "id": "O7GLsOcjCaXC"
      }
    },
    {
      "cell_type": "code",
      "source": [
        "class Car(object):\n",
        "    MaxSpeed = 300\n",
        "    MaxPeople = 5\n",
        "\n",
        "    def move(self, x):\n",
        "        print(x, '의 스피드로 움직이고 있습니다.')\n",
        "    \n",
        "    def stop(self):\n",
        "        print(x, '가 멈췄습니다.')\n",
        "\n"
      ],
      "metadata": {
        "id": "t62z2j1dFmwB"
      },
      "execution_count": null,
      "outputs": []
    },
    {
      "cell_type": "markdown",
      "source": [
        "## 클래스 변수와 인스턴스 변수\n",
        "\n",
        "CPP의 static 멤버??? \n",
        "\n",
        "클래스 변수는 클래스 바로 하위에 자리하고 있는 변수. 클래스 변수는 모든 인스턴스가 공유한다. 인스턴스화 할때마다 메모리공간을 따로 생성하지만 클래스 변수는 전체 인스턴스들 중 하나만 있다.\n",
        "\n",
        "> `kinds`는 인스턴스 멤버 자체가 리스트인 것이 아니라 포인터라서, `append`를 호출한다고 인스턴스 변수가 생성되지는 않는다.\n",
        "\n",
        "> `speed`는 `change_speed` 안에서 `=` 연산자를 사용하여 새 인스턴스 변수를 만들어 attribute에 등록하였기 때문에 클래스 변수 참조를 잃는다."
      ],
      "metadata": {
        "id": "x2yCrLY0VQAA"
      }
    },
    {
      "cell_type": "code",
      "source": [
        "class Car(object):\n",
        "    kinds = []   # ====> class member\n",
        "    speed = 300  # ====> class memeber\n",
        "\n",
        "    def add_kinds(self, name):\n",
        "        self.kinds.append(name)\n",
        "\n",
        "    def change_speed(self, speed):\n",
        "        self.speed = speed  # ====> self now has instance variable `speed`\n",
        "\n",
        "k5 = Car()\n",
        "k3 = Car()\n",
        "k5.add_kinds('k5')\n",
        "k3.add_kinds('k3')\n",
        "k5.change_speed(500)\n",
        "k3.change_speed(250)\n",
        "\n",
        "print('k5.kinds:', k5.kinds)\n",
        "print('k3.kinds:', k3.kinds)\n",
        "print('k5.speed:', k5.speed)\n",
        "print('k3.speed:', k3.speed)\n"
      ],
      "metadata": {
        "colab": {
          "base_uri": "https://localhost:8080/"
        },
        "id": "T3G1UpsfVkNs",
        "outputId": "98a1a42d-4389-4adf-8a6c-6a98f7abf53c"
      },
      "execution_count": null,
      "outputs": [
        {
          "output_type": "stream",
          "name": "stdout",
          "text": [
            "k5.kinds: ['k5', 'k3']\n",
            "k3.kinds: ['k5', 'k3']\n",
            "k5.speed: 500\n",
            "k3.speed: 250\n"
          ]
        }
      ]
    },
    {
      "cell_type": "markdown",
      "source": [
        "몹과 유저 만들어 서로 공격하게 만들어보자.\n",
        "\n",
        "`__repr__`을 구현하면 자바에서의 `toString`과 동일한 효과를 볼 수 있군. https://www.geeksforgeeks.org/convert-object-to-string-in-python/"
      ],
      "metadata": {
        "id": "9X_pzb94ckzG"
      }
    },
    {
      "cell_type": "code",
      "source": [
        "class User(object):\n",
        "    \n",
        "    def __init__(self, 이름, 공격력, 체력, 마력, 크기_넓이, 크기_높이, x, y):\n",
        "        self.name = 이름\n",
        "        self.power = 공격력\n",
        "        self.hp = 체력\n",
        "        self.mp = 마력\n",
        "        self.width = 크기_넓이\n",
        "        self.height = 크기_높이\n",
        "        self.x = x\n",
        "        self.y = y\n",
        "        self.alive = True\n",
        "    \n",
        "    def take_damage(self, other):\n",
        "        if self.hp < 0:\n",
        "            print(f'DEBUG ---> {self.name} has already died.')\n",
        "            pass\n",
        "        self.hp -= other.power\n",
        "        print(f'DEBUG ---> {other.name} attacks {self.name}. {self.name}.hp is now {self.hp}')\n",
        "        if self.hp < 0:\n",
        "            self.alive = False\n",
        "            print(f'DEBUG ---> {self.name} died by {other.name}')\n",
        "\n",
        "    def attack(self, other):\n",
        "        other.take_damage(self)\n",
        "\n",
        "    \n",
        "\n",
        "class Mob(object):\n",
        "    def __init__(self, 이름, 공격력, 체력, 마력, 크기_넓이, 크기_높이, 아이템확률, x, y):\n",
        "        self.name = 이름\n",
        "        self.power = 공격력\n",
        "        self.hp = 체력\n",
        "        self.mp = 마력\n",
        "        self.width = 크기_넓이\n",
        "        self.height = 크기_높이\n",
        "        self.dropRate = 아이템확률\n",
        "        self.x = x\n",
        "        self.y = y\n",
        "\n",
        "    \n",
        "    def __repr__(self):\n",
        "        return f\"\"\"{{\n",
        "    name: {self.name}        \n",
        "    power: {self.power}\n",
        "    hp: {self.hp}\n",
        "    mp: {self.mp}\n",
        "    width: {self.width}\n",
        "    height: {self.height}\n",
        "    dropRate: {self.dropRate}\n",
        "    x: {self.x}\n",
        "    y: {self.y}\n",
        "}}\n",
        "\"\"\"\n",
        "\n",
        "\n",
        "    def attack(self, user):\n",
        "        user.take_damage(self)\n",
        "\n",
        "    def take_damage(self, other):\n",
        "        if self.hp < 0:\n",
        "            print(f'DEBUG ---> {self.name} has already died.')\n",
        "            pass\n",
        "        self.hp -= other.power\n",
        "        print(f'DEBUG ---> {other.name} attacks {self.name}. {self.name}.hp is now {self.hp}')\n",
        "        if self.hp < 0:\n",
        "            self.alive = False\n",
        "            print(f'DEBUG ---> {self.name} died by {other.name}')\n",
        "\n",
        "\n",
        "class Slime(Mob):\n",
        "\n",
        "    def __add__(self, other):\n",
        "        if isinstance(other, Slime):\n",
        "            return Slime(f'왕{self.name + other.name}', self.power + other.power, \n",
        "                         self.hp + other.hp, \n",
        "                         self.mp, \n",
        "                         self.width + other.width,\n",
        "                         self.height + other.height,\n",
        "                         self.dropRate,\n",
        "                         self.x,\n",
        "                         self.y)\n",
        "        \n",
        "\n",
        "슬라임 = Slime('슬라임', 1, 10, 10, 2, 2, 100, 0, 0)\n",
        "오크 = Mob('오크', 10, 10, 10, 2, 2, 80, 0, 0)\n",
        "고블린 = Mob('고블린', 100, 10, 10, 2, 2, 60, 0, 0)\n",
        "드래곤 = Mob('드래곤', 1000, 10, 10, 2, 2, 40, 0, 0)\n",
        "해골 = Mob('해골', 10000, 10, 10, 2, 2, 1, 0, 0)\n",
        "\n",
        "licat = User('licat', 9, 30, 15, 10, 10, 0, 0)\n",
        "mura = User('mura', 10, 35, 0, 10, 10, 0, 0)\n",
        "\n",
        "슬라임.attack(licat)\n",
        "해골.attack(mura)\n",
        "\n",
        "licat.attack(슬라임)\n",
        "\n",
        "\n",
        "슬라임2 = Slime('슬라임', 1, 10, 10, 2,2,100, 0,0)\n",
        "왕슬라임 = 슬라임 + 슬라임2\n",
        "\n",
        "print(왕슬라임)"
      ],
      "metadata": {
        "colab": {
          "base_uri": "https://localhost:8080/"
        },
        "id": "dVYZscaYdq-U",
        "outputId": "c7fb9f45-a5ee-4704-d9d7-553991bbf858"
      },
      "execution_count": null,
      "outputs": [
        {
          "output_type": "stream",
          "name": "stdout",
          "text": [
            "DEBUG ---> 슬라임 attacks licat. licat.hp is now 29\n",
            "DEBUG ---> 해골 attacks mura. mura.hp is now -9965\n",
            "DEBUG ---> mura died by 해골\n",
            "DEBUG ---> licat attacks 슬라임. 슬라임.hp is now 1\n",
            "{\n",
            "    name: 왕슬라임슬라임        \n",
            "    power: 2\n",
            "    hp: 11\n",
            "    mp: 10\n",
            "    width: 4\n",
            "    height: 4\n",
            "    dropRate: 100\n",
            "    x: 0\n",
            "    y: 0\n",
            "}\n",
            "\n"
          ]
        }
      ]
    },
    {
      "cell_type": "code",
      "source": [
        "class Hero(object):\n",
        "    def __init__(self,hero_info):\n",
        "        self.info = hero_info\n",
        "    def get_info(self):\n",
        "        print(f\"{self.info['name']}/위치 : {self.info['pos']}/체력 {self.info['hp']}/{self.info['max_hp']} / 레벨{self.info['level']}\")\n",
        "\n",
        "licat = Hero({\n",
        "    'name' : 'licat',\n",
        "    'pos' : [1,2],\n",
        "    'max_hp' : 100,\n",
        "    'hp' : 100,\n",
        "    'level' : 1,\n",
        "})\n",
        "\n",
        "mura = Hero({\n",
        "    'name' : 'mura',\n",
        "    'pos' : [5,5],\n",
        "    'max_hp' : 200,\n",
        "    'hp' : 200,\n",
        "    'level' : 5,\n",
        "})\n",
        "\n",
        "licat.get_info()\n",
        "mura.get_info()\n"
      ],
      "metadata": {
        "colab": {
          "base_uri": "https://localhost:8080/"
        },
        "id": "JETNWhFshYZh",
        "outputId": "b10ca001-d3d8-406a-91f8-103a3fbaf096"
      },
      "execution_count": null,
      "outputs": [
        {
          "output_type": "stream",
          "name": "stdout",
          "text": [
            "licat/위치 : [1, 2]/체력 100/100 / 레벨1\n",
            "mura/위치 : [5, 5]/체력 200/200 / 레벨5\n"
          ]
        }
      ]
    },
    {
      "cell_type": "code",
      "source": [
        "# 쉽고 중요한 예제!\n",
        "\n",
        "class BlogFactory(object):\n",
        "    dataset = []\n",
        "\n",
        "    def __init__(self, 제목, 내용, 조회수, 글쓴이, 생성날짜):\n",
        "        self.title = 제목\n",
        "        self.content = 내용\n",
        "        self.count = 조회수\n",
        "        self.writer = 글쓴이\n",
        "        self.create_date = 생성날짜\n",
        "        BlogFactory.dataset.append(self)\n",
        "\n",
        "게시글1 = BlogFactory(\n",
        "    '오늘 제주의 날씨',\n",
        "    '오늘 제주의 날씨는 참 좋네요! 블라블라',\n",
        "    '0',\n",
        "    '이호준',\n",
        "    '2023/05/10',\n",
        "    )\n",
        "\n",
        "게시글2 = BlogFactory(\n",
        "        '오늘 부산의 날씨',\n",
        "        '오늘 부산의 날씨는 참 좋네요! 블라블라',\n",
        "        '1000000',\n",
        "        '김재현',\n",
        "        '2023/05/10',\n",
        "    )\n",
        "\n",
        "게시글3 = BlogFactory(\n",
        "        '오늘 강원의 날씨',\n",
        "        '오늘 강원의 날씨는 참 좋네요! 블라블라',\n",
        "        '10000',\n",
        "        '범남궁',\n",
        "        '2023/05/10',\n",
        "    )\n",
        " \n",
        "\n",
        "for i in BlogFactory.dataset:\n",
        "    print(f'<h2>{i.title}</h2>')\n",
        "    print(f'\\t<p>{i.content}</p>')\n",
        "    print(f'\\t<p>{i.writer}</p>')\n",
        "    print(f'\\t<p>{i.count}</p>')\n",
        "    print(f'\\t<p>{i.create_date}</p>')\n"
      ],
      "metadata": {
        "colab": {
          "base_uri": "https://localhost:8080/"
        },
        "id": "PinnK9qu4tFq",
        "outputId": "1e72e9ff-6e0d-4389-a78f-07370aa01063"
      },
      "execution_count": null,
      "outputs": [
        {
          "output_type": "stream",
          "name": "stdout",
          "text": [
            "<h2>오늘 제주의 날씨</h2>\n",
            "\t<p>오늘 제주의 날씨는 참 좋네요! 블라블라</p>\n",
            "\t<p>이호준</p>\n",
            "\t<p>0</p>\n",
            "\t<p>2023/05/10</p>\n",
            "<h2>오늘 부산의 날씨</h2>\n",
            "\t<p>오늘 부산의 날씨는 참 좋네요! 블라블라</p>\n",
            "\t<p>김재현</p>\n",
            "\t<p>1000000</p>\n",
            "\t<p>2023/05/10</p>\n",
            "<h2>오늘 강원의 날씨</h2>\n",
            "\t<p>오늘 강원의 날씨는 참 좋네요! 블라블라</p>\n",
            "\t<p>범남궁</p>\n",
            "\t<p>10000</p>\n",
            "\t<p>2023/05/10</p>\n"
          ]
        }
      ]
    },
    {
      "cell_type": "markdown",
      "source": [
        "## magic methods\n",
        "\n",
        "read-only attribute => 수정할 수 없는 기본 애트리뷰트\n",
        "\n",
        "- [?] 우리가 직접 read-only attribute를 만들 수 없나?\n",
        "\n",
        "- `__repr__`: 유효한 파이썬 표현식 형태의 문자열을 리턴하도록 권장한다.\n",
        "- `__str__`: 이쁜 형태의 인스턴스 내장저시기를 리턴해도 된다. 굳이 파이썬 표현식을 준수하지 않아도 됨.\n"
      ],
      "metadata": {
        "id": "qNbR7Q7n74Rl"
      }
    },
    {
      "cell_type": "code",
      "source": [
        "from pprint import pformat\n",
        "\n",
        "class UserInfo(object):\n",
        "\n",
        "    def __init__(self, infos):\n",
        "        self.id = infos['id']\n",
        "        self.name = infos['name']\n",
        "        self.age = infos['age']\n",
        "        self.gender = infos['gender']\n",
        "        self.book_ids = infos['book_ids']\n",
        "        self.library = infos['library']\n",
        "    \n",
        "    def __repr__(self):\n",
        "        return pformat(vars(self))\n",
        "\n",
        "    def borrow(self, book_id):\n",
        "        self.library.borrow(self.id, book_id)\n",
        "\n",
        "    def return_book(self, book_id):\n",
        "        self.library.return_book(self.id, book_id)\n",
        "    \n",
        "    def do_borrow(self, book_id):\n",
        "        self.book_ids.append(book_id)\n",
        "    \n",
        "    def do_return_book(self, book_id):\n",
        "        self.book_ids.remove(book_id)\n",
        "    \n",
        "    def show_books(self):\n",
        "        print('\\n====BEGIN <<show_books>>====')\n",
        "        for book_id in self.book_ids:\n",
        "            print(f'{self.library.query_book(book_id)}')        \n",
        "        print('====END <<show_books>>====\\n')\n",
        "\n",
        "\n",
        "\n",
        "class BookInfo(object):\n",
        "\n",
        "    def __init__(self, infos):\n",
        "        self.id = infos['id']\n",
        "        self.name = infos['name']\n",
        "        self.author = infos['author']\n",
        "        self.publisher = infos['publisher']\n",
        "        self.isbn = infos['isbn']\n",
        "        self.tldr = infos['tldr']\n",
        "        self.borrowed = False\n",
        "\n",
        "    def __repr__(self):\n",
        "        return pformat(vars(self))\n",
        "    \n",
        "    def is_borrowed(self):\n",
        "        return self.borrowed\n",
        "\n",
        "\n",
        "class Library(object):\n",
        "\n",
        "    def __init__(self, books = [], users = []):\n",
        "        self.books = books\n",
        "        self.users = set(users)\n",
        "\n",
        "        for book in books:\n",
        "            book.borrowed = False\n",
        "    \n",
        "    def add_books(self, books):\n",
        "        for book in books:\n",
        "            book.borrowed = False\n",
        "            self.books.append(book)\n",
        "    \n",
        "    def add_users(self, users):\n",
        "        for user in users:\n",
        "            self.users.add(user)\n",
        "\n",
        "    def query_book(self, book_id):\n",
        "        for book in self.books:\n",
        "            if book.id == book_id:\n",
        "                return book\n",
        "        return None\n",
        "\n",
        "    def query_user(self, user_id):\n",
        "        for user in self.users:\n",
        "            if user.id == user_id:\n",
        "                return user\n",
        "        return None\n",
        "\n",
        "    def borrow(self, user_id, book_id):\n",
        "        user = self.query_user(user_id)\n",
        "        book = self.query_book(book_id)\n",
        "\n",
        "        if user is not None and book is not None:\n",
        "            user.do_borrow(book_id)\n",
        "            book.borrowed = True\n",
        "\n",
        "    def return_book(self, user_id, book_id):\n",
        "        user = self.query_user(user_id)\n",
        "        book = self.query_book(book_id)\n",
        "\n",
        "        if user is not None and book is not None:\n",
        "            user.do_return_book(book_id)\n",
        "            book.borrowed = False\n",
        "\n",
        "        \n",
        "\n",
        "Java의_정석 = BookInfo({\n",
        "    'id': 0,\n",
        "    'name': 'Java의 정석',\n",
        "    'author': '남궁 성',\n",
        "    'publisher': '도우출판',\n",
        "    'isbn': 'ajsfjwei23',\n",
        "    'tldr': '자바의 참맛!' ,\n",
        "})\n",
        "\n",
        "컴퓨터_비전 = BookInfo({\n",
        "    'id': 1,\n",
        "    'name': '컴퓨터 비전',\n",
        "    'author': '오일석',\n",
        "    'publisher': '한빛아카데미',\n",
        "    'isbn': 'sjk3uwe89fd',\n",
        "    'tldr': '한 권으로 꿰뚫는 컴퓨터 비전 핵심 알고리즘' ,\n",
        "})\n",
        "\n",
        "연수도서관 = Library()\n",
        "\n",
        "choi = UserInfo({\n",
        "    'id' : 20160339,\n",
        "    'name' : '최승현',\n",
        "    'age' : 26,\n",
        "    'gender': 'male',\n",
        "    'book_ids': [],\n",
        "    'library': 연수도서관\n",
        "})\n",
        "\n",
        "연수도서관.add_books([Java의_정석, 컴퓨터_비전])\n",
        "연수도서관.add_users([choi, ])\n",
        "\n",
        "print(f'current state of choi: {choi}\\n')\n",
        "choi.show_books()\n",
        "\n",
        "choi.borrow(0)\n",
        "choi.show_books()\n",
        "\n",
        "choi.borrow(1)\n",
        "choi.show_books()\n",
        "\n",
        "choi.return_book(0)\n",
        "choi.show_books()\n",
        "\n",
        "choi.return_book(1)\n",
        "choi.show_books()"
      ],
      "metadata": {
        "colab": {
          "base_uri": "https://localhost:8080/"
        },
        "id": "l8Ynpd3CCwTA",
        "outputId": "d3867df0-2cb0-4134-addb-c998684d74b0"
      },
      "execution_count": null,
      "outputs": [
        {
          "output_type": "stream",
          "name": "stdout",
          "text": [
            "current state of choi: {'age': 26,\n",
            " 'book_ids': [],\n",
            " 'gender': 'male',\n",
            " 'id': 20160339,\n",
            " 'library': <__main__.Library object at 0x7f79944987c0>,\n",
            " 'name': '최승현'}\n",
            "\n",
            "\n",
            "====BEGIN <<show_books>>====\n",
            "====END <<show_books>>====\n",
            "\n",
            "\n",
            "====BEGIN <<show_books>>====\n",
            "{'author': '남궁 성',\n",
            " 'borrowed': True,\n",
            " 'id': 0,\n",
            " 'isbn': 'ajsfjwei23',\n",
            " 'name': 'Java의 정석',\n",
            " 'publisher': '도우출판',\n",
            " 'tldr': '자바의 참맛!'}\n",
            "====END <<show_books>>====\n",
            "\n",
            "\n",
            "====BEGIN <<show_books>>====\n",
            "{'author': '남궁 성',\n",
            " 'borrowed': True,\n",
            " 'id': 0,\n",
            " 'isbn': 'ajsfjwei23',\n",
            " 'name': 'Java의 정석',\n",
            " 'publisher': '도우출판',\n",
            " 'tldr': '자바의 참맛!'}\n",
            "{'author': '오일석',\n",
            " 'borrowed': True,\n",
            " 'id': 1,\n",
            " 'isbn': 'sjk3uwe89fd',\n",
            " 'name': '컴퓨터 비전',\n",
            " 'publisher': '한빛아카데미',\n",
            " 'tldr': '한 권으로 꿰뚫는 컴퓨터 비전 핵심 알고리즘'}\n",
            "====END <<show_books>>====\n",
            "\n",
            "\n",
            "====BEGIN <<show_books>>====\n",
            "{'author': '오일석',\n",
            " 'borrowed': True,\n",
            " 'id': 1,\n",
            " 'isbn': 'sjk3uwe89fd',\n",
            " 'name': '컴퓨터 비전',\n",
            " 'publisher': '한빛아카데미',\n",
            " 'tldr': '한 권으로 꿰뚫는 컴퓨터 비전 핵심 알고리즘'}\n",
            "====END <<show_books>>====\n",
            "\n",
            "\n",
            "====BEGIN <<show_books>>====\n",
            "====END <<show_books>>====\n",
            "\n"
          ]
        }
      ]
    },
    {
      "cell_type": "markdown",
      "source": [
        "## Inheritance\n",
        "\n",
        "```mermaid\n",
        "graph LR\n",
        "\n",
        "Car -- extends --> HybridCar\n",
        "Car -- extends --> ElectricCar\n",
        "```"
      ],
      "metadata": {
        "id": "PnzIF1H5Yd2b"
      }
    },
    {
      "cell_type": "code",
      "source": [
        "class Car(object):\n",
        "    maxSpeed = 300\n",
        "    maxPeople = 5\n",
        "\n",
        "    def __init__(self):\n",
        "        self.option = ['aircon', 'fly', 'wheel', 'nuc']\n",
        "\n",
        "    def move(self, x):\n",
        "        print(x, '의 스피드로 달리고 있습니다.')\n",
        "    def stop(self):\n",
        "        print('멈췄습니다.')\n",
        "\n",
        "class HybridCar(Car):\n",
        "    battery = 1000\n",
        "    batteryKM = 300\n",
        "\n",
        "class ElectricCar(HybridCar):\n",
        "    battery = 2000\n",
        "    batteryKM = 600\n",
        "\n",
        "assert id(Car.maxSpeed) == id(HybridCar.maxSpeed)\n",
        "assert id(Car.move) == id(HybridCar.move)\n",
        "\n",
        "bongbong = HybridCar()\n",
        "cybertruck = ElectricCar()\n",
        "\n",
        "assert id(bongbong.option) != id(cybertruck.option)"
      ],
      "metadata": {
        "id": "kpKFt-xWY23c"
      },
      "execution_count": null,
      "outputs": []
    },
    {
      "cell_type": "markdown",
      "source": [
        "## Linked List in Python"
      ],
      "metadata": {
        "id": "SfKjjyXJNbBK"
      }
    },
    {
      "cell_type": "code",
      "source": [
        "class Node:\n",
        "    def __init__(self, data):\n",
        "        self.data = data\n",
        "        self.next = None\n",
        "    \n",
        "    def link_to(self, next):\n",
        "        self.next = next\n",
        "\n",
        "\n",
        "노드1 = Node(10)\n",
        "노드2 = Node(20)\n",
        "노드3 = Node(30)\n",
        "\n",
        "노드1.link_to(노드2)\n",
        "노드2.link_to(노드3)\n",
        "노드3.link_to(노드1)\n",
        "\n",
        "\n",
        "print(노드1.data)\n",
        "print(노드1.next.data)\n",
        "print(노드1.next.next.data)\n",
        "print(노드1.next.next.next.data)"
      ],
      "metadata": {
        "id": "PdFhrR9waZaj",
        "colab": {
          "base_uri": "https://localhost:8080/"
        },
        "outputId": "b1aabd64-7756-448d-d034-a7ee88f90422"
      },
      "execution_count": null,
      "outputs": [
        {
          "output_type": "stream",
          "name": "stdout",
          "text": [
            "10\n",
            "20\n",
            "30\n",
            "10\n"
          ]
        }
      ]
    },
    {
      "cell_type": "code",
      "source": [
        "class Node2:\n",
        "    def __init__(self, data1, data2):\n",
        "        self.data1 = data1\n",
        "        self.data2 = data2\n",
        "    \n",
        "    def link_to(self, next):\n",
        "        self.next = next\n",
        "\n",
        "before_node = [\n",
        "    (10, 'hi'),\n",
        "    (20, 'my'),\n",
        "    (30, 'name'),\n",
        "    (40, 'is'),\n",
        "    (50, 'choi'),\n",
        "]\n",
        "\n",
        "after_node = [Node2(*tup) for tup in before_node]\n",
        "\n",
        "# link\n",
        "for left, right in zip(after_node, after_node[1:]):\n",
        "    left.link_to(right)\n",
        "\n",
        "print(after_node[0].data2)\n",
        "print(after_node[0].next.data2)\n",
        "print(after_node[0].next.next.data2)\n",
        "print(after_node[0].next.next.next.data2)\n",
        "print(after_node[0].next.next.next.next.data2)"
      ],
      "metadata": {
        "colab": {
          "base_uri": "https://localhost:8080/"
        },
        "id": "7YUs2X8ENfKt",
        "outputId": "941e855c-13df-49ae-a31b-aab2383b3386"
      },
      "execution_count": null,
      "outputs": [
        {
          "output_type": "stream",
          "name": "stdout",
          "text": [
            "hi\n",
            "my\n",
            "name\n",
            "is\n",
            "choi\n"
          ]
        }
      ]
    },
    {
      "cell_type": "markdown",
      "source": [
        "## Method Overriding"
      ],
      "metadata": {
        "id": "2AHXoVybQrZf"
      }
    },
    {
      "cell_type": "code",
      "source": [],
      "metadata": {
        "id": "lgDxar7vQtis"
      },
      "execution_count": null,
      "outputs": []
    },
    {
      "cell_type": "markdown",
      "source": [
        "## 다중상속\n",
        "\n",
        "A --> B --> C 이면 C is B and C is A 관계가 성립한다. 여기에서 중요한 것은 어떤 클래스를 어떤 순서(혹은 우선순위)로 볼 것인지 선택한다. 이를 MRO (Method Resolution Order)라고 부른다.\n",
        "\n",
        "`mro` 는 `object`의 메서드로, 모든 클래스가 상속받았다. 이를 출력하면 자기를 기준으로 가장 가까운 관계의 클래스의 순서를 나열해 준다. 이를 기준으로 각종 attr를 찾아간다.\n",
        "\n",
        "실무에서 다중상속에서의 attr 충돌을 볼 일은 거의 없지만 원칙은 기억하자!"
      ],
      "metadata": {
        "id": "e0kRax4rR-uc"
      }
    },
    {
      "cell_type": "code",
      "source": [
        "### Diamond Inheritance is not a bug\n",
        "\n",
        "class A(object):\n",
        "    maxSpeed = 300\n",
        "\n",
        "class B(A):\n",
        "    battery = 1000\n",
        "\n",
        "class C(A):\n",
        "    battery = 2000\n",
        "\n",
        "class D(B, C):\n",
        "    pass\n",
        "\n",
        "print(D.mro())\n",
        "print(D.battery)"
      ],
      "metadata": {
        "colab": {
          "base_uri": "https://localhost:8080/"
        },
        "id": "EUthhe3BSBD5",
        "outputId": "2b19c19c-303a-4509-f88b-e64427862fce"
      },
      "execution_count": null,
      "outputs": [
        {
          "output_type": "stream",
          "name": "stdout",
          "text": [
            "[<class '__main__.D'>, <class '__main__.B'>, <class '__main__.C'>, <class '__main__.A'>, <class 'object'>]\n",
            "1000\n"
          ]
        }
      ]
    },
    {
      "cell_type": "markdown",
      "source": [
        "## 비공개 속성\n",
        "\n",
        "클래스 밖에서 접근이 불가능한 프라이빗한 변수를 만들 수 있다. 바로 이름 앞에 `__`를 붙이기만 하면 된다."
      ],
      "metadata": {
        "id": "vfIyPpgiXUkV"
      }
    },
    {
      "cell_type": "code",
      "source": [
        "class Car(object):\n",
        "    __maxSpeed = 300\n",
        "    maxPeople = 5\n",
        "    def move(self, x):\n",
        "        print(x, '의 스피드로 움직이고 있습니다.')\n",
        "        print(self.__maxSpeed, '가 최고 속도입니다.')\n",
        "    def stop(self):\n",
        "        print('멈췄습니다.')\n",
        "\n",
        "k5 = Car()\n",
        "k5.move(10)\n",
        "# k5.__maxSpeed #error\n",
        "k5.maxPeople"
      ],
      "metadata": {
        "colab": {
          "base_uri": "https://localhost:8080/"
        },
        "id": "KzUEAHACXcJC",
        "outputId": "542c30a2-ed08-4236-b119-7160f6ba43a6"
      },
      "execution_count": null,
      "outputs": [
        {
          "output_type": "stream",
          "name": "stdout",
          "text": [
            "10 의 스피드로 움직이고 있습니다.\n",
            "300 가 최고 속도입니다.\n"
          ]
        },
        {
          "output_type": "execute_result",
          "data": {
            "text/plain": [
              "5"
            ]
          },
          "metadata": {},
          "execution_count": 15
        }
      ]
    },
    {
      "cell_type": "markdown",
      "source": [
        "# Iterator\n",
        "\n",
        "`__iter__`, `__next__` 매직 메서드를 구현하여야 한다.\n",
        "\n",
        "`__next__` 안에서 반드시 `StopIteration` 에러를 일으켜야 for 문 밖으로 탈출할 수 있다.\n",
        "\n",
        "under the hood...\n",
        "\n",
        "1. `for`가 `__iter__`를 호출한다. 내부적으로 초기화 작업을 수행한다.\n",
        "2. 순회를 하면서 `__next__`를 호출한다. 이때 이터레이터는 내부 상태를 바꾸는 작업을 수행한다.\n"
      ],
      "metadata": {
        "id": "eQdGGHecYD-y"
      }
    },
    {
      "cell_type": "code",
      "source": [
        "class MyIterator:\n",
        "\n",
        "    def __init__(self, stop):\n",
        "        self.currentValue = 0\n",
        "        self.stop = stop\n",
        "\n",
        "    def __iter__(self):\n",
        "        return self\n",
        "\n",
        "    def __next__(self):\n",
        "        if self.currentValue >= self.stop:\n",
        "            raise StopIteration\n",
        "        result = self.currentValue\n",
        "        self.currentValue += 1\n",
        "        return result\n",
        "\n",
        "my_iterator = MyIterator(5)\n",
        "\n",
        "for i in my_iterator:\n",
        "    print(i)"
      ],
      "metadata": {
        "colab": {
          "base_uri": "https://localhost:8080/"
        },
        "id": "heUmNt5VYdNl",
        "outputId": "0e391e98-f196-4af5-8361-4b3bf8c066b8"
      },
      "execution_count": null,
      "outputs": [
        {
          "output_type": "stream",
          "name": "stdout",
          "text": [
            "0\n",
            "1\n",
            "2\n",
            "3\n",
            "4\n"
          ]
        }
      ]
    },
    {
      "cell_type": "markdown",
      "source": [
        "## iter, next builtin functions\n",
        "\n",
        "- builtin function `iter`와의 관계 ===> 그냥 매직메서드 `__iter__`를 실행시켜준다.\n",
        "- builtin function `next`와의 관계 ===> 매직메서드 `__next__`를 실행시켜준다.\n"
      ],
      "metadata": {
        "id": "_RhFNDvmbx6n"
      }
    },
    {
      "cell_type": "code",
      "source": [
        "my_iterator = MyIterator(5)\n",
        "it = iter(my_iterator)\n",
        "print(it)\n",
        "print(next(it))\n",
        "print(next(it))\n",
        "print(next(it))\n",
        "print(next(it))\n",
        "print(next(it))\n",
        "print(next(it))\n"
      ],
      "metadata": {
        "colab": {
          "base_uri": "https://localhost:8080/",
          "height": 437
        },
        "id": "m0sTa6kBbzJd",
        "outputId": "90c712a1-86d9-406d-a0c2-da9879ad1435"
      },
      "execution_count": null,
      "outputs": [
        {
          "output_type": "stream",
          "name": "stdout",
          "text": [
            "<__main__.MyIterator object at 0x7f3707b7a7d0>\n",
            "0\n",
            "1\n",
            "2\n",
            "3\n",
            "4\n"
          ]
        },
        {
          "output_type": "error",
          "ename": "StopIteration",
          "evalue": "ignored",
          "traceback": [
            "\u001b[0;31m---------------------------------------------------------------------------\u001b[0m",
            "\u001b[0;31mStopIteration\u001b[0m                             Traceback (most recent call last)",
            "\u001b[0;32m<ipython-input-105-e55b598590e7>\u001b[0m in \u001b[0;36m<cell line: 9>\u001b[0;34m()\u001b[0m\n\u001b[1;32m      7\u001b[0m \u001b[0mprint\u001b[0m\u001b[0;34m(\u001b[0m\u001b[0mnext\u001b[0m\u001b[0;34m(\u001b[0m\u001b[0mit\u001b[0m\u001b[0;34m)\u001b[0m\u001b[0;34m)\u001b[0m\u001b[0;34m\u001b[0m\u001b[0;34m\u001b[0m\u001b[0m\n\u001b[1;32m      8\u001b[0m \u001b[0mprint\u001b[0m\u001b[0;34m(\u001b[0m\u001b[0mnext\u001b[0m\u001b[0;34m(\u001b[0m\u001b[0mit\u001b[0m\u001b[0;34m)\u001b[0m\u001b[0;34m)\u001b[0m\u001b[0;34m\u001b[0m\u001b[0;34m\u001b[0m\u001b[0m\n\u001b[0;32m----> 9\u001b[0;31m \u001b[0mprint\u001b[0m\u001b[0;34m(\u001b[0m\u001b[0mnext\u001b[0m\u001b[0;34m(\u001b[0m\u001b[0mit\u001b[0m\u001b[0;34m)\u001b[0m\u001b[0;34m)\u001b[0m\u001b[0;34m\u001b[0m\u001b[0;34m\u001b[0m\u001b[0m\n\u001b[0m",
            "\u001b[0;32m<ipython-input-103-b6cd204ed817>\u001b[0m in \u001b[0;36m__next__\u001b[0;34m(self)\u001b[0m\n\u001b[1;32m     10\u001b[0m     \u001b[0;32mdef\u001b[0m \u001b[0m__next__\u001b[0m\u001b[0;34m(\u001b[0m\u001b[0mself\u001b[0m\u001b[0;34m)\u001b[0m\u001b[0;34m:\u001b[0m\u001b[0;34m\u001b[0m\u001b[0;34m\u001b[0m\u001b[0m\n\u001b[1;32m     11\u001b[0m         \u001b[0;32mif\u001b[0m \u001b[0mself\u001b[0m\u001b[0;34m.\u001b[0m\u001b[0mcurrentValue\u001b[0m \u001b[0;34m>=\u001b[0m \u001b[0mself\u001b[0m\u001b[0;34m.\u001b[0m\u001b[0mstop\u001b[0m\u001b[0;34m:\u001b[0m\u001b[0;34m\u001b[0m\u001b[0;34m\u001b[0m\u001b[0m\n\u001b[0;32m---> 12\u001b[0;31m             \u001b[0;32mraise\u001b[0m \u001b[0mStopIteration\u001b[0m\u001b[0;34m\u001b[0m\u001b[0;34m\u001b[0m\u001b[0m\n\u001b[0m\u001b[1;32m     13\u001b[0m         \u001b[0mresult\u001b[0m \u001b[0;34m=\u001b[0m \u001b[0mself\u001b[0m\u001b[0;34m.\u001b[0m\u001b[0mcurrentValue\u001b[0m\u001b[0;34m\u001b[0m\u001b[0;34m\u001b[0m\u001b[0m\n\u001b[1;32m     14\u001b[0m         \u001b[0mself\u001b[0m\u001b[0;34m.\u001b[0m\u001b[0mcurrentValue\u001b[0m \u001b[0;34m+=\u001b[0m \u001b[0;36m1\u001b[0m\u001b[0;34m\u001b[0m\u001b[0;34m\u001b[0m\u001b[0m\n",
            "\u001b[0;31mStopIteration\u001b[0m: "
          ]
        }
      ]
    },
    {
      "cell_type": "markdown",
      "source": [
        "## Unpacking Iterators\n",
        "\n",
        "이터레이터 타입 오브젝트를 언패킹 할 수 있는데, 이는 순회에 대한 문법설탕이다."
      ],
      "metadata": {
        "id": "SPpc8YWzcHRO"
      }
    },
    {
      "cell_type": "code",
      "source": [
        "a, b, c, d, e = MyIterator(5)\n",
        "print(a, b, c, d, e)"
      ],
      "metadata": {
        "colab": {
          "base_uri": "https://localhost:8080/"
        },
        "id": "M9RhdMQ4cW-V",
        "outputId": "a4bbbb6f-9b64-4e7e-e158-46bb7aff2642"
      },
      "execution_count": null,
      "outputs": [
        {
          "output_type": "stream",
          "name": "stdout",
          "text": [
            "0 1 2 3 4\n"
          ]
        }
      ]
    },
    {
      "cell_type": "markdown",
      "source": [
        "## Generator which generates Iterator\n",
        "\n",
        "여기에서 생소한 `yield` 문법이 나온다... 이거... C#의 IEnumerator와 비슷해 보이는데\n",
        "\n",
        "아래의 `gen`은 for 문에 들어갈 때마다 `yield`에 의해 `count`를 가지고 있는 제너레이터를 리턴한다. 하지만 그렇다고 `gen`이 현재 소멸된 상태는 아니다!!! \n",
        "\n",
        "나중에 멀티스레딩과 복잡하게 얽혀 저시기 될 수 있다."
      ],
      "metadata": {
        "id": "W_r_Z3Qhco3G"
      }
    },
    {
      "cell_type": "code",
      "source": [
        "def my_yield():\n",
        "    print('<my_yield> before yield')\n",
        "    yield 1\n",
        "    print('<my_yield> after yielding 1')\n",
        "    yield 2\n",
        "    print('<my_yield> after yielding 2')\n",
        "    yield 3\n",
        "    print('<my_yield> after yielding 3')\n",
        "\n",
        "generated = my_yield()\n",
        "print(next(generated))\n",
        "print(next(generated))\n",
        "print(next(generated))\n",
        "print(next(generated))"
      ],
      "metadata": {
        "colab": {
          "base_uri": "https://localhost:8080/",
          "height": 330
        },
        "id": "7NxXb66K4d_U",
        "outputId": "f9cd6c61-080d-4931-fb1c-356a83952280"
      },
      "execution_count": null,
      "outputs": [
        {
          "output_type": "stream",
          "name": "stdout",
          "text": [
            "<my_yield> before yield\n",
            "1\n",
            "<my_yield> after yielding 1\n",
            "2\n",
            "<my_yield> after yielding 2\n",
            "3\n",
            "<my_yield> after yielding 3\n"
          ]
        },
        {
          "output_type": "error",
          "ename": "StopIteration",
          "evalue": "ignored",
          "traceback": [
            "\u001b[0;31m---------------------------------------------------------------------------\u001b[0m",
            "\u001b[0;31mStopIteration\u001b[0m                             Traceback (most recent call last)",
            "\u001b[0;32m<ipython-input-113-2152694de591>\u001b[0m in \u001b[0;36m<cell line: 14>\u001b[0;34m()\u001b[0m\n\u001b[1;32m     12\u001b[0m \u001b[0mprint\u001b[0m\u001b[0;34m(\u001b[0m\u001b[0mnext\u001b[0m\u001b[0;34m(\u001b[0m\u001b[0mgenerated\u001b[0m\u001b[0;34m)\u001b[0m\u001b[0;34m)\u001b[0m\u001b[0;34m\u001b[0m\u001b[0;34m\u001b[0m\u001b[0m\n\u001b[1;32m     13\u001b[0m \u001b[0mprint\u001b[0m\u001b[0;34m(\u001b[0m\u001b[0mnext\u001b[0m\u001b[0;34m(\u001b[0m\u001b[0mgenerated\u001b[0m\u001b[0;34m)\u001b[0m\u001b[0;34m)\u001b[0m\u001b[0;34m\u001b[0m\u001b[0;34m\u001b[0m\u001b[0m\n\u001b[0;32m---> 14\u001b[0;31m \u001b[0mprint\u001b[0m\u001b[0;34m(\u001b[0m\u001b[0mnext\u001b[0m\u001b[0;34m(\u001b[0m\u001b[0mgenerated\u001b[0m\u001b[0;34m)\u001b[0m\u001b[0;34m)\u001b[0m\u001b[0;34m\u001b[0m\u001b[0;34m\u001b[0m\u001b[0m\n\u001b[0m",
            "\u001b[0;31mStopIteration\u001b[0m: "
          ]
        }
      ]
    },
    {
      "cell_type": "code",
      "source": [
        "def gen_inf_loop():\n",
        "\tcount = 0\n",
        "\twhile True:\n",
        "\t\tyield count\n",
        "\t\tcount += 1\n",
        "\n",
        "### 무한루프 주의\n",
        "# for i in gen_inf_loop():\n",
        "# \tprint(i)"
      ],
      "metadata": {
        "id": "HTS2IT9s98v5"
      },
      "execution_count": null,
      "outputs": []
    },
    {
      "cell_type": "code",
      "source": [
        "def gen_count_10():\n",
        "    count = 0\n",
        "    while count < 10:\n",
        "        yield count\n",
        "        count += 1\n",
        "\n",
        "for i in gen_count_10():\n",
        "    print(i)"
      ],
      "metadata": {
        "colab": {
          "base_uri": "https://localhost:8080/"
        },
        "id": "zlDiyhzIdFVU",
        "outputId": "5a14cf02-1b30-4b09-a395-d155f13808bf"
      },
      "execution_count": null,
      "outputs": [
        {
          "output_type": "stream",
          "name": "stdout",
          "text": [
            "0\n",
            "1\n",
            "2\n",
            "3\n",
            "4\n",
            "5\n",
            "6\n",
            "7\n",
            "8\n",
            "9\n"
          ]
        }
      ]
    },
    {
      "cell_type": "markdown",
      "source": [
        "아래 코드는 무한한 짝수 정수를 Lazy하게 다루는 법에 대한 스니펫이다. `gen()`을 for 문에 넣으면 분명 무한히 증가하겠지만, `zip` 과 함께 사용하여 bound가 생겨버림."
      ],
      "metadata": {
        "id": "x10CG0hwegO3"
      }
    },
    {
      "cell_type": "code",
      "source": [
        "def gen():\n",
        "    count = 0\n",
        "    while True:\n",
        "        yield count\n",
        "        count += 2\n",
        "\n",
        "\n",
        "l = [10, 20, 30, 40, 50]\n",
        "print(list(zip(l, gen())))"
      ],
      "metadata": {
        "colab": {
          "base_uri": "https://localhost:8080/"
        },
        "id": "_msgsgnUeMfc",
        "outputId": "8661790c-7397-47a2-c65d-6d4dcc846af6"
      },
      "execution_count": null,
      "outputs": [
        {
          "output_type": "stream",
          "name": "stdout",
          "text": [
            "[(10, 0), (20, 2), (30, 4), (40, 6), (50, 8)]\n"
          ]
        }
      ]
    },
    {
      "cell_type": "markdown",
      "source": [
        "# Decorator\n",
        "\n",
        "실무에서(장고) 어떻게 쓰는지 먼저 보자.\n",
        "\n",
        "```python\n",
        "@로그인\n",
        "def 비밀게시판():\n",
        "    return render()\n",
        "```\n",
        "로그인 된 사용자만 비밀 게시판을 사용할 수 있다 대충 이런 너낌. `functools.reduce`에서 사용할 데이터 전처리에도 사용된다.\n",
        "\n",
        "\n",
        "```python\n",
        "# 이상한 값, 비어있는 값 등 처리\n",
        "@데이터전처리\n",
        "sum()\n",
        "# sum[10, '', '20', '30', None] => sum[10, 20, 30]으로 바꿔서 넣어주기\n",
        "```\n",
        "데이터 전처리가 완료가 된 뒤에 `sum`을 호출하여라.\n",
        "\n",
        "---\n",
        "\n",
        "함수 호출 뒤에 작업도 정의할 수 있다고?\n",
        "```python\n",
        "@데이터전처리후퍼센티지\n",
        "sum(data)\n",
        "# [10, 20, 30] -> 60%\n",
        "```"
      ],
      "metadata": {
        "id": "8bCjE7Uvi1uf"
      }
    },
    {
      "cell_type": "markdown",
      "source": [
        "데코레이터는 함수인데, 함수를 실행시키기 직전과 직후에 무언가를 수행해주는 일종의 콜백함수와도 같다."
      ],
      "metadata": {
        "id": "ZPUgRgZelnqF"
      }
    },
    {
      "cell_type": "code",
      "source": [
        "# Decorator 선언\n",
        "def print_hello(func):\n",
        "    def wrap_func():\n",
        "        print(\"func <<print_hello>>::<<wrap_func>>\")\n",
        "        func()\n",
        "    return wrap_func\n",
        "\n",
        "# Decorator 호출\n",
        "@print_hello\n",
        "def func1():\n",
        "    print('inside <<func1>>')\n",
        "\n",
        "func1()\n",
        "\n",
        "# Decorator 없이도 못할 건 없는데...\n",
        "def func2():\n",
        "    print('func <<func2>>')\n",
        "\n",
        "print_hello(func2)()"
      ],
      "metadata": {
        "colab": {
          "base_uri": "https://localhost:8080/"
        },
        "id": "uo2y6V7OkkNK",
        "outputId": "2ce7c969-6187-4d62-8c8c-219b741dd1c1"
      },
      "execution_count": null,
      "outputs": [
        {
          "output_type": "stream",
          "name": "stdout",
          "text": [
            "func <<print_hello>>::<<wrap_func>>\n",
            "inside <<func1>>\n",
            "func <<print_hello>>::<<wrap_func>>\n",
            "func <<func2>>\n"
          ]
        }
      ]
    },
    {
      "cell_type": "markdown",
      "source": [
        "- 데코레이터에도 인자가 들어갈 수 있다."
      ],
      "metadata": {
        "id": "HUzUKyAImsKh"
      }
    },
    {
      "cell_type": "code",
      "source": [
        "### 데코레이터에 argument를 넣는 방법\n",
        "def deco1(name):\n",
        "    def deco2(func):\n",
        "        def wrapper():\n",
        "            print('decorator1')\n",
        "            func()\n",
        "        return wrapper\n",
        "    return deco2\n",
        " \n",
        "# 데코레이터를 여러 개 지정\n",
        "@deco1('hojun')\n",
        "def hello():\n",
        "    print('hello')\n",
        " \n",
        "hello()\n",
        "\n",
        "### 2중 decorator\n",
        "def decorator1(func):\n",
        "    def wrapper():\n",
        "        print(f'deco1 > wrapper > func : {id(func)}')\n",
        "        func()\n",
        "    print(f'deco1 > wrapper : {id(wrapper)}')\n",
        "    return wrapper\n",
        " \n",
        "def decorator2(func):\n",
        "    def wrapper():\n",
        "        print(f'deco2 > wrapper > func : {id(func)}')\n",
        "        func()\n",
        "    print(f'deco2 > wrapper : {id(wrapper)}')\n",
        "    return wrapper\n",
        " \n",
        "# 데코레이터를 여러 개 지정\n",
        "@decorator1\n",
        "@decorator2\n",
        "def hello():\n",
        "    print('hello')\n",
        " \n",
        "hello()\n"
      ],
      "metadata": {
        "colab": {
          "base_uri": "https://localhost:8080/"
        },
        "id": "QayZR0xzAhf_",
        "outputId": "f21faddb-9ab5-4483-c967-d5eacb3e0712"
      },
      "execution_count": null,
      "outputs": [
        {
          "output_type": "stream",
          "name": "stdout",
          "text": [
            "decorator1\n",
            "hello\n",
            "deco2 > wrapper : 139874318148672\n",
            "deco1 > wrapper : 139874318143488\n",
            "deco1 > wrapper > func : 139874318148672\n",
            "deco2 > wrapper > func : 139874328393280\n",
            "hello\n"
          ]
        }
      ]
    },
    {
      "cell_type": "markdown",
      "source": [
        "아래는 전처리를 수행하는 데코레이터에 대한 스니펫이다."
      ],
      "metadata": {
        "id": "pjdApeTspo35"
      }
    },
    {
      "cell_type": "code",
      "source": [
        "def 전처리(func):\n",
        "    def wrap_func(iterable):\n",
        "        return func(list(map(int, iterable)))\n",
        "    return wrap_func\n",
        "\n",
        "@전처리\n",
        "def 평균(l):\n",
        "    return sum(l) / len(l)\n",
        "\n",
        "평균(['1', 2, 3, '4'])"
      ],
      "metadata": {
        "colab": {
          "base_uri": "https://localhost:8080/"
        },
        "id": "Vfjp2kgBpuj2",
        "outputId": "bfabef18-27a4-4bc4-9c8e-e7d6fb43ef5e"
      },
      "execution_count": null,
      "outputs": [
        {
          "output_type": "execute_result",
          "data": {
            "text/plain": [
              "2.5"
            ]
          },
          "metadata": {},
          "execution_count": 32
        }
      ]
    },
    {
      "cell_type": "code",
      "source": [
        "# 데코레이터 실습 문제\n",
        "# 다음 값이 들어갔을 때, 숫자만 모두 더하는 코드를 완성하세요.\n",
        "ls = ['10', True, False, '21', 0, 10, 20]\n",
        "\n",
        "def 전처리(func):\n",
        "    def wrap_func(iterable):\n",
        "        iterable = map(int, filter(lambda x: type(x) is int, iterable))\n",
        "        return func(iterable)\n",
        "    return wrap_func\n",
        "\n",
        "@전처리\n",
        "def custom_sum(l):\n",
        "    return sum(l)\n",
        "    \n",
        "print(custom_sum(ls))\n",
        "\n",
        "assert isinstance(True, int)\n",
        "assert isinstance(False, int)"
      ],
      "metadata": {
        "colab": {
          "base_uri": "https://localhost:8080/"
        },
        "id": "6IjwNzR1qmP-",
        "outputId": "c1233e3d-fde9-4ce2-e65b-d0db3eb57ab2"
      },
      "execution_count": null,
      "outputs": [
        {
          "output_type": "stream",
          "name": "stdout",
          "text": [
            "30\n"
          ]
        }
      ]
    },
    {
      "cell_type": "markdown",
      "source": [
        "# Module and Package\n",
        "\n",
        "현재 폴더에 `test1.py`라는 파일을 생성하였고 `hello` 함수, `Human` 클래스, `name`, `age` 변수를 이쪽에서 임포트 할 수 있다."
      ],
      "metadata": {
        "id": "yShV_-1dqlaZ"
      }
    },
    {
      "cell_type": "code",
      "source": [
        "import test1\n",
        "\n",
        "test1.name"
      ],
      "metadata": {
        "colab": {
          "base_uri": "https://localhost:8080/",
          "height": 35
        },
        "id": "j9dViQl4DzZS",
        "outputId": "88518fb6-21a7-4d57-e49a-0f99edb6a8a2"
      },
      "execution_count": null,
      "outputs": [
        {
          "output_type": "execute_result",
          "data": {
            "text/plain": [
              "'leehojun'"
            ],
            "application/vnd.google.colaboratory.intrinsic+json": {
              "type": "string"
            }
          },
          "metadata": {},
          "execution_count": 2
        }
      ]
    },
    {
      "cell_type": "markdown",
      "source": [
        "`import`는 모듈이름이나 폴더나 다 들어갈 수 있다"
      ],
      "metadata": {
        "id": "wsNk0yoiFpQA"
      }
    },
    {
      "cell_type": "code",
      "source": [
        "from one.two import three\n",
        "\n",
        "print(three.name)"
      ],
      "metadata": {
        "colab": {
          "base_uri": "https://localhost:8080/"
        },
        "id": "hMmsQe4jFZjB",
        "outputId": "52f1b25f-32fa-4ce6-ae85-5f1ad2db937b"
      },
      "execution_count": null,
      "outputs": [
        {
          "output_type": "stream",
          "name": "stdout",
          "text": [
            "My name is Three!!!\n"
          ]
        }
      ]
    },
    {
      "cell_type": "markdown",
      "source": [
        "`as` 를 사용하여 약칭을 사용할 수도 있다."
      ],
      "metadata": {
        "id": "ju8HUu8CG0rC"
      }
    },
    {
      "cell_type": "code",
      "source": [
        "import test2 as test1\n",
        "import pandas as p\n",
        "import numpy as n\n",
        "\n",
        "print(test1.name)"
      ],
      "metadata": {
        "id": "tO70FracG3r1",
        "colab": {
          "base_uri": "https://localhost:8080/"
        },
        "outputId": "c825e562-05b9-4f10-c4a8-1ef4eb874705"
      },
      "execution_count": null,
      "outputs": [
        {
          "output_type": "stream",
          "name": "stdout",
          "text": [
            "My name is Test2\n"
          ]
        }
      ]
    },
    {
      "cell_type": "markdown",
      "source": [
        "cli 호출을 `!`를 사용하여 콜랩에 선탑재 되어있는 패키지들에 어떤 것들이 있는지 알아보자."
      ],
      "metadata": {
        "id": "kk7JL330H_UT"
      }
    },
    {
      "cell_type": "code",
      "source": [
        "!pip list"
      ],
      "metadata": {
        "id": "BGYBtds9IGmi"
      },
      "execution_count": null,
      "outputs": []
    },
    {
      "cell_type": "markdown",
      "source": [
        "# File Input Output\n",
        "\n",
        "엑셀, 한글도 다룰 수 있다! \n",
        "\n",
        "- `open`"
      ],
      "metadata": {
        "id": "CCrb_VHtMn_h"
      }
    },
    {
      "cell_type": "code",
      "source": [
        "help(open)"
      ],
      "metadata": {
        "colab": {
          "base_uri": "https://localhost:8080/"
        },
        "id": "bU9hXKePJB4D",
        "outputId": "92b6ed42-e3f3-4b28-a0df-fe4eb2483022"
      },
      "execution_count": null,
      "outputs": [
        {
          "output_type": "stream",
          "name": "stdout",
          "text": [
            "Help on built-in function open in module io:\n",
            "\n",
            "open(file, mode='r', buffering=-1, encoding=None, errors=None, newline=None, closefd=True, opener=None)\n",
            "    Open file and return a stream.  Raise OSError upon failure.\n",
            "    \n",
            "    file is either a text or byte string giving the name (and the path\n",
            "    if the file isn't in the current working directory) of the file to\n",
            "    be opened or an integer file descriptor of the file to be\n",
            "    wrapped. (If a file descriptor is given, it is closed when the\n",
            "    returned I/O object is closed, unless closefd is set to False.)\n",
            "    \n",
            "    mode is an optional string that specifies the mode in which the file\n",
            "    is opened. It defaults to 'r' which means open for reading in text\n",
            "    mode.  Other common values are 'w' for writing (truncating the file if\n",
            "    it already exists), 'x' for creating and writing to a new file, and\n",
            "    'a' for appending (which on some Unix systems, means that all writes\n",
            "    append to the end of the file regardless of the current seek position).\n",
            "    In text mode, if encoding is not specified the encoding used is platform\n",
            "    dependent: locale.getpreferredencoding(False) is called to get the\n",
            "    current locale encoding. (For reading and writing raw bytes use binary\n",
            "    mode and leave encoding unspecified.) The available modes are:\n",
            "    \n",
            "    ========= ===============================================================\n",
            "    Character Meaning\n",
            "    --------- ---------------------------------------------------------------\n",
            "    'r'       open for reading (default)\n",
            "    'w'       open for writing, truncating the file first\n",
            "    'x'       create a new file and open it for writing\n",
            "    'a'       open for writing, appending to the end of the file if it exists\n",
            "    'b'       binary mode\n",
            "    't'       text mode (default)\n",
            "    '+'       open a disk file for updating (reading and writing)\n",
            "    'U'       universal newline mode (deprecated)\n",
            "    ========= ===============================================================\n",
            "    \n",
            "    The default mode is 'rt' (open for reading text). For binary random\n",
            "    access, the mode 'w+b' opens and truncates the file to 0 bytes, while\n",
            "    'r+b' opens the file without truncation. The 'x' mode implies 'w' and\n",
            "    raises an `FileExistsError` if the file already exists.\n",
            "    \n",
            "    Python distinguishes between files opened in binary and text modes,\n",
            "    even when the underlying operating system doesn't. Files opened in\n",
            "    binary mode (appending 'b' to the mode argument) return contents as\n",
            "    bytes objects without any decoding. In text mode (the default, or when\n",
            "    't' is appended to the mode argument), the contents of the file are\n",
            "    returned as strings, the bytes having been first decoded using a\n",
            "    platform-dependent encoding or using the specified encoding if given.\n",
            "    \n",
            "    'U' mode is deprecated and will raise an exception in future versions\n",
            "    of Python.  It has no effect in Python 3.  Use newline to control\n",
            "    universal newlines mode.\n",
            "    \n",
            "    buffering is an optional integer used to set the buffering policy.\n",
            "    Pass 0 to switch buffering off (only allowed in binary mode), 1 to select\n",
            "    line buffering (only usable in text mode), and an integer > 1 to indicate\n",
            "    the size of a fixed-size chunk buffer.  When no buffering argument is\n",
            "    given, the default buffering policy works as follows:\n",
            "    \n",
            "    * Binary files are buffered in fixed-size chunks; the size of the buffer\n",
            "      is chosen using a heuristic trying to determine the underlying device's\n",
            "      \"block size\" and falling back on `io.DEFAULT_BUFFER_SIZE`.\n",
            "      On many systems, the buffer will typically be 4096 or 8192 bytes long.\n",
            "    \n",
            "    * \"Interactive\" text files (files for which isatty() returns True)\n",
            "      use line buffering.  Other text files use the policy described above\n",
            "      for binary files.\n",
            "    \n",
            "    encoding is the name of the encoding used to decode or encode the\n",
            "    file. This should only be used in text mode. The default encoding is\n",
            "    platform dependent, but any encoding supported by Python can be\n",
            "    passed.  See the codecs module for the list of supported encodings.\n",
            "    \n",
            "    errors is an optional string that specifies how encoding errors are to\n",
            "    be handled---this argument should not be used in binary mode. Pass\n",
            "    'strict' to raise a ValueError exception if there is an encoding error\n",
            "    (the default of None has the same effect), or pass 'ignore' to ignore\n",
            "    errors. (Note that ignoring encoding errors can lead to data loss.)\n",
            "    See the documentation for codecs.register or run 'help(codecs.Codec)'\n",
            "    for a list of the permitted encoding error strings.\n",
            "    \n",
            "    newline controls how universal newlines works (it only applies to text\n",
            "    mode). It can be None, '', '\\n', '\\r', and '\\r\\n'.  It works as\n",
            "    follows:\n",
            "    \n",
            "    * On input, if newline is None, universal newlines mode is\n",
            "      enabled. Lines in the input can end in '\\n', '\\r', or '\\r\\n', and\n",
            "      these are translated into '\\n' before being returned to the\n",
            "      caller. If it is '', universal newline mode is enabled, but line\n",
            "      endings are returned to the caller untranslated. If it has any of\n",
            "      the other legal values, input lines are only terminated by the given\n",
            "      string, and the line ending is returned to the caller untranslated.\n",
            "    \n",
            "    * On output, if newline is None, any '\\n' characters written are\n",
            "      translated to the system default line separator, os.linesep. If\n",
            "      newline is '' or '\\n', no translation takes place. If newline is any\n",
            "      of the other legal values, any '\\n' characters written are translated\n",
            "      to the given string.\n",
            "    \n",
            "    If closefd is False, the underlying file descriptor will be kept open\n",
            "    when the file is closed. This does not work when a file name is given\n",
            "    and must be True in that case.\n",
            "    \n",
            "    A custom opener can be used by passing a callable as *opener*. The\n",
            "    underlying file descriptor for the file object is then obtained by\n",
            "    calling *opener* with (*file*, *flags*). *opener* must return an open\n",
            "    file descriptor (passing os.open as *opener* results in functionality\n",
            "    similar to passing None).\n",
            "    \n",
            "    open() returns a file object whose type depends on the mode, and\n",
            "    through which the standard file operations such as reading and writing\n",
            "    are performed. When open() is used to open a file in a text mode ('w',\n",
            "    'r', 'wt', 'rt', etc.), it returns a TextIOWrapper. When used to open\n",
            "    a file in a binary mode, the returned class varies: in read binary\n",
            "    mode, it returns a BufferedReader; in write binary and append binary\n",
            "    modes, it returns a BufferedWriter, and in read/write mode, it returns\n",
            "    a BufferedRandom.\n",
            "    \n",
            "    It is also possible to use a string or bytearray as a file for both\n",
            "    reading and writing. For strings StringIO can be used like a file\n",
            "    opened in a text mode, and for bytes a BytesIO can be used like a file\n",
            "    opened in a binary mode.\n",
            "\n"
          ]
        }
      ]
    },
    {
      "cell_type": "markdown",
      "source": [
        "## Write File"
      ],
      "metadata": {
        "id": "9CITifz4WinM"
      }
    },
    {
      "cell_type": "code",
      "source": [
        "f = open('python.txt', 'w')\n",
        "\n",
        "s = 'hello\\nworld'\n",
        "f.write(s)\n",
        "\n",
        "f.close()"
      ],
      "metadata": {
        "id": "-X9ykv24NlVV"
      },
      "execution_count": null,
      "outputs": []
    },
    {
      "cell_type": "markdown",
      "source": [
        "연습문제: 두 리스트를 활용하여 JSON 파일을 하나 만들어보라."
      ],
      "metadata": {
        "id": "LUVHIoq_ObFX"
      }
    },
    {
      "cell_type": "code",
      "source": [
        "data1 = ['one', 'two', 'three']\n",
        "data2 = [10, 20, 30]\n",
        "\n",
        "### https://stackoverflow.com/a/3229493\n",
        "def pretty(d):\n",
        "    cnt = len(d)\n",
        "    ret = '{\\n'\n",
        "    for key, value in d.items():\n",
        "        ret += '\\t\\\"' + str(key) + \"\\\": \"\n",
        "        ret += str(value) + (',' if cnt > 1 else '')  + \"\\n\"\n",
        "        cnt -= 1\n",
        "    ret += '}' \n",
        "    return ret\n",
        "\n",
        "res = dict(zip(data1, data2))\n",
        "\n",
        "print(pretty(res))\n",
        "\n",
        "f = open('data.json', 'w')\n",
        "f.write(pretty(res))\n",
        "f.close()"
      ],
      "metadata": {
        "colab": {
          "base_uri": "https://localhost:8080/"
        },
        "id": "TlUQs7xLOfYL",
        "outputId": "b5a29156-3671-4c78-b2c1-272a8953ca00"
      },
      "execution_count": 87,
      "outputs": [
        {
          "output_type": "stream",
          "name": "stdout",
          "text": [
            "{\n",
            "\t\"one\": 10,\n",
            "\t\"two\": 20,\n",
            "\t\"three\": 30\n",
            "}\n"
          ]
        }
      ]
    },
    {
      "cell_type": "code",
      "source": [
        "### 사실 json.dump 쓰면 되지롱~~\n",
        "import json\n",
        "\n",
        "f = open('data2.json', 'w')\n",
        "json.dump(dict(zip(data1, data2)), f, indent = '\\t')\n",
        "f.close()"
      ],
      "metadata": {
        "id": "6oKpH8cpQUjD"
      },
      "execution_count": null,
      "outputs": []
    },
    {
      "cell_type": "markdown",
      "source": [
        "## Read File"
      ],
      "metadata": {
        "id": "50ek0EyrWl7o"
      }
    },
    {
      "cell_type": "code",
      "source": [
        "for line in open('python.txt', 'r').readlines():\n",
        "    print(line, end='')\n",
        "f.close()"
      ],
      "metadata": {
        "colab": {
          "base_uri": "https://localhost:8080/"
        },
        "id": "Ws50FnTsWnHf",
        "outputId": "fa6011bc-3930-4afb-b19d-97051a8cb306"
      },
      "execution_count": null,
      "outputs": [
        {
          "output_type": "stream",
          "name": "stdout",
          "text": [
            "hello\n",
            "world"
          ]
        }
      ]
    },
    {
      "cell_type": "markdown",
      "source": [
        "## Append File"
      ],
      "metadata": {
        "id": "nvNMtzN5W-g-"
      }
    },
    {
      "cell_type": "code",
      "source": [],
      "metadata": {
        "id": "dQGFobB3XAji"
      },
      "execution_count": null,
      "outputs": []
    },
    {
      "cell_type": "markdown",
      "source": [
        "## 파일 입출력 심화\n",
        "\n",
        "* github(https://github.com/paullabkorea/xlsxwriter) 에서 모든 소스코드를 다운로드 받으실 수 있습니다.\n",
        "* 무료책인 인공지능을 활용한 업무자동화 책(2021 Version Notion)을 활용하면 좀 더 활용성이 극대화된 코딩이 가능합니다.(크롤링, 워드파일 크롤링, PDF크롤링, 문자 보내기 등)\n",
        "* 업무자동화 Notion 링크 : https://paullabworkspace.notion.site/2021-6192ed4219fc4e7a96e10b22cfa27c80\n"
      ],
      "metadata": {
        "id": "dpOmCM97aJgZ"
      }
    },
    {
      "cell_type": "markdown",
      "source": [
        "### 파일 생성과 내용 추가를 `with`로 한 번에!"
      ],
      "metadata": {
        "id": "cssfUVJhkoLC"
      }
    },
    {
      "cell_type": "markdown",
      "source": [
        "### 엑셀 다루기"
      ],
      "metadata": {
        "id": "TUSuEv1Ya-ht"
      }
    },
    {
      "cell_type": "code",
      "source": [
        "!pip3 install xlsxwriter"
      ],
      "metadata": {
        "colab": {
          "base_uri": "https://localhost:8080/"
        },
        "id": "chYnhPFIaV6l",
        "outputId": "62b14c75-5c88-4531-c991-5839035c90f7"
      },
      "execution_count": null,
      "outputs": [
        {
          "output_type": "stream",
          "name": "stdout",
          "text": [
            "Looking in indexes: https://pypi.org/simple, https://us-python.pkg.dev/colab-wheels/public/simple/\n",
            "Collecting xlsxwriter\n",
            "  Downloading XlsxWriter-3.1.0-py3-none-any.whl (152 kB)\n",
            "\u001b[2K     \u001b[90m━━━━━━━━━━━━━━━━━━━━━━━━━━━━━━━━━━━━━━━\u001b[0m \u001b[32m152.7/152.7 kB\u001b[0m \u001b[31m3.9 MB/s\u001b[0m eta \u001b[36m0:00:00\u001b[0m\n",
            "\u001b[?25hInstalling collected packages: xlsxwriter\n",
            "Successfully installed xlsxwriter-3.1.0\n"
          ]
        }
      ]
    },
    {
      "cell_type": "code",
      "source": [
        "import xlsxwriter\n",
        "\n",
        "# 엑셀 파일 생성하기\n",
        "workbook = xlsxwriter.Workbook('test.xlsx')\n",
        "\n",
        "# 워크시트 생성하기\n",
        "worksheet = workbook.add_worksheet('test')\n",
        "\n",
        "worksheet.write(0, 0, 'AA')\n",
        "worksheet.write(0, 1, 'BB')\n",
        "worksheet.write(0, 2, 'CC')\n",
        "worksheet.write(0, 3, 'DD')\n",
        "\n",
        "worksheet.write(1, 0, 10)\n",
        "worksheet.write(1, 1, 20)\n",
        "worksheet.write(1, 2, 30)\n",
        "worksheet.write(1, 3, 40)\n",
        "\n",
        "workbook.close()"
      ],
      "metadata": {
        "id": "mv1z4TGCa3us"
      },
      "execution_count": null,
      "outputs": []
    },
    {
      "cell_type": "code",
      "source": [
        "### 연습문제: 다음 저시기를 엑셀로 만들어라\n",
        "\n",
        "홍길동 = [33, 88, 24]\n",
        "이호준 = [34, 66, 77]\n",
        "김철수 = [78, 82, 36]\n",
        "all_data = [홍길동, 이호준, 김철수]\n",
        "\n",
        "workbook = xlsxwriter.Workbook('test.xlsx')\n",
        "worksheet = workbook.add_worksheet('Grades')\n",
        "\n",
        "row_header = ['', '국어', '영어', '수학', '평균']\n",
        "col_header = ['', '홍길동', '이호준', '김철수']\n",
        "\n",
        "for idx, subject in enumerate(row_header):\n",
        "    worksheet.write(0, idx, subject)\n",
        "\n",
        "for idx, subject in enumerate(col_header):\n",
        "    worksheet.write(idx, 0, subject)\n",
        "\n",
        "for row_idx, line in enumerate(all_data, start=1):\n",
        "    for col_idx, value in enumerate(line, start=1):\n",
        "        worksheet.write(row_idx, col_idx, value)\n",
        "    # average\n",
        "    avg = sum(line) / len(line)\n",
        "    worksheet.write(row_idx, len(line) + 1, avg)\n",
        "\n",
        "\n",
        "workbook.close()"
      ],
      "metadata": {
        "id": "8vUK29SVceuk"
      },
      "execution_count": null,
      "outputs": []
    },
    {
      "cell_type": "markdown",
      "source": [],
      "metadata": {
        "id": "PxFp4RmwkmgW"
      }
    },
    {
      "cell_type": "markdown",
      "source": [
        "# OS Module\n",
        "\n",
        "- 폴더 만들기, 읽기, 파일 옮기기, 수정하기 등과 같은 CLI에서 수행할 수 있는 일들을 파이썬 스크립트로 작성할 수 있다."
      ],
      "metadata": {
        "id": "ouC3E5gVhNr2"
      }
    },
    {
      "cell_type": "code",
      "source": [
        "import os"
      ],
      "metadata": {
        "id": "urrAbLKzi7rO"
      },
      "execution_count": null,
      "outputs": []
    },
    {
      "cell_type": "code",
      "source": [],
      "metadata": {
        "id": "VLcmHMQ3jtYK"
      },
      "execution_count": null,
      "outputs": []
    },
    {
      "cell_type": "markdown",
      "source": [
        "# 2023-05-11 advanced problem\n",
        "\n",
        "다음 데코레이터를 작성하시오.\n",
        "```python\n",
        "@writefile\n",
        "def add(a, b):\n",
        "    return a + b\n",
        "```\n",
        "\n",
        "`writefile` 데코레이터의 기능을 json 형식으로 아래과 같은 형식으로 result.txt에 저장되게 만들어주세요.\n",
        "```json\n",
        "{\n",
        "    \"a\": 10,\n",
        "    \"b\": 20,\n",
        "    \"a+b\", 30\n",
        "}\n",
        "```"
      ],
      "metadata": {
        "id": "tR00D93hjuF9"
      }
    },
    {
      "cell_type": "code",
      "source": [
        "def writefile(adder) :\n",
        "    def call_back(a, b):\n",
        "        result = adder(a, b)\n",
        "        f = open('result.txt', 'w')\n",
        "\n",
        "        payload = {'a': a, 'b': b, 'a+b': result}\n",
        "        f.write(pretty(payload))\n",
        "\n",
        "        f.close()\n",
        "\n",
        "        return result\n",
        "        \n",
        "    return call_back\n",
        "\n",
        "@writefile\n",
        "def add(a, b):\n",
        "    return a + b\n",
        "\n",
        "add(10, 20)"
      ],
      "metadata": {
        "colab": {
          "base_uri": "https://localhost:8080/"
        },
        "id": "4r0CQD-OnJRc",
        "outputId": "add5ea36-1df5-43ab-ab3b-8389954dd01a"
      },
      "execution_count": null,
      "outputs": [
        {
          "output_type": "execute_result",
          "data": {
            "text/plain": [
              "30"
            ]
          },
          "metadata": {},
          "execution_count": 101
        }
      ]
    },
    {
      "cell_type": "code",
      "source": [
        "import json\n",
        "\n",
        "def writefile(func):\n",
        "    def wrap_func(a,b):\n",
        "        f = open('result.txt', 'w')\n",
        "        data = {\"a\": a, \"b\": b, \"a+b\": a+b}\n",
        "        s = json.dumps(data, indent=4)\n",
        "        f.write(s)\n",
        "        f.close()\n",
        "        return func(a,b)\n",
        "    return wrap_func\n",
        "\n",
        "@writefile\n",
        "def add(a, b):\n",
        "    return a + b\n",
        "\n",
        "add(10, 20)"
      ],
      "metadata": {
        "colab": {
          "base_uri": "https://localhost:8080/"
        },
        "id": "oLcBjlitrrAp",
        "outputId": "3f13e61d-d0c5-4efe-fef2-3369ae5eb265"
      },
      "execution_count": null,
      "outputs": [
        {
          "output_type": "execute_result",
          "data": {
            "text/plain": [
              "30"
            ]
          },
          "metadata": {},
          "execution_count": 98
        }
      ]
    },
    {
      "cell_type": "markdown",
      "source": [
        "# Python Errors\n",
        "\n",
        "- 에러가 발생했을 때 제대로 처리하지 않으면 서비스가 멈춥니다.\n",
        "- 주니어가 짠 코드가 서비스 전체에 영향이 가지 않도록 시니어가 견고한 코드를 짜 놓았을 거다.\n",
        "- TDD 등 테스트 할 수 있는 환경이 갖추어져 있다.\n",
        "- 작성한 코드는 실 서비스로 바로 배포되지 않는다. 기업 형편에 따라 테스트 전용 서버로 먼저 배포되어 잘 작동하는지 테스트를 진행한다."
      ],
      "metadata": {
        "id": "0RsktJojLYy3"
      }
    },
    {
      "cell_type": "code",
      "source": [
        "# ZeroDivisionError\n",
        "1 / 0"
      ],
      "metadata": {
        "colab": {
          "base_uri": "https://localhost:8080/",
          "height": 169
        },
        "id": "ruVcm_hIP475",
        "outputId": "ba1a8536-71f3-42c4-9a91-5ec0093cf923"
      },
      "execution_count": null,
      "outputs": [
        {
          "output_type": "error",
          "ename": "ZeroDivisionError",
          "evalue": "ignored",
          "traceback": [
            "\u001b[0;31m---------------------------------------------------------------------------\u001b[0m",
            "\u001b[0;31mZeroDivisionError\u001b[0m                         Traceback (most recent call last)",
            "\u001b[0;32m<ipython-input-1-bc757c3fda29>\u001b[0m in \u001b[0;36m<cell line: 1>\u001b[0;34m()\u001b[0m\n\u001b[0;32m----> 1\u001b[0;31m \u001b[0;36m1\u001b[0m \u001b[0;34m/\u001b[0m \u001b[0;36m0\u001b[0m\u001b[0;34m\u001b[0m\u001b[0;34m\u001b[0m\u001b[0m\n\u001b[0m",
            "\u001b[0;31mZeroDivisionError\u001b[0m: division by zero"
          ]
        }
      ]
    },
    {
      "cell_type": "code",
      "source": [
        "# SyntaxError\n",
        "raise SyntaxError('hello, world')"
      ],
      "metadata": {
        "colab": {
          "base_uri": "https://localhost:8080/",
          "height": 241
        },
        "id": "11qj-N6TP-Yo",
        "outputId": "81aded47-335f-47f3-da7f-293a4a910c19"
      },
      "execution_count": null,
      "outputs": [
        {
          "output_type": "error",
          "ename": "SyntaxError",
          "evalue": "ignored",
          "traceback": [
            "Traceback \u001b[0;36m(most recent call last)\u001b[0m:\n",
            "  File \u001b[1;32m\"/usr/local/lib/python3.10/dist-packages/IPython/core/interactiveshell.py\"\u001b[0m, line \u001b[1;32m3553\u001b[0m, in \u001b[1;35mrun_code\u001b[0m\n    exec(code_obj, self.user_global_ns, self.user_ns)\n",
            "\u001b[0;36m  File \u001b[0;32m\"<ipython-input-2-63a553963c88>\"\u001b[0;36m, line \u001b[0;32m1\u001b[0;36m, in \u001b[0;35m<cell line: 1>\u001b[0;36m\u001b[0m\n\u001b[0;31m    raise SyntaxError('hello, world')\u001b[0m\n",
            "\u001b[0;36m  File \u001b[0;32m\"<string>\"\u001b[0;36m, line \u001b[0;32munknown\u001b[0m\n\u001b[0;31mSyntaxError\u001b[0m\u001b[0;31m:\u001b[0m hello, world\n"
          ]
        }
      ]
    },
    {
      "cell_type": "code",
      "source": [
        "# SyntaxError\n",
        "for i in range(10)\n",
        "    print(i)"
      ],
      "metadata": {
        "colab": {
          "base_uri": "https://localhost:8080/",
          "height": 133
        },
        "id": "C2KB8vLdcsTq",
        "outputId": "f3bc079d-7b9f-4dc9-cf0b-e67ab3e7eedc"
      },
      "execution_count": null,
      "outputs": [
        {
          "output_type": "error",
          "ename": "SyntaxError",
          "evalue": "ignored",
          "traceback": [
            "\u001b[0;36m  File \u001b[0;32m\"<ipython-input-3-7a8a49ad5eea>\"\u001b[0;36m, line \u001b[0;32m1\u001b[0m\n\u001b[0;31m    for i in range(10)\u001b[0m\n\u001b[0m                      ^\u001b[0m\n\u001b[0;31mSyntaxError\u001b[0m\u001b[0;31m:\u001b[0m expected ':'\n"
          ]
        }
      ]
    },
    {
      "cell_type": "code",
      "source": [
        "# NameError\n",
        "print(variable_that_never_declared)"
      ],
      "metadata": {
        "colab": {
          "base_uri": "https://localhost:8080/",
          "height": 169
        },
        "id": "uqbtfhfnc0VS",
        "outputId": "eb48193e-a55b-46e2-be6f-ea5b9ad09dca"
      },
      "execution_count": null,
      "outputs": [
        {
          "output_type": "error",
          "ename": "NameError",
          "evalue": "ignored",
          "traceback": [
            "\u001b[0;31m---------------------------------------------------------------------------\u001b[0m",
            "\u001b[0;31mNameError\u001b[0m                                 Traceback (most recent call last)",
            "\u001b[0;32m<ipython-input-4-90332e7fa660>\u001b[0m in \u001b[0;36m<cell line: 1>\u001b[0;34m()\u001b[0m\n\u001b[0;32m----> 1\u001b[0;31m \u001b[0mprint\u001b[0m\u001b[0;34m(\u001b[0m\u001b[0mvariable_that_never_declared\u001b[0m\u001b[0;34m)\u001b[0m\u001b[0;34m\u001b[0m\u001b[0;34m\u001b[0m\u001b[0m\n\u001b[0m",
            "\u001b[0;31mNameError\u001b[0m: name 'variable_that_never_declared' is not defined"
          ]
        }
      ]
    },
    {
      "cell_type": "code",
      "source": [
        "x = 10\n",
        "y = '20'\n",
        "# TypeError\n",
        "print(x + y)"
      ],
      "metadata": {
        "colab": {
          "base_uri": "https://localhost:8080/",
          "height": 205
        },
        "id": "_incTMnzdChp",
        "outputId": "39625752-c617-4aca-f53d-ac55a54353a1"
      },
      "execution_count": null,
      "outputs": [
        {
          "output_type": "error",
          "ename": "TypeError",
          "evalue": "ignored",
          "traceback": [
            "\u001b[0;31m---------------------------------------------------------------------------\u001b[0m",
            "\u001b[0;31mTypeError\u001b[0m                                 Traceback (most recent call last)",
            "\u001b[0;32m<ipython-input-5-53d7f51b3f90>\u001b[0m in \u001b[0;36m<cell line: 3>\u001b[0;34m()\u001b[0m\n\u001b[1;32m      1\u001b[0m \u001b[0mx\u001b[0m \u001b[0;34m=\u001b[0m \u001b[0;36m10\u001b[0m\u001b[0;34m\u001b[0m\u001b[0;34m\u001b[0m\u001b[0m\n\u001b[1;32m      2\u001b[0m \u001b[0my\u001b[0m \u001b[0;34m=\u001b[0m \u001b[0;34m'20'\u001b[0m\u001b[0;34m\u001b[0m\u001b[0;34m\u001b[0m\u001b[0m\n\u001b[0;32m----> 3\u001b[0;31m \u001b[0mprint\u001b[0m\u001b[0;34m(\u001b[0m\u001b[0mx\u001b[0m \u001b[0;34m+\u001b[0m \u001b[0my\u001b[0m\u001b[0;34m)\u001b[0m\u001b[0;34m\u001b[0m\u001b[0;34m\u001b[0m\u001b[0m\n\u001b[0m",
            "\u001b[0;31mTypeError\u001b[0m: unsupported operand type(s) for +: 'int' and 'str'"
          ]
        }
      ]
    },
    {
      "cell_type": "code",
      "source": [
        "my_list = [1,2,3]\n",
        "# IndexError\n",
        "print(my_list[3])"
      ],
      "metadata": {
        "colab": {
          "base_uri": "https://localhost:8080/",
          "height": 187
        },
        "id": "t_H4haTDdGUB",
        "outputId": "656e37c2-ff4d-4bee-8cee-e5729d8a351c"
      },
      "execution_count": null,
      "outputs": [
        {
          "output_type": "error",
          "ename": "IndexError",
          "evalue": "ignored",
          "traceback": [
            "\u001b[0;31m---------------------------------------------------------------------------\u001b[0m",
            "\u001b[0;31mIndexError\u001b[0m                                Traceback (most recent call last)",
            "\u001b[0;32m<ipython-input-6-f23a4b1832b7>\u001b[0m in \u001b[0;36m<cell line: 2>\u001b[0;34m()\u001b[0m\n\u001b[1;32m      1\u001b[0m \u001b[0mmy_list\u001b[0m \u001b[0;34m=\u001b[0m \u001b[0;34m[\u001b[0m\u001b[0;36m1\u001b[0m\u001b[0;34m,\u001b[0m\u001b[0;36m2\u001b[0m\u001b[0;34m,\u001b[0m\u001b[0;36m3\u001b[0m\u001b[0;34m]\u001b[0m\u001b[0;34m\u001b[0m\u001b[0;34m\u001b[0m\u001b[0m\n\u001b[0;32m----> 2\u001b[0;31m \u001b[0mprint\u001b[0m\u001b[0;34m(\u001b[0m\u001b[0mmy_list\u001b[0m\u001b[0;34m[\u001b[0m\u001b[0;36m3\u001b[0m\u001b[0;34m]\u001b[0m\u001b[0;34m)\u001b[0m\u001b[0;34m\u001b[0m\u001b[0;34m\u001b[0m\u001b[0m\n\u001b[0m",
            "\u001b[0;31mIndexError\u001b[0m: list index out of range"
          ]
        }
      ]
    },
    {
      "cell_type": "code",
      "source": [
        "# KeyError\n",
        "my_dict = {'a': 1, 'b': 2}\n",
        "print(my_dict['c'])"
      ],
      "metadata": {
        "colab": {
          "base_uri": "https://localhost:8080/",
          "height": 205
        },
        "id": "BQhohA_4dLbT",
        "outputId": "ca778884-79c4-48ef-d502-925a82e2bf9b"
      },
      "execution_count": null,
      "outputs": [
        {
          "output_type": "error",
          "ename": "KeyError",
          "evalue": "ignored",
          "traceback": [
            "\u001b[0;31m---------------------------------------------------------------------------\u001b[0m",
            "\u001b[0;31mKeyError\u001b[0m                                  Traceback (most recent call last)",
            "\u001b[0;32m<ipython-input-7-36a7bf13af0a>\u001b[0m in \u001b[0;36m<cell line: 3>\u001b[0;34m()\u001b[0m\n\u001b[1;32m      1\u001b[0m \u001b[0;31m# KeyError\u001b[0m\u001b[0;34m\u001b[0m\u001b[0;34m\u001b[0m\u001b[0m\n\u001b[1;32m      2\u001b[0m \u001b[0mmy_dict\u001b[0m \u001b[0;34m=\u001b[0m \u001b[0;34m{\u001b[0m\u001b[0;34m'a'\u001b[0m\u001b[0;34m:\u001b[0m \u001b[0;36m1\u001b[0m\u001b[0;34m,\u001b[0m \u001b[0;34m'b'\u001b[0m\u001b[0;34m:\u001b[0m \u001b[0;36m2\u001b[0m\u001b[0;34m}\u001b[0m\u001b[0;34m\u001b[0m\u001b[0;34m\u001b[0m\u001b[0m\n\u001b[0;32m----> 3\u001b[0;31m \u001b[0mprint\u001b[0m\u001b[0;34m(\u001b[0m\u001b[0mmy_dict\u001b[0m\u001b[0;34m[\u001b[0m\u001b[0;34m'c'\u001b[0m\u001b[0;34m]\u001b[0m\u001b[0;34m)\u001b[0m\u001b[0;34m\u001b[0m\u001b[0;34m\u001b[0m\u001b[0m\n\u001b[0m",
            "\u001b[0;31mKeyError\u001b[0m: 'c'"
          ]
        }
      ]
    },
    {
      "cell_type": "code",
      "source": [
        "# ValueError\n",
        "int('a')"
      ],
      "metadata": {
        "colab": {
          "base_uri": "https://localhost:8080/",
          "height": 187
        },
        "id": "P4kSkIgbdSQC",
        "outputId": "88073acd-efd8-45c3-8268-81bfcc2a588e"
      },
      "execution_count": null,
      "outputs": [
        {
          "output_type": "error",
          "ename": "ValueError",
          "evalue": "ignored",
          "traceback": [
            "\u001b[0;31m---------------------------------------------------------------------------\u001b[0m",
            "\u001b[0;31mValueError\u001b[0m                                Traceback (most recent call last)",
            "\u001b[0;32m<ipython-input-8-a1f2a9b6953a>\u001b[0m in \u001b[0;36m<cell line: 2>\u001b[0;34m()\u001b[0m\n\u001b[1;32m      1\u001b[0m \u001b[0;31m# ValueError\u001b[0m\u001b[0;34m\u001b[0m\u001b[0;34m\u001b[0m\u001b[0m\n\u001b[0;32m----> 2\u001b[0;31m \u001b[0mint\u001b[0m\u001b[0;34m(\u001b[0m\u001b[0;34m'a'\u001b[0m\u001b[0;34m)\u001b[0m\u001b[0;34m\u001b[0m\u001b[0;34m\u001b[0m\u001b[0m\n\u001b[0m",
            "\u001b[0;31mValueError\u001b[0m: invalid literal for int() with base 10: 'a'"
          ]
        }
      ]
    },
    {
      "cell_type": "code",
      "source": [
        "# AttributeError\n",
        "my_list = [1,2,3]\n",
        "print(my_list.apppppppppend(4))"
      ],
      "metadata": {
        "colab": {
          "base_uri": "https://localhost:8080/",
          "height": 205
        },
        "id": "6TDcgHCydUSR",
        "outputId": "639bdcfd-f74c-421e-c405-5e3f7a77c72f"
      },
      "execution_count": null,
      "outputs": [
        {
          "output_type": "error",
          "ename": "AttributeError",
          "evalue": "ignored",
          "traceback": [
            "\u001b[0;31m---------------------------------------------------------------------------\u001b[0m",
            "\u001b[0;31mAttributeError\u001b[0m                            Traceback (most recent call last)",
            "\u001b[0;32m<ipython-input-9-1539c201e446>\u001b[0m in \u001b[0;36m<cell line: 3>\u001b[0;34m()\u001b[0m\n\u001b[1;32m      1\u001b[0m \u001b[0;31m# AttributeError\u001b[0m\u001b[0;34m\u001b[0m\u001b[0;34m\u001b[0m\u001b[0m\n\u001b[1;32m      2\u001b[0m \u001b[0mmy_list\u001b[0m \u001b[0;34m=\u001b[0m \u001b[0;34m[\u001b[0m\u001b[0;36m1\u001b[0m\u001b[0;34m,\u001b[0m\u001b[0;36m2\u001b[0m\u001b[0;34m,\u001b[0m\u001b[0;36m3\u001b[0m\u001b[0;34m]\u001b[0m\u001b[0;34m\u001b[0m\u001b[0;34m\u001b[0m\u001b[0m\n\u001b[0;32m----> 3\u001b[0;31m \u001b[0mprint\u001b[0m\u001b[0;34m(\u001b[0m\u001b[0mmy_list\u001b[0m\u001b[0;34m.\u001b[0m\u001b[0mapppppppppend\u001b[0m\u001b[0;34m(\u001b[0m\u001b[0;36m4\u001b[0m\u001b[0;34m)\u001b[0m\u001b[0;34m)\u001b[0m\u001b[0;34m\u001b[0m\u001b[0;34m\u001b[0m\u001b[0m\n\u001b[0m",
            "\u001b[0;31mAttributeError\u001b[0m: 'list' object has no attribute 'apppppppppend'"
          ]
        }
      ]
    },
    {
      "cell_type": "markdown",
      "source": [
        "## Exception Handling\n",
        "\n",
        "```python\n",
        "try:\n",
        "    # 예외가 발생할 가능성이 있는 코드\n",
        "except {{option: specific error type}}:\n",
        "    # 예외 발생 시 처리할 코드\n",
        "else:\n",
        "    # 예외 미 발생 시 처리할 코드\n",
        "finally:\n",
        "    # 예외고 뭐고 무조건 실행할 코드\n",
        "    # 얘가 존재하는 이유는 예외 발생시에도 무조건 실행하기 때문에\n",
        "    # 동기화 문제를 해결할 타이밍을 제공할 수 있다.\n",
        "```"
      ],
      "metadata": {
        "id": "M0G0alLedgCJ"
      }
    },
    {
      "cell_type": "markdown",
      "source": [
        "## Custom Error\n",
        "\n",
        "간단하다. `Exception` 클래스를 상속하는 클래스를 구현하면 된다. 그리고 `__init__`에서 부모 클래스의 attr를 참조하는 `super` 얘가 뭐지 쨌든 를 사용하여 `super().__init__(\"Message\")` 이런 식으로 메시지를 추가할 수 있다.\n",
        "\n",
        "[super](https://www.geeksforgeeks.org/python-super/): Return a proxy object which represents the parent's class"
      ],
      "metadata": {
        "id": "TQoruaVNe-KH"
      }
    },
    {
      "cell_type": "code",
      "source": [
        "class FxxxedUpError(Exception):\n",
        "    def __init__(self):\n",
        "        super().__init__('Hey, you are gonna be fired soon 💀💀💀')\n",
        "\n",
        "raise FxxxedUpError"
      ],
      "metadata": {
        "colab": {
          "base_uri": "https://localhost:8080/",
          "height": 205
        },
        "id": "fuJ70vOjiooy",
        "outputId": "ffbd28c0-7034-4da1-addb-9c70631501de"
      },
      "execution_count": null,
      "outputs": [
        {
          "output_type": "error",
          "ename": "FxxxedUpError",
          "evalue": "ignored",
          "traceback": [
            "\u001b[0;31m---------------------------------------------------------------------------\u001b[0m",
            "\u001b[0;31mFxxxedUpError\u001b[0m                             Traceback (most recent call last)",
            "\u001b[0;32m<ipython-input-10-cf1de208d7b8>\u001b[0m in \u001b[0;36m<cell line: 5>\u001b[0;34m()\u001b[0m\n\u001b[1;32m      3\u001b[0m         \u001b[0msuper\u001b[0m\u001b[0;34m(\u001b[0m\u001b[0;34m)\u001b[0m\u001b[0;34m.\u001b[0m\u001b[0m__init__\u001b[0m\u001b[0;34m(\u001b[0m\u001b[0;34m'Hey, you are gonna be fired soon 💀💀💀'\u001b[0m\u001b[0;34m)\u001b[0m\u001b[0;34m\u001b[0m\u001b[0;34m\u001b[0m\u001b[0m\n\u001b[1;32m      4\u001b[0m \u001b[0;34m\u001b[0m\u001b[0m\n\u001b[0;32m----> 5\u001b[0;31m \u001b[0;32mraise\u001b[0m \u001b[0mFxxxedUpError\u001b[0m\u001b[0;34m\u001b[0m\u001b[0;34m\u001b[0m\u001b[0m\n\u001b[0m",
            "\u001b[0;31mFxxxedUpError\u001b[0m: Hey, you are gonna be fired soon 💀💀💀"
          ]
        }
      ]
    },
    {
      "cell_type": "markdown",
      "source": [
        "# Closures, Factory Functions\n",
        "\n",
        "[What is function? | first-class-object? | closure?](https://shoark7.github.io/programming/python/closure-in-python)\n",
        "\n",
        "파이썬에서 함수는 일급객체(First Class Object)이다. 일급객체의 필요조건 세가지는 다음과 같다.\n",
        "1. 함수의 인자로 전달이 될 수 있어야 한다.\n",
        "2. 함수의 반환값으로 전달이 될 수 있어야 한다.\n",
        "3. 수정이 되고 할당이 될 수 있다.\n"
      ],
      "metadata": {
        "id": "9CCWuA1pj6s4"
      }
    },
    {
      "cell_type": "code",
      "source": [
        "def delegator(fn, *args):\n",
        "    # 2. 함수의 반환값으로 전달\n",
        "    return fn(*args)\n",
        "\n",
        "def add(a, b):\n",
        "    return a + b\n",
        "\n",
        "my_add = add  # 3. 수정이 되거나 할당이 될 수 있다.\n",
        "\n",
        "# 1. 함수의 인자로 전달\n",
        "delegator(my_add, 1, 2)"
      ],
      "metadata": {
        "colab": {
          "base_uri": "https://localhost:8080/"
        },
        "id": "HQSVNR5jnULB",
        "outputId": "e33307f9-aead-4a45-ad51-efc34b8c637b"
      },
      "execution_count": null,
      "outputs": [
        {
          "output_type": "execute_result",
          "data": {
            "text/plain": [
              "3"
            ]
          },
          "metadata": {},
          "execution_count": 11
        }
      ]
    },
    {
      "cell_type": "markdown",
      "source": [
        "클로저는 다음 세 가지 조건을 만족하는 *함수*를 지칭한다.\n",
        "\n",
        "1. 함수 안에 함수여야 한다. 즉, nested function\n",
        "2. 이것을 감싸고 있는 바깥 스코프의 상태를 참조하여아 한다. \n",
        "3. 이것을 감싸고 있는 함수는 반드시 이것을 반환하여야 한다.\n",
        "\n",
        "❓뭔데이거\n",
        "\n",
        "신기하다...! 클로저가 `factorial`과 `square` 별로 각자의 `cache`를 가지고 있다. 함수 호출을 하여 리턴을 받아냈음에도 `in_cache`의 상태가 초기화 되지 않았다. \n",
        "\n",
        "웃긴건, 중간에 클로저 자체를 `del` 내장함수를 사용해 삭제해 버려도 새로운 클로저를 생성하지 못할 뿐이지, 이전에 생성했던 클로저와 내부상태는 아직도 메모리에 상주해 있다."
      ],
      "metadata": {
        "id": "vY9aL95onU09"
      }
    },
    {
      "cell_type": "code",
      "source": [
        "def in_cache(func):\n",
        "    cache = {}\n",
        "    def wrapper(n):\n",
        "        print(f'DEBUG ---> n: {n}, cache: {cache}')\n",
        "        if n in cache:\n",
        "            print('DEBUG ---> CACHE HIT')\n",
        "            return cache[n]\n",
        "        else:\n",
        "            print('DEBUG ---> CACHE MISS')\n",
        "            cache[n] = func(n)\n",
        "            return cache[n]\n",
        "    return wrapper\n",
        "\n",
        "def factorial(n):\n",
        "    ret = 1\n",
        "    for i in range(1, n + 1):\n",
        "        ret *= i\n",
        "    return ret\n",
        "\n",
        "def square(n):\n",
        "    return n ** 2\n",
        "\n",
        "\n",
        "# without using decorator, let's use closure then!\n",
        "factorial = in_cache(factorial)\n",
        "\n",
        "factorial(3)\n",
        "factorial(5)\n",
        "factorial(10)\n",
        "factorial(15)\n",
        "factorial(15)\n",
        "factorial(15)\n",
        "\n",
        "# Create new closure\n",
        "square = in_cache(square)\n",
        "square(3)\n",
        "square(5)\n",
        "square(10)\n",
        "square(15)\n",
        "square(15)\n",
        "square(15)\n",
        "\n",
        "# prev closure still remains valid!\n",
        "factorial(15)\n",
        "square(15)\n",
        "\n",
        "# What if we literally **kill** `in_cache`??? Had prev closures affected???\n",
        "# del(in_cache)  # commented because I'm using `in_cache` below\n",
        "# factorial(15)\n",
        "# square(15)"
      ],
      "metadata": {
        "id": "EkrBIpeOmHIt",
        "colab": {
          "base_uri": "https://localhost:8080/"
        },
        "outputId": "ee47aa2b-86a0-41f3-cfcc-e1b843ddff9d"
      },
      "execution_count": 97,
      "outputs": [
        {
          "output_type": "stream",
          "name": "stdout",
          "text": [
            "DEBUG ---> n: 3, cache: {}\n",
            "DEBUG ---> CACHE MISS\n",
            "DEBUG ---> n: 5, cache: {3: 6}\n",
            "DEBUG ---> CACHE MISS\n",
            "DEBUG ---> n: 10, cache: {3: 6, 5: 120}\n",
            "DEBUG ---> CACHE MISS\n",
            "DEBUG ---> n: 15, cache: {3: 6, 5: 120, 10: 3628800}\n",
            "DEBUG ---> CACHE MISS\n",
            "DEBUG ---> n: 15, cache: {3: 6, 5: 120, 10: 3628800, 15: 1307674368000}\n",
            "DEBUG ---> CACHE HIT\n",
            "DEBUG ---> n: 15, cache: {3: 6, 5: 120, 10: 3628800, 15: 1307674368000}\n",
            "DEBUG ---> CACHE HIT\n",
            "DEBUG ---> n: 3, cache: {}\n",
            "DEBUG ---> CACHE MISS\n",
            "DEBUG ---> n: 5, cache: {3: 9}\n",
            "DEBUG ---> CACHE MISS\n",
            "DEBUG ---> n: 10, cache: {3: 9, 5: 25}\n",
            "DEBUG ---> CACHE MISS\n",
            "DEBUG ---> n: 15, cache: {3: 9, 5: 25, 10: 100}\n",
            "DEBUG ---> CACHE MISS\n",
            "DEBUG ---> n: 15, cache: {3: 9, 5: 25, 10: 100, 15: 225}\n",
            "DEBUG ---> CACHE HIT\n",
            "DEBUG ---> n: 15, cache: {3: 9, 5: 25, 10: 100, 15: 225}\n",
            "DEBUG ---> CACHE HIT\n",
            "DEBUG ---> n: 15, cache: {3: 6, 5: 120, 10: 3628800, 15: 1307674368000}\n",
            "DEBUG ---> CACHE HIT\n",
            "DEBUG ---> n: 15, cache: {3: 9, 5: 25, 10: 100, 15: 225}\n",
            "DEBUG ---> CACHE HIT\n"
          ]
        },
        {
          "output_type": "execute_result",
          "data": {
            "text/plain": [
              "225"
            ]
          },
          "metadata": {},
          "execution_count": 97
        }
      ]
    },
    {
      "cell_type": "markdown",
      "source": [
        "## __closure__ magic member(?)\n",
        "\n",
        "모든 함수(클로저 포함)는 `__closure__` 변수를 자동으로 가지고 있다. 이 친구는 클로저가 참조하고 있는 enclosing scope의 상태를 tuple 형태로 보관하고 있다. `__closure__` 원소는 `cell`로, 실제 값을 가리키고 있는 일종의 포인터 개념인 것 같다. 아직 잘 모르겠음.\n",
        "\n",
        "- [stackoverflow의 답변](https://stackoverflow.com/a/23830790)\n",
        "- [freevar?](https://en.wikipedia.org/wiki/Free_variables_and_bound_variables)\n",
        "- `__code__.co_cellvars`\n",
        "    - 함수의 로컬 변수들의 이름을 저장\n",
        "- `__code__.co_freevars`\n",
        "    - 함수의 자유 변수들의 이름을 저장\n",
        "- `__closure__.cell_contents`\n",
        "    - 클로저의 자유 변수들의 컨텐츠를 저장"
      ],
      "metadata": {
        "id": "O2b_-OZAtlsx"
      }
    },
    {
      "cell_type": "code",
      "source": [
        "def times_mult(n):\n",
        "    a = ['a']\n",
        "    b = 2\n",
        "    def mult(x):\n",
        "        a.append('b')\n",
        "        b\n",
        "        return n * x\n",
        "    return mult\n",
        "print(f'times_mult keep those local vars : {times_mult.__code__.co_cellvars}')\n",
        "\n",
        "times3 = times_mult(3)\n",
        "print('times3, a closure that is instantiated from `times_mult` has free vars.')\n",
        "print('free vars are INDEPENDENT from `times_mult`. so this attr still alives!')\n",
        "print(times3.__code__.co_freevars, \"\\n\")\n",
        "\n",
        "print(f'__closure__ attr gives tule of `cell` objects: \\n{times3.__closure__}\\n')\n",
        "print(f'__closure__ object can be unpacked via `cell_contents`:')\n",
        "print(f'cell_contents: {[e.cell_contents for e in times3.__closure__]}')\n",
        "print(times3(4))\n",
        "print(f'cell_contents: {[e.cell_contents for e in times3.__closure__]}')\n",
        "print(times3(5))\n",
        "print(f'cell_contents: {[e.cell_contents for e in times3.__closure__]}')\n",
        "\n",
        "print('\\nwe can combine free vars with name and its content!')\n",
        "print(pretty({v : c.cell_contents for v, c in zip(\n",
        "    times3.__code__.co_freevars,\n",
        "    times3.__closure__\n",
        ")}))"
      ],
      "metadata": {
        "id": "TfrUMFCrtz9Q",
        "colab": {
          "base_uri": "https://localhost:8080/"
        },
        "outputId": "45d6312a-417e-4f39-dffb-f9a641f30698"
      },
      "execution_count": 89,
      "outputs": [
        {
          "output_type": "stream",
          "name": "stdout",
          "text": [
            "times_mult keep those local vars : ('a', 'b', 'n')\n",
            "times3, a closure that is instantiated from `times_mult` has free vars.\n",
            "free vars are INDEPENDENT from `times_mult`. so this attr still alives!\n",
            "('a', 'b', 'n') \n",
            "\n",
            "__closure__ attr gives tule of `cell` objects: \n",
            "(<cell at 0x7fae19756fe0: list object at 0x7fae206de5c0>, <cell at 0x7fae19756110: int object at 0x7fae36950110>, <cell at 0x7fae18420460: int object at 0x7fae36950130>)\n",
            "\n",
            "__closure__ object can be unpacked via `cell_contents`:\n",
            "cell_contents: [['a'], 2, 3]\n",
            "12\n",
            "cell_contents: [['a', 'b'], 2, 3]\n",
            "15\n",
            "cell_contents: [['a', 'b', 'b'], 2, 3]\n",
            "\n",
            "we can combine free vars with name and its content!\n",
            "{\n",
            "\t\"a\": ['a', 'b', 'b'],\n",
            "\t\"b\": 2,\n",
            "\t\"n\": 3\n",
            "}\n"
          ]
        }
      ]
    },
    {
      "cell_type": "markdown",
      "source": [
        "## Decorators are closure!\n",
        "\n",
        "그래서, 위에 작성한 `factorial` 함수에 데코레이터를 붙여 전역변수를 사용하지 않고도 자유변수만으로 메모아이제이션을 수행할 수 있게 되었다. 개쩐다!!!\n"
      ],
      "metadata": {
        "id": "uPUukaJ_8I6p"
      }
    },
    {
      "cell_type": "code",
      "source": [
        "@in_cache\n",
        "def factorial2(n):\n",
        "    if n <= 1:\n",
        "        return 1\n",
        "    return n * factorial2(n-1)\n",
        "\n",
        "factorial2(3)\n",
        "factorial2(3)\n",
        "factorial2(4)\n",
        "factorial2(10)\n",
        "factorial2(9)"
      ],
      "metadata": {
        "colab": {
          "base_uri": "https://localhost:8080/"
        },
        "id": "8TtGhx8k-KuD",
        "outputId": "39fe6995-12ec-459d-a05c-1b2e92c03e0f"
      },
      "execution_count": 102,
      "outputs": [
        {
          "output_type": "stream",
          "name": "stdout",
          "text": [
            "DEBUG ---> n: 3, cache: {}\n",
            "DEBUG ---> CACHE MISS\n",
            "DEBUG ---> n: 2, cache: {}\n",
            "DEBUG ---> CACHE MISS\n",
            "DEBUG ---> n: 1, cache: {}\n",
            "DEBUG ---> CACHE MISS\n",
            "DEBUG ---> n: 3, cache: {1: 1, 2: 2, 3: 6}\n",
            "DEBUG ---> CACHE HIT\n",
            "DEBUG ---> n: 4, cache: {1: 1, 2: 2, 3: 6}\n",
            "DEBUG ---> CACHE MISS\n",
            "DEBUG ---> n: 3, cache: {1: 1, 2: 2, 3: 6}\n",
            "DEBUG ---> CACHE HIT\n",
            "DEBUG ---> n: 10, cache: {1: 1, 2: 2, 3: 6, 4: 24}\n",
            "DEBUG ---> CACHE MISS\n",
            "DEBUG ---> n: 9, cache: {1: 1, 2: 2, 3: 6, 4: 24}\n",
            "DEBUG ---> CACHE MISS\n",
            "DEBUG ---> n: 8, cache: {1: 1, 2: 2, 3: 6, 4: 24}\n",
            "DEBUG ---> CACHE MISS\n",
            "DEBUG ---> n: 7, cache: {1: 1, 2: 2, 3: 6, 4: 24}\n",
            "DEBUG ---> CACHE MISS\n",
            "DEBUG ---> n: 6, cache: {1: 1, 2: 2, 3: 6, 4: 24}\n",
            "DEBUG ---> CACHE MISS\n",
            "DEBUG ---> n: 5, cache: {1: 1, 2: 2, 3: 6, 4: 24}\n",
            "DEBUG ---> CACHE MISS\n",
            "DEBUG ---> n: 4, cache: {1: 1, 2: 2, 3: 6, 4: 24}\n",
            "DEBUG ---> CACHE HIT\n",
            "DEBUG ---> n: 9, cache: {1: 1, 2: 2, 3: 6, 4: 24, 5: 120, 6: 720, 7: 5040, 8: 40320, 9: 362880, 10: 3628800}\n",
            "DEBUG ---> CACHE HIT\n"
          ]
        },
        {
          "output_type": "execute_result",
          "data": {
            "text/plain": [
              "362880"
            ]
          },
          "metadata": {},
          "execution_count": 102
        }
      ]
    },
    {
      "cell_type": "markdown",
      "source": [
        "더군다나, `in_cache`는 그 자체로 구체적인 사항을 가진 클로저가 하나도 없기 때문에(오직 메모아이제이션만) 다른 알고리즘을 구현한 함수에서도 아주 간편하게 메모아이제이션을 사용하도록 그 저시기를 바꿀 수 있다."
      ],
      "metadata": {
        "id": "5DXiR6PNAZjQ"
      }
    },
    {
      "cell_type": "code",
      "source": [
        "@in_cache\n",
        "def sum_zero_to(n):\n",
        "    if n < 1:\n",
        "        return 0\n",
        "    return n + sum_zero_to(n - 1)\n",
        "\n",
        "sum_zero_to(5)\n",
        "sum_zero_to(5)\n",
        "sum_zero_to(10)\n",
        "sum_zero_to(9)"
      ],
      "metadata": {
        "colab": {
          "base_uri": "https://localhost:8080/"
        },
        "id": "OPnJHIxqAz7h",
        "outputId": "aede7e14-fa00-4ab1-bf4e-8d2786154adc"
      },
      "execution_count": 103,
      "outputs": [
        {
          "output_type": "stream",
          "name": "stdout",
          "text": [
            "DEBUG ---> n: 5, cache: {}\n",
            "DEBUG ---> CACHE MISS\n",
            "DEBUG ---> n: 4, cache: {}\n",
            "DEBUG ---> CACHE MISS\n",
            "DEBUG ---> n: 3, cache: {}\n",
            "DEBUG ---> CACHE MISS\n",
            "DEBUG ---> n: 2, cache: {}\n",
            "DEBUG ---> CACHE MISS\n",
            "DEBUG ---> n: 1, cache: {}\n",
            "DEBUG ---> CACHE MISS\n",
            "DEBUG ---> n: 0, cache: {}\n",
            "DEBUG ---> CACHE MISS\n",
            "DEBUG ---> n: 5, cache: {0: 0, 1: 1, 2: 3, 3: 6, 4: 10, 5: 15}\n",
            "DEBUG ---> CACHE HIT\n",
            "DEBUG ---> n: 10, cache: {0: 0, 1: 1, 2: 3, 3: 6, 4: 10, 5: 15}\n",
            "DEBUG ---> CACHE MISS\n",
            "DEBUG ---> n: 9, cache: {0: 0, 1: 1, 2: 3, 3: 6, 4: 10, 5: 15}\n",
            "DEBUG ---> CACHE MISS\n",
            "DEBUG ---> n: 8, cache: {0: 0, 1: 1, 2: 3, 3: 6, 4: 10, 5: 15}\n",
            "DEBUG ---> CACHE MISS\n",
            "DEBUG ---> n: 7, cache: {0: 0, 1: 1, 2: 3, 3: 6, 4: 10, 5: 15}\n",
            "DEBUG ---> CACHE MISS\n",
            "DEBUG ---> n: 6, cache: {0: 0, 1: 1, 2: 3, 3: 6, 4: 10, 5: 15}\n",
            "DEBUG ---> CACHE MISS\n",
            "DEBUG ---> n: 5, cache: {0: 0, 1: 1, 2: 3, 3: 6, 4: 10, 5: 15}\n",
            "DEBUG ---> CACHE HIT\n",
            "DEBUG ---> n: 9, cache: {0: 0, 1: 1, 2: 3, 3: 6, 4: 10, 5: 15, 6: 21, 7: 28, 8: 36, 9: 45, 10: 55}\n",
            "DEBUG ---> CACHE HIT\n"
          ]
        },
        {
          "output_type": "execute_result",
          "data": {
            "text/plain": [
              "45"
            ]
          },
          "metadata": {},
          "execution_count": 103
        }
      ]
    }
  ]
}